{
 "cells": [
  {
   "cell_type": "markdown",
   "id": "6ed7177a",
   "metadata": {},
   "source": [
    "# Exploratory data analysis (EDA) on Electric Vehicle"
   ]
  },
  {
   "cell_type": "code",
   "execution_count": 2,
   "id": "438049f9",
   "metadata": {},
   "outputs": [],
   "source": [
    "# Import necessary libraries\n",
    "import pandas as pd  # For data manipulation\n",
    "import numpy as np   # For numerical operations\n",
    "import matplotlib.pyplot as plt  # For data visualization\n",
    "import seaborn as sns  # For advanced data visualization\n",
    "\n",
    "# Set seaborn theme\n",
    "sns.set_theme(style=\"whitegrid\")\n",
    "\n"
   ]
  },
  {
   "cell_type": "code",
   "execution_count": 3,
   "id": "d0784daa",
   "metadata": {},
   "outputs": [
    {
     "data": {
      "text/html": [
       "<div>\n",
       "<style scoped>\n",
       "    .dataframe tbody tr th:only-of-type {\n",
       "        vertical-align: middle;\n",
       "    }\n",
       "\n",
       "    .dataframe tbody tr th {\n",
       "        vertical-align: top;\n",
       "    }\n",
       "\n",
       "    .dataframe thead th {\n",
       "        text-align: right;\n",
       "    }\n",
       "</style>\n",
       "<table border=\"1\" class=\"dataframe\">\n",
       "  <thead>\n",
       "    <tr style=\"text-align: right;\">\n",
       "      <th></th>\n",
       "      <th>VIN (1-10)</th>\n",
       "      <th>County</th>\n",
       "      <th>City</th>\n",
       "      <th>State</th>\n",
       "      <th>Postal Code</th>\n",
       "      <th>Model Year</th>\n",
       "      <th>Make</th>\n",
       "      <th>Model</th>\n",
       "      <th>Electric Vehicle Type</th>\n",
       "      <th>Clean Alternative Fuel Vehicle (CAFV) Eligibility</th>\n",
       "      <th>Electric Range</th>\n",
       "      <th>Base MSRP</th>\n",
       "      <th>Legislative District</th>\n",
       "      <th>DOL Vehicle ID</th>\n",
       "      <th>Vehicle Location</th>\n",
       "      <th>Electric Utility</th>\n",
       "      <th>2020 Census Tract</th>\n",
       "    </tr>\n",
       "  </thead>\n",
       "  <tbody>\n",
       "    <tr>\n",
       "      <th>0</th>\n",
       "      <td>JTMEB3FV6N</td>\n",
       "      <td>Monroe</td>\n",
       "      <td>Key West</td>\n",
       "      <td>FL</td>\n",
       "      <td>33040</td>\n",
       "      <td>2022</td>\n",
       "      <td>TOYOTA</td>\n",
       "      <td>RAV4 PRIME</td>\n",
       "      <td>Plug-in Hybrid Electric Vehicle (PHEV)</td>\n",
       "      <td>Clean Alternative Fuel Vehicle Eligible</td>\n",
       "      <td>42</td>\n",
       "      <td>0</td>\n",
       "      <td>NaN</td>\n",
       "      <td>198968248</td>\n",
       "      <td>POINT (-81.80023 24.5545)</td>\n",
       "      <td>NaN</td>\n",
       "      <td>12087972100</td>\n",
       "    </tr>\n",
       "    <tr>\n",
       "      <th>1</th>\n",
       "      <td>1G1RD6E45D</td>\n",
       "      <td>Clark</td>\n",
       "      <td>Laughlin</td>\n",
       "      <td>NV</td>\n",
       "      <td>89029</td>\n",
       "      <td>2013</td>\n",
       "      <td>CHEVROLET</td>\n",
       "      <td>VOLT</td>\n",
       "      <td>Plug-in Hybrid Electric Vehicle (PHEV)</td>\n",
       "      <td>Clean Alternative Fuel Vehicle Eligible</td>\n",
       "      <td>38</td>\n",
       "      <td>0</td>\n",
       "      <td>NaN</td>\n",
       "      <td>5204412</td>\n",
       "      <td>POINT (-114.57245 35.16815)</td>\n",
       "      <td>NaN</td>\n",
       "      <td>32003005702</td>\n",
       "    </tr>\n",
       "    <tr>\n",
       "      <th>2</th>\n",
       "      <td>JN1AZ0CP8B</td>\n",
       "      <td>Yakima</td>\n",
       "      <td>Yakima</td>\n",
       "      <td>WA</td>\n",
       "      <td>98901</td>\n",
       "      <td>2011</td>\n",
       "      <td>NISSAN</td>\n",
       "      <td>LEAF</td>\n",
       "      <td>Battery Electric Vehicle (BEV)</td>\n",
       "      <td>Clean Alternative Fuel Vehicle Eligible</td>\n",
       "      <td>73</td>\n",
       "      <td>0</td>\n",
       "      <td>15.0</td>\n",
       "      <td>218972519</td>\n",
       "      <td>POINT (-120.50721 46.60448)</td>\n",
       "      <td>PACIFICORP</td>\n",
       "      <td>53077001602</td>\n",
       "    </tr>\n",
       "    <tr>\n",
       "      <th>3</th>\n",
       "      <td>1G1FW6S08H</td>\n",
       "      <td>Skagit</td>\n",
       "      <td>Concrete</td>\n",
       "      <td>WA</td>\n",
       "      <td>98237</td>\n",
       "      <td>2017</td>\n",
       "      <td>CHEVROLET</td>\n",
       "      <td>BOLT EV</td>\n",
       "      <td>Battery Electric Vehicle (BEV)</td>\n",
       "      <td>Clean Alternative Fuel Vehicle Eligible</td>\n",
       "      <td>238</td>\n",
       "      <td>0</td>\n",
       "      <td>39.0</td>\n",
       "      <td>186750406</td>\n",
       "      <td>POINT (-121.7515 48.53892)</td>\n",
       "      <td>PUGET SOUND ENERGY INC</td>\n",
       "      <td>53057951101</td>\n",
       "    </tr>\n",
       "    <tr>\n",
       "      <th>4</th>\n",
       "      <td>3FA6P0SU1K</td>\n",
       "      <td>Snohomish</td>\n",
       "      <td>Everett</td>\n",
       "      <td>WA</td>\n",
       "      <td>98201</td>\n",
       "      <td>2019</td>\n",
       "      <td>FORD</td>\n",
       "      <td>FUSION</td>\n",
       "      <td>Plug-in Hybrid Electric Vehicle (PHEV)</td>\n",
       "      <td>Not eligible due to low battery range</td>\n",
       "      <td>26</td>\n",
       "      <td>0</td>\n",
       "      <td>38.0</td>\n",
       "      <td>2006714</td>\n",
       "      <td>POINT (-122.20596 47.97659)</td>\n",
       "      <td>PUGET SOUND ENERGY INC</td>\n",
       "      <td>53061041500</td>\n",
       "    </tr>\n",
       "  </tbody>\n",
       "</table>\n",
       "</div>"
      ],
      "text/plain": [
       "   VIN (1-10)     County      City State  Postal Code  Model Year       Make  \\\n",
       "0  JTMEB3FV6N     Monroe  Key West    FL        33040        2022     TOYOTA   \n",
       "1  1G1RD6E45D      Clark  Laughlin    NV        89029        2013  CHEVROLET   \n",
       "2  JN1AZ0CP8B     Yakima    Yakima    WA        98901        2011     NISSAN   \n",
       "3  1G1FW6S08H     Skagit  Concrete    WA        98237        2017  CHEVROLET   \n",
       "4  3FA6P0SU1K  Snohomish   Everett    WA        98201        2019       FORD   \n",
       "\n",
       "        Model                   Electric Vehicle Type  \\\n",
       "0  RAV4 PRIME  Plug-in Hybrid Electric Vehicle (PHEV)   \n",
       "1        VOLT  Plug-in Hybrid Electric Vehicle (PHEV)   \n",
       "2        LEAF          Battery Electric Vehicle (BEV)   \n",
       "3     BOLT EV          Battery Electric Vehicle (BEV)   \n",
       "4      FUSION  Plug-in Hybrid Electric Vehicle (PHEV)   \n",
       "\n",
       "  Clean Alternative Fuel Vehicle (CAFV) Eligibility  Electric Range  \\\n",
       "0           Clean Alternative Fuel Vehicle Eligible              42   \n",
       "1           Clean Alternative Fuel Vehicle Eligible              38   \n",
       "2           Clean Alternative Fuel Vehicle Eligible              73   \n",
       "3           Clean Alternative Fuel Vehicle Eligible             238   \n",
       "4             Not eligible due to low battery range              26   \n",
       "\n",
       "   Base MSRP  Legislative District  DOL Vehicle ID  \\\n",
       "0          0                   NaN       198968248   \n",
       "1          0                   NaN         5204412   \n",
       "2          0                  15.0       218972519   \n",
       "3          0                  39.0       186750406   \n",
       "4          0                  38.0         2006714   \n",
       "\n",
       "              Vehicle Location        Electric Utility  2020 Census Tract  \n",
       "0    POINT (-81.80023 24.5545)                     NaN        12087972100  \n",
       "1  POINT (-114.57245 35.16815)                     NaN        32003005702  \n",
       "2  POINT (-120.50721 46.60448)              PACIFICORP        53077001602  \n",
       "3   POINT (-121.7515 48.53892)  PUGET SOUND ENERGY INC        53057951101  \n",
       "4  POINT (-122.20596 47.97659)  PUGET SOUND ENERGY INC        53061041500  "
      ]
     },
     "execution_count": 3,
     "metadata": {},
     "output_type": "execute_result"
    }
   ],
   "source": [
    "# Load the dataset\n",
    "df = pd.read_csv('dataset.csv')\n",
    "\n",
    "# Check the first few rows of the dataset\n",
    "df.head()\n"
   ]
  },
  {
   "cell_type": "code",
   "execution_count": 4,
   "id": "6c16e06f",
   "metadata": {},
   "outputs": [
    {
     "name": "stdout",
     "output_type": "stream",
     "text": [
      "Dataset Shape: (112634, 17)\n",
      "<class 'pandas.core.frame.DataFrame'>\n",
      "RangeIndex: 112634 entries, 0 to 112633\n",
      "Data columns (total 17 columns):\n",
      " #   Column                                             Non-Null Count   Dtype  \n",
      "---  ------                                             --------------   -----  \n",
      " 0   VIN (1-10)                                         112634 non-null  object \n",
      " 1   County                                             112634 non-null  object \n",
      " 2   City                                               112634 non-null  object \n",
      " 3   State                                              112634 non-null  object \n",
      " 4   Postal Code                                        112634 non-null  int64  \n",
      " 5   Model Year                                         112634 non-null  int64  \n",
      " 6   Make                                               112634 non-null  object \n",
      " 7   Model                                              112614 non-null  object \n",
      " 8   Electric Vehicle Type                              112634 non-null  object \n",
      " 9   Clean Alternative Fuel Vehicle (CAFV) Eligibility  112634 non-null  object \n",
      " 10  Electric Range                                     112634 non-null  int64  \n",
      " 11  Base MSRP                                          112634 non-null  int64  \n",
      " 12  Legislative District                               112348 non-null  float64\n",
      " 13  DOL Vehicle ID                                     112634 non-null  int64  \n",
      " 14  Vehicle Location                                   112610 non-null  object \n",
      " 15  Electric Utility                                   112191 non-null  object \n",
      " 16  2020 Census Tract                                  112634 non-null  int64  \n",
      "dtypes: float64(1), int64(6), object(10)\n",
      "memory usage: 14.6+ MB\n"
     ]
    },
    {
     "data": {
      "text/html": [
       "<div>\n",
       "<style scoped>\n",
       "    .dataframe tbody tr th:only-of-type {\n",
       "        vertical-align: middle;\n",
       "    }\n",
       "\n",
       "    .dataframe tbody tr th {\n",
       "        vertical-align: top;\n",
       "    }\n",
       "\n",
       "    .dataframe thead th {\n",
       "        text-align: right;\n",
       "    }\n",
       "</style>\n",
       "<table border=\"1\" class=\"dataframe\">\n",
       "  <thead>\n",
       "    <tr style=\"text-align: right;\">\n",
       "      <th></th>\n",
       "      <th>Postal Code</th>\n",
       "      <th>Model Year</th>\n",
       "      <th>Electric Range</th>\n",
       "      <th>Base MSRP</th>\n",
       "      <th>Legislative District</th>\n",
       "      <th>DOL Vehicle ID</th>\n",
       "      <th>2020 Census Tract</th>\n",
       "    </tr>\n",
       "  </thead>\n",
       "  <tbody>\n",
       "    <tr>\n",
       "      <th>count</th>\n",
       "      <td>112634.000000</td>\n",
       "      <td>112634.000000</td>\n",
       "      <td>112634.000000</td>\n",
       "      <td>112634.000000</td>\n",
       "      <td>112348.000000</td>\n",
       "      <td>1.126340e+05</td>\n",
       "      <td>1.126340e+05</td>\n",
       "    </tr>\n",
       "    <tr>\n",
       "      <th>mean</th>\n",
       "      <td>98156.226850</td>\n",
       "      <td>2019.003365</td>\n",
       "      <td>87.812987</td>\n",
       "      <td>1793.439681</td>\n",
       "      <td>29.805604</td>\n",
       "      <td>1.994567e+08</td>\n",
       "      <td>5.296650e+10</td>\n",
       "    </tr>\n",
       "    <tr>\n",
       "      <th>std</th>\n",
       "      <td>2648.733064</td>\n",
       "      <td>2.892364</td>\n",
       "      <td>102.334216</td>\n",
       "      <td>10783.753486</td>\n",
       "      <td>14.700545</td>\n",
       "      <td>9.398427e+07</td>\n",
       "      <td>1.699104e+09</td>\n",
       "    </tr>\n",
       "    <tr>\n",
       "      <th>min</th>\n",
       "      <td>1730.000000</td>\n",
       "      <td>1997.000000</td>\n",
       "      <td>0.000000</td>\n",
       "      <td>0.000000</td>\n",
       "      <td>1.000000</td>\n",
       "      <td>4.777000e+03</td>\n",
       "      <td>1.101001e+09</td>\n",
       "    </tr>\n",
       "    <tr>\n",
       "      <th>25%</th>\n",
       "      <td>98052.000000</td>\n",
       "      <td>2017.000000</td>\n",
       "      <td>0.000000</td>\n",
       "      <td>0.000000</td>\n",
       "      <td>18.000000</td>\n",
       "      <td>1.484142e+08</td>\n",
       "      <td>5.303301e+10</td>\n",
       "    </tr>\n",
       "    <tr>\n",
       "      <th>50%</th>\n",
       "      <td>98119.000000</td>\n",
       "      <td>2020.000000</td>\n",
       "      <td>32.000000</td>\n",
       "      <td>0.000000</td>\n",
       "      <td>34.000000</td>\n",
       "      <td>1.923896e+08</td>\n",
       "      <td>5.303303e+10</td>\n",
       "    </tr>\n",
       "    <tr>\n",
       "      <th>75%</th>\n",
       "      <td>98370.000000</td>\n",
       "      <td>2022.000000</td>\n",
       "      <td>208.000000</td>\n",
       "      <td>0.000000</td>\n",
       "      <td>43.000000</td>\n",
       "      <td>2.191899e+08</td>\n",
       "      <td>5.305307e+10</td>\n",
       "    </tr>\n",
       "    <tr>\n",
       "      <th>max</th>\n",
       "      <td>99701.000000</td>\n",
       "      <td>2023.000000</td>\n",
       "      <td>337.000000</td>\n",
       "      <td>845000.000000</td>\n",
       "      <td>49.000000</td>\n",
       "      <td>4.792548e+08</td>\n",
       "      <td>5.603300e+10</td>\n",
       "    </tr>\n",
       "  </tbody>\n",
       "</table>\n",
       "</div>"
      ],
      "text/plain": [
       "         Postal Code     Model Year  Electric Range      Base MSRP  \\\n",
       "count  112634.000000  112634.000000   112634.000000  112634.000000   \n",
       "mean    98156.226850    2019.003365       87.812987    1793.439681   \n",
       "std      2648.733064       2.892364      102.334216   10783.753486   \n",
       "min      1730.000000    1997.000000        0.000000       0.000000   \n",
       "25%     98052.000000    2017.000000        0.000000       0.000000   \n",
       "50%     98119.000000    2020.000000       32.000000       0.000000   \n",
       "75%     98370.000000    2022.000000      208.000000       0.000000   \n",
       "max     99701.000000    2023.000000      337.000000  845000.000000   \n",
       "\n",
       "       Legislative District  DOL Vehicle ID  2020 Census Tract  \n",
       "count         112348.000000    1.126340e+05       1.126340e+05  \n",
       "mean              29.805604    1.994567e+08       5.296650e+10  \n",
       "std               14.700545    9.398427e+07       1.699104e+09  \n",
       "min                1.000000    4.777000e+03       1.101001e+09  \n",
       "25%               18.000000    1.484142e+08       5.303301e+10  \n",
       "50%               34.000000    1.923896e+08       5.303303e+10  \n",
       "75%               43.000000    2.191899e+08       5.305307e+10  \n",
       "max               49.000000    4.792548e+08       5.603300e+10  "
      ]
     },
     "execution_count": 4,
     "metadata": {},
     "output_type": "execute_result"
    }
   ],
   "source": [
    "# Check the shape (number of rows and columns)\n",
    "print(f\"Dataset Shape: {df.shape}\")\n",
    "\n",
    "# Get general info about the dataset\n",
    "df.info()\n",
    "\n",
    "# Get summary statistics\n",
    "df.describe()\n"
   ]
  },
  {
   "cell_type": "markdown",
   "id": "4092ed63",
   "metadata": {},
   "source": [
    "# Task - 1"
   ]
  },
  {
   "cell_type": "markdown",
   "id": "cc710270",
   "metadata": {},
   "source": [
    "# Univariate Analysis:\n",
    "## Focuses on understanding individual variables. You can perform descriptive statistics and visualizations for each variable in your dataset.\n",
    "### Numerical variables"
   ]
  },
  {
   "cell_type": "markdown",
   "id": "c6a341ae",
   "metadata": {},
   "source": [
    "## Compute summary statistics (mean, median, standard deviation).\n",
    "## Visualize the distribution using histograms or box plots"
   ]
  },
  {
   "cell_type": "code",
   "execution_count": 9,
   "id": "cc176b0a",
   "metadata": {},
   "outputs": [
    {
     "data": {
      "text/plain": [
       "count    112634.000000\n",
       "mean         87.812987\n",
       "std         102.334216\n",
       "min           0.000000\n",
       "25%           0.000000\n",
       "50%          32.000000\n",
       "75%         208.000000\n",
       "max         337.000000\n",
       "Name: Electric Range, dtype: float64"
      ]
     },
     "execution_count": 9,
     "metadata": {},
     "output_type": "execute_result"
    }
   ],
   "source": [
    "df['Electric Range'].describe()"
   ]
  },
  {
   "cell_type": "code",
   "execution_count": 8,
   "id": "ab8d1d40",
   "metadata": {},
   "outputs": [
    {
     "data": {
      "image/png": "[encoded data removed]",
      "text/plain": [
       "<Figure size 640x480 with 1 Axes>"
      ]
     },
     "metadata": {},
     "output_type": "display_data"
    },
    {
     "data": {
      "image/png": "[encoded data removed]",
      "text/plain": [
       "<Figure size 640x480 with 1 Axes>"
      ]
     },
     "metadata": {},
     "output_type": "display_data"
    }
   ],
   "source": [
    "# Histogram to visualize distribution\n",
    "df['Electric Range'].hist(bins=20)\n",
    "plt.title('Distribution of Electric Range')\n",
    "plt.xlabel('Electric Range (Miles)')\n",
    "plt.ylabel('Frequency')\n",
    "plt.show()\n",
    "\n",
    "# Boxplot to check for outliers\n",
    "sns.boxplot(df['Electric Range'])\n",
    "plt.title('Boxplot of Electric Range')\n",
    "plt.show()\n"
   ]
  },
  {
   "cell_type": "code",
   "execution_count": 10,
   "id": "9c14cd4d",
   "metadata": {},
   "outputs": [
    {
     "data": {
      "text/plain": [
       "count    112634.000000\n",
       "mean       2019.003365\n",
       "std           2.892364\n",
       "min        1997.000000\n",
       "25%        2017.000000\n",
       "50%        2020.000000\n",
       "75%        2022.000000\n",
       "max        2023.000000\n",
       "Name: Model Year, dtype: float64"
      ]
     },
     "execution_count": 10,
     "metadata": {},
     "output_type": "execute_result"
    }
   ],
   "source": [
    "# Univariate analysis of Electric Range\n",
    "df['Model Year'].describe()"
   ]
  },
  {
   "cell_type": "code",
   "execution_count": 11,
   "id": "73325ac1",
   "metadata": {},
   "outputs": [
    {
     "data": {
      "image/png": "[encoded data removed]",
      "text/plain": [
       "<Figure size 640x480 with 1 Axes>"
      ]
     },
     "metadata": {},
     "output_type": "display_data"
    },
    {
     "data": {
      "image/png": "[encoded data removed]",
      "text/plain": [
       "<Figure size 640x480 with 1 Axes>"
      ]
     },
     "metadata": {},
     "output_type": "display_data"
    }
   ],
   "source": [
    "# Histogram to visualize the distribution of Model Year\n",
    "df['Model Year'].hist(bins=10)\n",
    "plt.title('Distribution of Model Year')\n",
    "plt.xlabel('Model Year')\n",
    "plt.ylabel('Frequency')\n",
    "plt.show()\n",
    "\n",
    "# Boxplot to check for outliers in Model Year\n",
    "sns.boxplot(df['Model Year'])\n",
    "plt.title('Boxplot of Model Year')\n",
    "plt.show()\n"
   ]
  },
  {
   "cell_type": "markdown",
   "id": "bfa68bde",
   "metadata": {},
   "source": [
    "# Univariate Analysis: Categorical Variables"
   ]
  },
  {
   "cell_type": "code",
   "execution_count": 12,
   "id": "fbdca1b1",
   "metadata": {},
   "outputs": [
    {
     "name": "stdout",
     "output_type": "stream",
     "text": [
      "County\n",
      "King         59000\n",
      "Snohomish    12434\n",
      "Pierce        8535\n",
      "Clark         6689\n",
      "Thurston      4126\n",
      "Name: count, dtype: int64\n"
     ]
    },
    {
     "data": {
      "image/png": "[encoded data removed]",
      "text/plain": [
       "<Figure size 1000x600 with 1 Axes>"
      ]
     },
     "metadata": {},
     "output_type": "display_data"
    }
   ],
   "source": [
    "# Check the frequency of each County\n",
    "county_counts = df['County'].value_counts()\n",
    "print(county_counts.head())  # Display top counties\n",
    "\n",
    "# Plot a bar chart for the top 10 most frequent counties\n",
    "plt.figure(figsize=(10, 6))\n",
    "sns.barplot(x=county_counts.head(10).index, y=county_counts.head(10).values)\n",
    "plt.title('Top 10 Counties by Frequency')\n",
    "plt.xlabel('County')\n",
    "plt.ylabel('Frequency')\n",
    "plt.xticks(rotation=45)\n",
    "plt.show()\n"
   ]
  },
  {
   "cell_type": "code",
   "execution_count": 13,
   "id": "d8f52033",
   "metadata": {},
   "outputs": [
    {
     "name": "stdout",
     "output_type": "stream",
     "text": [
      "Electric Vehicle Type\n",
      "Battery Electric Vehicle (BEV)            86044\n",
      "Plug-in Hybrid Electric Vehicle (PHEV)    26590\n",
      "Name: count, dtype: int64\n"
     ]
    },
    {
     "data": {
      "image/png": "[encoded data removed]",
      "text/plain": [
       "<Figure size 1000x600 with 1 Axes>"
      ]
     },
     "metadata": {},
     "output_type": "display_data"
    }
   ],
   "source": [
    "# Check the frequency of each Electric Vehicle Type\n",
    "ev_type_counts = df['Electric Vehicle Type'].value_counts()\n",
    "print(ev_type_counts)\n",
    "\n",
    "# Plot a bar chart for the frequency of Electric Vehicle Types\n",
    "plt.figure(figsize=(10, 6))\n",
    "sns.barplot(x=ev_type_counts.index, y=ev_type_counts.values)\n",
    "plt.title('Frequency of Electric Vehicle Types')\n",
    "plt.xlabel('Electric Vehicle Type')\n",
    "plt.ylabel('Frequency')\n",
    "plt.xticks(rotation=45)\n",
    "plt.show()\n"
   ]
  },
  {
   "cell_type": "markdown",
   "id": "881e70a8",
   "metadata": {},
   "source": [
    "# Bivariate Analysis:\n",
    "## This explores relationships between two variables."
   ]
  },
  {
   "cell_type": "markdown",
   "id": "8e903925",
   "metadata": {},
   "source": [
    "## Categorical vs. Categorical: State vs. Electric Vehicle Type"
   ]
  },
  {
   "cell_type": "markdown",
   "id": "6c56fd47",
   "metadata": {},
   "source": [
    "### Crosstabulation: Create a contingency table to show how many of each electric vehicle type exists in each state.\n",
    "### Visualization: Use a stacked bar plot or heatmap to visualize the relationship."
   ]
  },
  {
   "cell_type": "code",
   "execution_count": 14,
   "id": "8d606de0",
   "metadata": {},
   "outputs": [
    {
     "data": {
      "image/png": "[encoded data removed]",
      "text/plain": [
       "<Figure size 1200x600 with 1 Axes>"
      ]
     },
     "metadata": {},
     "output_type": "display_data"
    },
    {
     "data": {
      "image/png": "[encoded data removed]",
      "text/plain": [
       "<Figure size 1200x600 with 2 Axes>"
      ]
     },
     "metadata": {},
     "output_type": "display_data"
    }
   ],
   "source": [
    "# Create a crosstab to count Electric Vehicle Type by State\n",
    "crosstab = pd.crosstab(df['State'], df['Electric Vehicle Type'])\n",
    "\n",
    "# Stacked bar plot\n",
    "crosstab.plot(kind='bar', stacked=True, figsize=(12, 6))\n",
    "plt.title('Electric Vehicle Type by State')\n",
    "plt.xlabel('State')\n",
    "plt.ylabel('Count')\n",
    "plt.xticks(rotation=90)\n",
    "plt.legend(title='Electric Vehicle Type')\n",
    "plt.show()\n",
    "\n",
    "# Alternatively, a heatmap\n",
    "plt.figure(figsize=(12, 6))\n",
    "sns.heatmap(crosstab, annot=True, fmt='d', cmap='YlGnBu')\n",
    "plt.title('Heatmap of Electric Vehicle Type by State')\n",
    "plt.xlabel('Electric Vehicle Type')\n",
    "plt.ylabel('State')\n",
    "plt.show()\n"
   ]
  },
  {
   "cell_type": "markdown",
   "id": "095f95d9",
   "metadata": {},
   "source": [
    "## Categorical vs. Numerical:"
   ]
  },
  {
   "cell_type": "markdown",
   "id": "e6c26d7b",
   "metadata": {},
   "source": [
    "## Electric Range vs. Electric Vehicle Type"
   ]
  },
  {
   "cell_type": "code",
   "execution_count": 16,
   "id": "6fd97d4e",
   "metadata": {},
   "outputs": [
    {
     "data": {
      "image/png": "[encoded data removed]",
      "text/plain": [
       "<Figure size 1400x700 with 1 Axes>"
      ]
     },
     "metadata": {},
     "output_type": "display_data"
    }
   ],
   "source": [
    "# Violin plot for Electric Range by Electric Vehicle Type\n",
    "plt.figure(figsize=(14, 7))\n",
    "sns.violinplot(x='Electric Vehicle Type', y='Electric Range', data=df)\n",
    "plt.title('Violin Plot of Electric Range by Electric Vehicle Type')\n",
    "plt.xlabel('Electric Vehicle Type')\n",
    "plt.ylabel('Electric Range')\n",
    "plt.xticks(rotation=45)\n",
    "plt.show()\n"
   ]
  },
  {
   "cell_type": "markdown",
   "id": "06f53fcf",
   "metadata": {},
   "source": [
    "## Numerical vs. Numerical: Base MSRP vs. Electric Range"
   ]
  },
  {
   "cell_type": "code",
   "execution_count": 17,
   "id": "aff4ebdc",
   "metadata": {},
   "outputs": [
    {
     "data": {
      "image/png": "[encoded data removed]",
      "text/plain": [
       "<Figure size 1200x600 with 1 Axes>"
      ]
     },
     "metadata": {},
     "output_type": "display_data"
    }
   ],
   "source": [
    "# Scatter plot for Base MSRP vs. Electric Range\n",
    "plt.figure(figsize=(12, 6))\n",
    "sns.scatterplot(x='Electric Range', y='Base MSRP', data=df)\n",
    "plt.title('Scatter Plot of Base MSRP vs. Electric Range')\n",
    "plt.xlabel('Electric Range (miles)')\n",
    "plt.ylabel('Base MSRP (USD)')\n",
    "plt.xlim(0, df['Electric Range'].max() + 50)  # Adjust x-axis limit for better visibility\n",
    "plt.ylim(0, df['Base MSRP'].max() + 10000)  # Adjust y-axis limit for better visibility\n",
    "plt.show()"
   ]
  },
  {
   "cell_type": "markdown",
   "id": "99f5352d",
   "metadata": {},
   "source": [
    "# Task - 2\n",
    "### Create a Choropleth using plotly.express to display the number of EV vehicles based on location.\n",
    "### A choropleth map can effectively show the number of electric vehicles (EVs) based on location (e.g., by state or county)."
   ]
  },
  {
   "cell_type": "code",
   "execution_count": 22,
   "id": "2396cc3d",
   "metadata": {},
   "outputs": [
    {
     "data": {
      "application/vnd.plotly.v1+json": {
       "config": {
        "plotlyServerURL": "https://plot.ly"
       },
       "data": [
        {
         "coloraxis": "coloraxis",
         "geo": "geo",
         "hovertemplate": "State=%{location}<br>Number of EVs=%{z}<extra></extra>",
         "locationmode": "USA-states",
         "locations": [
          "WA",
          "CA",
          "VA",
          "MD",
          "TX",
          "CO",
          "NV",
          "GA",
          "NC",
          "CT",
          "DC",
          "FL",
          "AZ",
          "IL",
          "SC",
          "OR",
          "NE",
          "HI",
          "UT",
          "AR",
          "NY",
          "TN",
          "KS",
          "MO",
          "PA",
          "MA",
          "LA",
          "NJ",
          "NH",
          "OH",
          "WY",
          "ID",
          "KY",
          "RI",
          "ME",
          "MN",
          "SD",
          "WI",
          "NM",
          "AK",
          "MS",
          "AL",
          "DE",
          "OK",
          "ND"
         ],
         "name": "",
         "type": "choropleth",
         "z": [
          112348,
          76,
          36,
          26,
          14,
          9,
          8,
          7,
          7,
          6,
          6,
          6,
          6,
          6,
          5,
          5,
          5,
          4,
          4,
          4,
          4,
          3,
          3,
          3,
          3,
          3,
          3,
          3,
          2,
          2,
          2,
          2,
          1,
          1,
          1,
          1,
          1,
          1,
          1,
          1,
          1,
          1,
          1,
          1,
          1
         ]
        }
       ],
       "layout": {
        "coloraxis": {
         "colorbar": {
          "title": {
           "text": "Number of EVs"
          }
         },
         "colorscale": [
          [
           0,
           "#440154"
          ],
          [
           0.1111111111111111,
           "#482878"
          ],
          [
           0.2222222222222222,
           "#3e4989"
          ],
          [
           0.3333333333333333,
           "#31688e"
          ],
          [
           0.4444444444444444,
           "#26828e"
          ],
          [
           0.5555555555555556,
           "#1f9e89"
          ],
          [
           0.6666666666666666,
           "#35b779"
          ],
          [
           0.7777777777777778,
           "#6ece58"
          ],
          [
           0.8888888888888888,
           "#b5de2b"
          ],
          [
           1,
           "#fde725"
          ]
         ]
        },
        "geo": {
         "center": {},
         "domain": {
          "x": [
           0,
           1
          ],
          "y": [
           0,
           1
          ]
         },
         "scope": "usa"
        },
        "legend": {
         "tracegroupgap": 0
        },
        "template": {
         "data": {
          "bar": [
           {
            "error_x": {
             "color": "#2a3f5f"
            },
            "error_y": {
             "color": "#2a3f5f"
            },
            "marker": {
             "line": {
              "color": "#E5ECF6",
              "width": 0.5
             },
             "pattern": {
              "fillmode": "overlay",
              "size": 10,
              "solidity": 0.2
             }
            },
            "type": "bar"
           }
          ],
          "barpolar": [
           {
            "marker": {
             "line": {
              "color": "#E5ECF6",
              "width": 0.5
             },
             "pattern": {
              "fillmode": "overlay",
              "size": 10,
              "solidity": 0.2
             }
            },
            "type": "barpolar"
           }
          ],
          "carpet": [
           {
            "aaxis": {
             "endlinecolor": "#2a3f5f",
             "gridcolor": "white",
             "linecolor": "white",
             "minorgridcolor": "white",
             "startlinecolor": "#2a3f5f"
            },
            "baxis": {
             "endlinecolor": "#2a3f5f",
             "gridcolor": "white",
             "linecolor": "white",
             "minorgridcolor": "white",
             "startlinecolor": "#2a3f5f"
            },
            "type": "carpet"
           }
          ],
          "choropleth": [
           {
            "colorbar": {
             "outlinewidth": 0,
             "ticks": ""
            },
            "type": "choropleth"
           }
          ],
          "contour": [
           {
            "colorbar": {
             "outlinewidth": 0,
             "ticks": ""
            },
            "colorscale": [
             [
              0,
              "#0d0887"
             ],
             [
              0.1111111111111111,
              "#46039f"
             ],
             [
              0.2222222222222222,
              "#7201a8"
             ],
             [
              0.3333333333333333,
              "#9c179e"
             ],
             [
              0.4444444444444444,
              "#bd3786"
             ],
             [
              0.5555555555555556,
              "#d8576b"
             ],
             [
              0.6666666666666666,
              "#ed7953"
             ],
             [
              0.7777777777777778,
              "#fb9f3a"
             ],
             [
              0.8888888888888888,
              "#fdca26"
             ],
             [
              1,
              "#f0f921"
             ]
            ],
            "type": "contour"
           }
          ],
          "contourcarpet": [
           {
            "colorbar": {
             "outlinewidth": 0,
             "ticks": ""
            },
            "type": "contourcarpet"
           }
          ],
          "heatmap": [
           {
            "colorbar": {
             "outlinewidth": 0,
             "ticks": ""
            },
            "colorscale": [
             [
              0,
              "#0d0887"
             ],
             [
              0.1111111111111111,
              "#46039f"
             ],
             [
              0.2222222222222222,
              "#7201a8"
             ],
             [
              0.3333333333333333,
              "#9c179e"
             ],
             [
              0.4444444444444444,
              "#bd3786"
             ],
             [
              0.5555555555555556,
              "#d8576b"
             ],
             [
              0.6666666666666666,
              "#ed7953"
             ],
             [
              0.7777777777777778,
              "#fb9f3a"
             ],
             [
              0.8888888888888888,
              "#fdca26"
             ],
             [
              1,
              "#f0f921"
             ]
            ],
            "type": "heatmap"
           }
          ],
          "heatmapgl": [
           {
            "colorbar": {
             "outlinewidth": 0,
             "ticks": ""
            },
            "colorscale": [
             [
              0,
              "#0d0887"
             ],
             [
              0.1111111111111111,
              "#46039f"
             ],
             [
              0.2222222222222222,
              "#7201a8"
             ],
             [
              0.3333333333333333,
              "#9c179e"
             ],
             [
              0.4444444444444444,
              "#bd3786"
             ],
             [
              0.5555555555555556,
              "#d8576b"
             ],
             [
              0.6666666666666666,
              "#ed7953"
             ],
             [
              0.7777777777777778,
              "#fb9f3a"
             ],
             [
              0.8888888888888888,
              "#fdca26"
             ],
             [
              1,
              "#f0f921"
             ]
            ],
            "type": "heatmapgl"
           }
          ],
          "histogram": [
           {
            "marker": {
             "pattern": {
              "fillmode": "overlay",
              "size": 10,
              "solidity": 0.2
             }
            },
            "type": "histogram"
           }
          ],
          "histogram2d": [
           {
            "colorbar": {
             "outlinewidth": 0,
             "ticks": ""
            },
            "colorscale": [
             [
              0,
              "#0d0887"
             ],
             [
              0.1111111111111111,
              "#46039f"
             ],
             [
              0.2222222222222222,
              "#7201a8"
             ],
             [
              0.3333333333333333,
              "#9c179e"
             ],
             [
              0.4444444444444444,
              "#bd3786"
             ],
             [
              0.5555555555555556,
              "#d8576b"
             ],
             [
              0.6666666666666666,
              "#ed7953"
             ],
             [
              0.7777777777777778,
              "#fb9f3a"
             ],
             [
              0.8888888888888888,
              "#fdca26"
             ],
             [
              1,
              "#f0f921"
             ]
            ],
            "type": "histogram2d"
           }
          ],
          "histogram2dcontour": [
           {
            "colorbar": {
             "outlinewidth": 0,
             "ticks": ""
            },
            "colorscale": [
             [
              0,
              "#0d0887"
             ],
             [
              0.1111111111111111,
              "#46039f"
             ],
             [
              0.2222222222222222,
              "#7201a8"
             ],
             [
              0.3333333333333333,
              "#9c179e"
             ],
             [
              0.4444444444444444,
              "#bd3786"
             ],
             [
              0.5555555555555556,
              "#d8576b"
             ],
             [
              0.6666666666666666,
              "#ed7953"
             ],
             [
              0.7777777777777778,
              "#fb9f3a"
             ],
             [
              0.8888888888888888,
              "#fdca26"
             ],
             [
              1,
              "#f0f921"
             ]
            ],
            "type": "histogram2dcontour"
           }
          ],
          "mesh3d": [
           {
            "colorbar": {
             "outlinewidth": 0,
             "ticks": ""
            },
            "type": "mesh3d"
           }
          ],
          "parcoords": [
           {
            "line": {
             "colorbar": {
              "outlinewidth": 0,
              "ticks": ""
             }
            },
            "type": "parcoords"
           }
          ],
          "pie": [
           {
            "automargin": true,
            "type": "pie"
           }
          ],
          "scatter": [
           {
            "fillpattern": {
             "fillmode": "overlay",
             "size": 10,
             "solidity": 0.2
            },
            "type": "scatter"
           }
          ],
          "scatter3d": [
           {
            "line": {
             "colorbar": {
              "outlinewidth": 0,
              "ticks": ""
             }
            },
            "marker": {
             "colorbar": {
              "outlinewidth": 0,
              "ticks": ""
             }
            },
            "type": "scatter3d"
           }
          ],
          "scattercarpet": [
           {
            "marker": {
             "colorbar": {
              "outlinewidth": 0,
              "ticks": ""
             }
            },
            "type": "scattercarpet"
           }
          ],
          "scattergeo": [
           {
            "marker": {
             "colorbar": {
              "outlinewidth": 0,
              "ticks": ""
             }
            },
            "type": "scattergeo"
           }
          ],
          "scattergl": [
           {
            "marker": {
             "colorbar": {
              "outlinewidth": 0,
              "ticks": ""
             }
            },
            "type": "scattergl"
           }
          ],
          "scattermapbox": [
           {
            "marker": {
             "colorbar": {
              "outlinewidth": 0,
              "ticks": ""
             }
            },
            "type": "scattermapbox"
           }
          ],
          "scatterpolar": [
           {
            "marker": {
             "colorbar": {
              "outlinewidth": 0,
              "ticks": ""
             }
            },
            "type": "scatterpolar"
           }
          ],
          "scatterpolargl": [
           {
            "marker": {
             "colorbar": {
              "outlinewidth": 0,
              "ticks": ""
             }
            },
            "type": "scatterpolargl"
           }
          ],
          "scatterternary": [
           {
            "marker": {
             "colorbar": {
              "outlinewidth": 0,
              "ticks": ""
             }
            },
            "type": "scatterternary"
           }
          ],
          "surface": [
           {
            "colorbar": {
             "outlinewidth": 0,
             "ticks": ""
            },
            "colorscale": [
             [
              0,
              "#0d0887"
             ],
             [
              0.1111111111111111,
              "#46039f"
             ],
             [
              0.2222222222222222,
              "#7201a8"
             ],
             [
              0.3333333333333333,
              "#9c179e"
             ],
             [
              0.4444444444444444,
              "#bd3786"
             ],
             [
              0.5555555555555556,
              "#d8576b"
             ],
             [
              0.6666666666666666,
              "#ed7953"
             ],
             [
              0.7777777777777778,
              "#fb9f3a"
             ],
             [
              0.8888888888888888,
              "#fdca26"
             ],
             [
              1,
              "#f0f921"
             ]
            ],
            "type": "surface"
           }
          ],
          "table": [
           {
            "cells": {
             "fill": {
              "color": "#EBF0F8"
             },
             "line": {
              "color": "white"
             }
            },
            "header": {
             "fill": {
              "color": "#C8D4E3"
             },
             "line": {
              "color": "white"
             }
            },
            "type": "table"
           }
          ]
         },
         "layout": {
          "annotationdefaults": {
           "arrowcolor": "#2a3f5f",
           "arrowhead": 0,
           "arrowwidth": 1
          },
          "autotypenumbers": "strict",
          "coloraxis": {
           "colorbar": {
            "outlinewidth": 0,
            "ticks": ""
           }
          },
          "colorscale": {
           "diverging": [
            [
             0,
             "#8e0152"
            ],
            [
             0.1,
             "#c51b7d"
            ],
            [
             0.2,
             "#de77ae"
            ],
            [
             0.3,
             "#f1b6da"
            ],
            [
             0.4,
             "#fde0ef"
            ],
            [
             0.5,
             "#f7f7f7"
            ],
            [
             0.6,
             "#e6f5d0"
            ],
            [
             0.7,
             "#b8e186"
            ],
            [
             0.8,
             "#7fbc41"
            ],
            [
             0.9,
             "#4d9221"
            ],
            [
             1,
             "#276419"
            ]
           ],
           "sequential": [
            [
             0,
             "#0d0887"
            ],
            [
             0.1111111111111111,
             "#46039f"
            ],
            [
             0.2222222222222222,
             "#7201a8"
            ],
            [
             0.3333333333333333,
             "#9c179e"
            ],
            [
             0.4444444444444444,
             "#bd3786"
            ],
            [
             0.5555555555555556,
             "#d8576b"
            ],
            [
             0.6666666666666666,
             "#ed7953"
            ],
            [
             0.7777777777777778,
             "#fb9f3a"
            ],
            [
             0.8888888888888888,
             "#fdca26"
            ],
            [
             1,
             "#f0f921"
            ]
           ],
           "sequentialminus": [
            [
             0,
             "#0d0887"
            ],
            [
             0.1111111111111111,
             "#46039f"
            ],
            [
             0.2222222222222222,
             "#7201a8"
            ],
            [
             0.3333333333333333,
             "#9c179e"
            ],
            [
             0.4444444444444444,
             "#bd3786"
            ],
            [
             0.5555555555555556,
             "#d8576b"
            ],
            [
             0.6666666666666666,
             "#ed7953"
            ],
            [
             0.7777777777777778,
             "#fb9f3a"
            ],
            [
             0.8888888888888888,
             "#fdca26"
            ],
            [
             1,
             "#f0f921"
            ]
           ]
          },
          "colorway": [
           "#636efa",
           "#EF553B",
           "#00cc96",
           "#ab63fa",
           "#FFA15A",
           "#19d3f3",
           "#FF6692",
           "#B6E880",
           "#FF97FF",
           "#FECB52"
          ],
          "font": {
           "color": "#2a3f5f"
          },
          "geo": {
           "bgcolor": "white",
           "lakecolor": "white",
           "landcolor": "#E5ECF6",
           "showlakes": true,
           "showland": true,
           "subunitcolor": "white"
          },
          "hoverlabel": {
           "align": "left"
          },
          "hovermode": "closest",
          "mapbox": {
           "style": "light"
          },
          "paper_bgcolor": "white",
          "plot_bgcolor": "#E5ECF6",
          "polar": {
           "angularaxis": {
            "gridcolor": "white",
            "linecolor": "white",
            "ticks": ""
           },
           "bgcolor": "#E5ECF6",
           "radialaxis": {
            "gridcolor": "white",
            "linecolor": "white",
            "ticks": ""
           }
          },
          "scene": {
           "xaxis": {
            "backgroundcolor": "#E5ECF6",
            "gridcolor": "white",
            "gridwidth": 2,
            "linecolor": "white",
            "showbackground": true,
            "ticks": "",
            "zerolinecolor": "white"
           },
           "yaxis": {
            "backgroundcolor": "#E5ECF6",
            "gridcolor": "white",
            "gridwidth": 2,
            "linecolor": "white",
            "showbackground": true,
            "ticks": "",
            "zerolinecolor": "white"
           },
           "zaxis": {
            "backgroundcolor": "#E5ECF6",
            "gridcolor": "white",
            "gridwidth": 2,
            "linecolor": "white",
            "showbackground": true,
            "ticks": "",
            "zerolinecolor": "white"
           }
          },
          "shapedefaults": {
           "line": {
            "color": "#2a3f5f"
           }
          },
          "ternary": {
           "aaxis": {
            "gridcolor": "white",
            "linecolor": "white",
            "ticks": ""
           },
           "baxis": {
            "gridcolor": "white",
            "linecolor": "white",
            "ticks": ""
           },
           "bgcolor": "#E5ECF6",
           "caxis": {
            "gridcolor": "white",
            "linecolor": "white",
            "ticks": ""
           }
          },
          "title": {
           "x": 0.05
          },
          "xaxis": {
           "automargin": true,
           "gridcolor": "white",
           "linecolor": "white",
           "ticks": "",
           "title": {
            "standoff": 15
           },
           "zerolinecolor": "white",
           "zerolinewidth": 2
          },
          "yaxis": {
           "automargin": true,
           "gridcolor": "white",
           "linecolor": "white",
           "ticks": "",
           "title": {
            "standoff": 15
           },
           "zerolinecolor": "white",
           "zerolinewidth": 2
          }
         }
        },
        "title": {
         "text": "Number of Electric Vehicles by State"
        }
       }
      },
      "text/html": [
       "<div>                            <div id=\"5cb8d2d8-aec5-43ff-81e5-2f4c2130a084\" class=\"plotly-graph-div\" style=\"height:525px; width:100%;\"></div>            <script type=\"text/javascript\">                require([\"plotly\"], function(Plotly) {                    window.PLOTLYENV=window.PLOTLYENV || {};                                    if (document.getElementById(\"5cb8d2d8-aec5-43ff-81e5-2f4c2130a084\")) {                    Plotly.newPlot(                        \"5cb8d2d8-aec5-43ff-81e5-2f4c2130a084\",                        [{\"coloraxis\":\"coloraxis\",\"geo\":\"geo\",\"hovertemplate\":\"State=%{location}<br>Number of EVs=%{z}<extra></extra>\",\"locationmode\":\"USA-states\",\"locations\":[\"WA\",\"CA\",\"VA\",\"MD\",\"TX\",\"CO\",\"NV\",\"GA\",\"NC\",\"CT\",\"DC\",\"FL\",\"AZ\",\"IL\",\"SC\",\"OR\",\"NE\",\"HI\",\"UT\",\"AR\",\"NY\",\"TN\",\"KS\",\"MO\",\"PA\",\"MA\",\"LA\",\"NJ\",\"NH\",\"OH\",\"WY\",\"ID\",\"KY\",\"RI\",\"ME\",\"MN\",\"SD\",\"WI\",\"NM\",\"AK\",\"MS\",\"AL\",\"DE\",\"OK\",\"ND\"],\"name\":\"\",\"z\":[112348,76,36,26,14,9,8,7,7,6,6,6,6,6,5,5,5,4,4,4,4,3,3,3,3,3,3,3,2,2,2,2,1,1,1,1,1,1,1,1,1,1,1,1,1],\"type\":\"choropleth\"}],                        {\"template\":{\"data\":{\"histogram2dcontour\":[{\"type\":\"histogram2dcontour\",\"colorbar\":{\"outlinewidth\":0,\"ticks\":\"\"},\"colorscale\":[[0.0,\"#0d0887\"],[0.1111111111111111,\"#46039f\"],[0.2222222222222222,\"#7201a8\"],[0.3333333333333333,\"#9c179e\"],[0.4444444444444444,\"#bd3786\"],[0.5555555555555556,\"#d8576b\"],[0.6666666666666666,\"#ed7953\"],[0.7777777777777778,\"#fb9f3a\"],[0.8888888888888888,\"#fdca26\"],[1.0,\"#f0f921\"]]}],\"choropleth\":[{\"type\":\"choropleth\",\"colorbar\":{\"outlinewidth\":0,\"ticks\":\"\"}}],\"histogram2d\":[{\"type\":\"histogram2d\",\"colorbar\":{\"outlinewidth\":0,\"ticks\":\"\"},\"colorscale\":[[0.0,\"#0d0887\"],[0.1111111111111111,\"#46039f\"],[0.2222222222222222,\"#7201a8\"],[0.3333333333333333,\"#9c179e\"],[0.4444444444444444,\"#bd3786\"],[0.5555555555555556,\"#d8576b\"],[0.6666666666666666,\"#ed7953\"],[0.7777777777777778,\"#fb9f3a\"],[0.8888888888888888,\"#fdca26\"],[1.0,\"#f0f921\"]]}],\"heatmap\":[{\"type\":\"heatmap\",\"colorbar\":{\"outlinewidth\":0,\"ticks\":\"\"},\"colorscale\":[[0.0,\"#0d0887\"],[0.1111111111111111,\"#46039f\"],[0.2222222222222222,\"#7201a8\"],[0.3333333333333333,\"#9c179e\"],[0.4444444444444444,\"#bd3786\"],[0.5555555555555556,\"#d8576b\"],[0.6666666666666666,\"#ed7953\"],[0.7777777777777778,\"#fb9f3a\"],[0.8888888888888888,\"#fdca26\"],[1.0,\"#f0f921\"]]}],\"heatmapgl\":[{\"type\":\"heatmapgl\",\"colorbar\":{\"outlinewidth\":0,\"ticks\":\"\"},\"colorscale\":[[0.0,\"#0d0887\"],[0.1111111111111111,\"#46039f\"],[0.2222222222222222,\"#7201a8\"],[0.3333333333333333,\"#9c179e\"],[0.4444444444444444,\"#bd3786\"],[0.5555555555555556,\"#d8576b\"],[0.6666666666666666,\"#ed7953\"],[0.7777777777777778,\"#fb9f3a\"],[0.8888888888888888,\"#fdca26\"],[1.0,\"#f0f921\"]]}],\"contourcarpet\":[{\"type\":\"contourcarpet\",\"colorbar\":{\"outlinewidth\":0,\"ticks\":\"\"}}],\"contour\":[{\"type\":\"contour\",\"colorbar\":{\"outlinewidth\":0,\"ticks\":\"\"},\"colorscale\":[[0.0,\"#0d0887\"],[0.1111111111111111,\"#46039f\"],[0.2222222222222222,\"#7201a8\"],[0.3333333333333333,\"#9c179e\"],[0.4444444444444444,\"#bd3786\"],[0.5555555555555556,\"#d8576b\"],[0.6666666666666666,\"#ed7953\"],[0.7777777777777778,\"#fb9f3a\"],[0.8888888888888888,\"#fdca26\"],[1.0,\"#f0f921\"]]}],\"surface\":[{\"type\":\"surface\",\"colorbar\":{\"outlinewidth\":0,\"ticks\":\"\"},\"colorscale\":[[0.0,\"#0d0887\"],[0.1111111111111111,\"#46039f\"],[0.2222222222222222,\"#7201a8\"],[0.3333333333333333,\"#9c179e\"],[0.4444444444444444,\"#bd3786\"],[0.5555555555555556,\"#d8576b\"],[0.6666666666666666,\"#ed7953\"],[0.7777777777777778,\"#fb9f3a\"],[0.8888888888888888,\"#fdca26\"],[1.0,\"#f0f921\"]]}],\"mesh3d\":[{\"type\":\"mesh3d\",\"colorbar\":{\"outlinewidth\":0,\"ticks\":\"\"}}],\"scatter\":[{\"fillpattern\":{\"fillmode\":\"overlay\",\"size\":10,\"solidity\":0.2},\"type\":\"scatter\"}],\"parcoords\":[{\"type\":\"parcoords\",\"line\":{\"colorbar\":{\"outlinewidth\":0,\"ticks\":\"\"}}}],\"scatterpolargl\":[{\"type\":\"scatterpolargl\",\"marker\":{\"colorbar\":{\"outlinewidth\":0,\"ticks\":\"\"}}}],\"bar\":[{\"error_x\":{\"color\":\"#2a3f5f\"},\"error_y\":{\"color\":\"#2a3f5f\"},\"marker\":{\"line\":{\"color\":\"#E5ECF6\",\"width\":0.5},\"pattern\":{\"fillmode\":\"overlay\",\"size\":10,\"solidity\":0.2}},\"type\":\"bar\"}],\"scattergeo\":[{\"type\":\"scattergeo\",\"marker\":{\"colorbar\":{\"outlinewidth\":0,\"ticks\":\"\"}}}],\"scatterpolar\":[{\"type\":\"scatterpolar\",\"marker\":{\"colorbar\":{\"outlinewidth\":0,\"ticks\":\"\"}}}],\"histogram\":[{\"marker\":{\"pattern\":{\"fillmode\":\"overlay\",\"size\":10,\"solidity\":0.2}},\"type\":\"histogram\"}],\"scattergl\":[{\"type\":\"scattergl\",\"marker\":{\"colorbar\":{\"outlinewidth\":0,\"ticks\":\"\"}}}],\"scatter3d\":[{\"type\":\"scatter3d\",\"line\":{\"colorbar\":{\"outlinewidth\":0,\"ticks\":\"\"}},\"marker\":{\"colorbar\":{\"outlinewidth\":0,\"ticks\":\"\"}}}],\"scattermapbox\":[{\"type\":\"scattermapbox\",\"marker\":{\"colorbar\":{\"outlinewidth\":0,\"ticks\":\"\"}}}],\"scatterternary\":[{\"type\":\"scatterternary\",\"marker\":{\"colorbar\":{\"outlinewidth\":0,\"ticks\":\"\"}}}],\"scattercarpet\":[{\"type\":\"scattercarpet\",\"marker\":{\"colorbar\":{\"outlinewidth\":0,\"ticks\":\"\"}}}],\"carpet\":[{\"aaxis\":{\"endlinecolor\":\"#2a3f5f\",\"gridcolor\":\"white\",\"linecolor\":\"white\",\"minorgridcolor\":\"white\",\"startlinecolor\":\"#2a3f5f\"},\"baxis\":{\"endlinecolor\":\"#2a3f5f\",\"gridcolor\":\"white\",\"linecolor\":\"white\",\"minorgridcolor\":\"white\",\"startlinecolor\":\"#2a3f5f\"},\"type\":\"carpet\"}],\"table\":[{\"cells\":{\"fill\":{\"color\":\"#EBF0F8\"},\"line\":{\"color\":\"white\"}},\"header\":{\"fill\":{\"color\":\"#C8D4E3\"},\"line\":{\"color\":\"white\"}},\"type\":\"table\"}],\"barpolar\":[{\"marker\":{\"line\":{\"color\":\"#E5ECF6\",\"width\":0.5},\"pattern\":{\"fillmode\":\"overlay\",\"size\":10,\"solidity\":0.2}},\"type\":\"barpolar\"}],\"pie\":[{\"automargin\":true,\"type\":\"pie\"}]},\"layout\":{\"autotypenumbers\":\"strict\",\"colorway\":[\"#636efa\",\"#EF553B\",\"#00cc96\",\"#ab63fa\",\"#FFA15A\",\"#19d3f3\",\"#FF6692\",\"#B6E880\",\"#FF97FF\",\"#FECB52\"],\"font\":{\"color\":\"#2a3f5f\"},\"hovermode\":\"closest\",\"hoverlabel\":{\"align\":\"left\"},\"paper_bgcolor\":\"white\",\"plot_bgcolor\":\"#E5ECF6\",\"polar\":{\"bgcolor\":\"#E5ECF6\",\"angularaxis\":{\"gridcolor\":\"white\",\"linecolor\":\"white\",\"ticks\":\"\"},\"radialaxis\":{\"gridcolor\":\"white\",\"linecolor\":\"white\",\"ticks\":\"\"}},\"ternary\":{\"bgcolor\":\"#E5ECF6\",\"aaxis\":{\"gridcolor\":\"white\",\"linecolor\":\"white\",\"ticks\":\"\"},\"baxis\":{\"gridcolor\":\"white\",\"linecolor\":\"white\",\"ticks\":\"\"},\"caxis\":{\"gridcolor\":\"white\",\"linecolor\":\"white\",\"ticks\":\"\"}},\"coloraxis\":{\"colorbar\":{\"outlinewidth\":0,\"ticks\":\"\"}},\"colorscale\":{\"sequential\":[[0.0,\"#0d0887\"],[0.1111111111111111,\"#46039f\"],[0.2222222222222222,\"#7201a8\"],[0.3333333333333333,\"#9c179e\"],[0.4444444444444444,\"#bd3786\"],[0.5555555555555556,\"#d8576b\"],[0.6666666666666666,\"#ed7953\"],[0.7777777777777778,\"#fb9f3a\"],[0.8888888888888888,\"#fdca26\"],[1.0,\"#f0f921\"]],\"sequentialminus\":[[0.0,\"#0d0887\"],[0.1111111111111111,\"#46039f\"],[0.2222222222222222,\"#7201a8\"],[0.3333333333333333,\"#9c179e\"],[0.4444444444444444,\"#bd3786\"],[0.5555555555555556,\"#d8576b\"],[0.6666666666666666,\"#ed7953\"],[0.7777777777777778,\"#fb9f3a\"],[0.8888888888888888,\"#fdca26\"],[1.0,\"#f0f921\"]],\"diverging\":[[0,\"#8e0152\"],[0.1,\"#c51b7d\"],[0.2,\"#de77ae\"],[0.3,\"#f1b6da\"],[0.4,\"#fde0ef\"],[0.5,\"#f7f7f7\"],[0.6,\"#e6f5d0\"],[0.7,\"#b8e186\"],[0.8,\"#7fbc41\"],[0.9,\"#4d9221\"],[1,\"#276419\"]]},\"xaxis\":{\"gridcolor\":\"white\",\"linecolor\":\"white\",\"ticks\":\"\",\"title\":{\"standoff\":15},\"zerolinecolor\":\"white\",\"automargin\":true,\"zerolinewidth\":2},\"yaxis\":{\"gridcolor\":\"white\",\"linecolor\":\"white\",\"ticks\":\"\",\"title\":{\"standoff\":15},\"zerolinecolor\":\"white\",\"automargin\":true,\"zerolinewidth\":2},\"scene\":{\"xaxis\":{\"backgroundcolor\":\"#E5ECF6\",\"gridcolor\":\"white\",\"linecolor\":\"white\",\"showbackground\":true,\"ticks\":\"\",\"zerolinecolor\":\"white\",\"gridwidth\":2},\"yaxis\":{\"backgroundcolor\":\"#E5ECF6\",\"gridcolor\":\"white\",\"linecolor\":\"white\",\"showbackground\":true,\"ticks\":\"\",\"zerolinecolor\":\"white\",\"gridwidth\":2},\"zaxis\":{\"backgroundcolor\":\"#E5ECF6\",\"gridcolor\":\"white\",\"linecolor\":\"white\",\"showbackground\":true,\"ticks\":\"\",\"zerolinecolor\":\"white\",\"gridwidth\":2}},\"shapedefaults\":{\"line\":{\"color\":\"#2a3f5f\"}},\"annotationdefaults\":{\"arrowcolor\":\"#2a3f5f\",\"arrowhead\":0,\"arrowwidth\":1},\"geo\":{\"bgcolor\":\"white\",\"landcolor\":\"#E5ECF6\",\"subunitcolor\":\"white\",\"showland\":true,\"showlakes\":true,\"lakecolor\":\"white\"},\"title\":{\"x\":0.05},\"mapbox\":{\"style\":\"light\"}}},\"geo\":{\"domain\":{\"x\":[0.0,1.0],\"y\":[0.0,1.0]},\"center\":{},\"scope\":\"usa\"},\"coloraxis\":{\"colorbar\":{\"title\":{\"text\":\"Number of EVs\"}},\"colorscale\":[[0.0,\"#440154\"],[0.1111111111111111,\"#482878\"],[0.2222222222222222,\"#3e4989\"],[0.3333333333333333,\"#31688e\"],[0.4444444444444444,\"#26828e\"],[0.5555555555555556,\"#1f9e89\"],[0.6666666666666666,\"#35b779\"],[0.7777777777777778,\"#6ece58\"],[0.8888888888888888,\"#b5de2b\"],[1.0,\"#fde725\"]]},\"legend\":{\"tracegroupgap\":0},\"title\":{\"text\":\"Number of Electric Vehicles by State\"}},                        {\"responsive\": true}                    ).then(function(){\n",
       "                            \n",
       "var gd = document.getElementById('5cb8d2d8-aec5-43ff-81e5-2f4c2130a084');\n",
       "var x = new MutationObserver(function (mutations, observer) {{\n",
       "        var display = window.getComputedStyle(gd).display;\n",
       "        if (!display || display === 'none') {{\n",
       "            console.log([gd, 'removed!']);\n",
       "            Plotly.purge(gd);\n",
       "            observer.disconnect();\n",
       "        }}\n",
       "}});\n",
       "\n",
       "// Listen for the removal of the full notebook cells\n",
       "var notebookContainer = gd.closest('#notebook-container');\n",
       "if (notebookContainer) {{\n",
       "    x.observe(notebookContainer, {childList: true});\n",
       "}}\n",
       "\n",
       "// Listen for the clearing of the current output cell\n",
       "var outputEl = gd.closest('.output');\n",
       "if (outputEl) {{\n",
       "    x.observe(outputEl, {childList: true});\n",
       "}}\n",
       "\n",
       "                        })                };                });            </script>        </div>"
      ]
     },
     "metadata": {},
     "output_type": "display_data"
    }
   ],
   "source": [
    "import plotly.express as px\n",
    "import pandas as pd\n",
    "\n",
    "# Aggregating data: Counting number of EVs per state\n",
    "state_ev_count = df['State'].value_counts().reset_index()\n",
    "state_ev_count.columns = ['State', 'EV Count']\n",
    "\n",
    "# Creating the choropleth map\n",
    "fig = px.choropleth(state_ev_count, \n",
    "                    locations='State', \n",
    "                    locationmode=\"USA-states\",  # USA states mode\n",
    "                    color='EV Count', \n",
    "                    color_continuous_scale='Viridis',  # Color scale\n",
    "                    scope=\"usa\",  # Limiting the map to USA\n",
    "                    labels={'EV Count':'Number of EVs'},\n",
    "                    title='Number of Electric Vehicles by State')\n",
    "\n",
    "# Display the map\n",
    "fig.show()\n"
   ]
  },
  {
   "cell_type": "markdown",
   "id": "5702d481",
   "metadata": {},
   "source": [
    "# Task - 3\n",
    "## Create a Racing Bar Plot to display the animation of EV Make and its count each year.\n"
   ]
  },
  {
   "cell_type": "code",
   "execution_count": 44,
   "id": "e36746ae",
   "metadata": {},
   "outputs": [
    {
     "data": {
      "application/vnd.plotly.v1+json": {
       "config": {
        "plotlyServerURL": "https://plot.ly"
       },
       "data": [
        {
         "alignmentgroup": "True",
         "hovertemplate": "State=WA<br>Model Year=1997<br>EV Count=%{text}<br>Make=%{y}<extra></extra>",
         "ids": [
          "CHEVROLET"
         ],
         "legendgroup": "WA",
         "marker": {
          "color": "#636efa",
          "pattern": {
           "shape": ""
          }
         },
         "name": "WA",
         "offsetgroup": "WA",
         "orientation": "h",
         "showlegend": true,
         "text": [
          1
         ],
         "textposition": "auto",
         "type": "bar",
         "x": [
          1
         ],
         "xaxis": "x",
         "y": [
          "CHEVROLET"
         ],
         "yaxis": "y"
        }
       ],
       "frames": [
        {
         "data": [
          {
           "alignmentgroup": "True",
           "hovertemplate": "State=WA<br>Model Year=1997<br>EV Count=%{text}<br>Make=%{y}<extra></extra>",
           "ids": [
            "CHEVROLET"
           ],
           "legendgroup": "WA",
           "marker": {
            "color": "#636efa",
            "pattern": {
             "shape": ""
            }
           },
           "name": "WA",
           "offsetgroup": "WA",
           "orientation": "h",
           "showlegend": true,
           "text": [
            1
           ],
           "textposition": "auto",
           "type": "bar",
           "x": [
            1
           ],
           "xaxis": "x",
           "y": [
            "CHEVROLET"
           ],
           "yaxis": "y"
          }
         ],
         "name": "1997"
        },
        {
         "data": [
          {
           "alignmentgroup": "True",
           "hovertemplate": "State=WA<br>Model Year=1998<br>EV Count=%{text}<br>Make=%{y}<extra></extra>",
           "ids": [
            "FORD"
           ],
           "legendgroup": "WA",
           "marker": {
            "color": "#636efa",
            "pattern": {
             "shape": ""
            }
           },
           "name": "WA",
           "offsetgroup": "WA",
           "orientation": "h",
           "showlegend": true,
           "text": [
            1
           ],
           "textposition": "auto",
           "type": "bar",
           "x": [
            1
           ],
           "xaxis": "x",
           "y": [
            "FORD"
           ],
           "yaxis": "y"
          }
         ],
         "name": "1998"
        },
        {
         "data": [
          {
           "alignmentgroup": "True",
           "hovertemplate": "State=WA<br>Model Year=1999<br>EV Count=%{text}<br>Make=%{y}<extra></extra>",
           "ids": [
            "FORD"
           ],
           "legendgroup": "WA",
           "marker": {
            "color": "#636efa",
            "pattern": {
             "shape": ""
            }
           },
           "name": "WA",
           "offsetgroup": "WA",
           "orientation": "h",
           "showlegend": true,
           "text": [
            3
           ],
           "textposition": "auto",
           "type": "bar",
           "x": [
            3
           ],
           "xaxis": "x",
           "y": [
            "FORD"
           ],
           "yaxis": "y"
          }
         ],
         "name": "1999"
        },
        {
         "data": [
          {
           "alignmentgroup": "True",
           "hovertemplate": "State=WA<br>Model Year=2000<br>EV Count=%{text}<br>Make=%{y}<extra></extra>",
           "ids": [
            "FORD"
           ],
           "legendgroup": "WA",
           "marker": {
            "color": "#636efa",
            "pattern": {
             "shape": ""
            }
           },
           "name": "WA",
           "offsetgroup": "WA",
           "orientation": "h",
           "showlegend": true,
           "text": [
            10
           ],
           "textposition": "auto",
           "type": "bar",
           "x": [
            10
           ],
           "xaxis": "x",
           "y": [
            "FORD"
           ],
           "yaxis": "y"
          }
         ],
         "name": "2000"
        },
        {
         "data": [
          {
           "alignmentgroup": "True",
           "hovertemplate": "State=WA<br>Model Year=2002<br>EV Count=%{text}<br>Make=%{y}<extra></extra>",
           "ids": [
            "TOYOTA"
           ],
           "legendgroup": "WA",
           "marker": {
            "color": "#636efa",
            "pattern": {
             "shape": ""
            }
           },
           "name": "WA",
           "offsetgroup": "WA",
           "orientation": "h",
           "showlegend": true,
           "text": [
            2
           ],
           "textposition": "auto",
           "type": "bar",
           "x": [
            2
           ],
           "xaxis": "x",
           "y": [
            "TOYOTA"
           ],
           "yaxis": "y"
          }
         ],
         "name": "2002"
        },
        {
         "data": [
          {
           "alignmentgroup": "True",
           "hovertemplate": "State=WA<br>Model Year=2008<br>EV Count=%{text}<br>Make=%{y}<extra></extra>",
           "ids": [
            "TESLA"
           ],
           "legendgroup": "WA",
           "marker": {
            "color": "#636efa",
            "pattern": {
             "shape": ""
            }
           },
           "name": "WA",
           "offsetgroup": "WA",
           "orientation": "h",
           "showlegend": true,
           "text": [
            23
           ],
           "textposition": "auto",
           "type": "bar",
           "x": [
            23
           ],
           "xaxis": "x",
           "y": [
            "TESLA"
           ],
           "yaxis": "y"
          }
         ],
         "name": "2008"
        },
        {
         "data": [
          {
           "alignmentgroup": "True",
           "hovertemplate": "State=WA<br>Model Year=2010<br>EV Count=%{text}<br>Make=%{y}<extra></extra>",
           "ids": [
            "TESLA"
           ],
           "legendgroup": "WA",
           "marker": {
            "color": "#636efa",
            "pattern": {
             "shape": ""
            }
           },
           "name": "WA",
           "offsetgroup": "WA",
           "orientation": "h",
           "showlegend": true,
           "text": [
            24
           ],
           "textposition": "auto",
           "type": "bar",
           "x": [
            24
           ],
           "xaxis": "x",
           "y": [
            "TESLA"
           ],
           "yaxis": "y"
          }
         ],
         "name": "2010"
        },
        {
         "data": [
          {
           "alignmentgroup": "True",
           "hovertemplate": "State=WA<br>Model Year=2011<br>EV Count=%{text}<br>Make=%{y}<extra></extra>",
           "ids": [
            "AZURE DYNAMICS",
            "CHEVROLET",
            "NISSAN",
            "TESLA",
            "TH!NK"
           ],
           "legendgroup": "WA",
           "marker": {
            "color": "#636efa",
            "pattern": {
             "shape": ""
            }
           },
           "name": "WA",
           "offsetgroup": "WA",
           "orientation": "h",
           "showlegend": true,
           "text": [
            4,
            71,
            754,
            7,
            3
           ],
           "textposition": "auto",
           "type": "bar",
           "x": [
            4,
            71,
            754,
            7,
            3
           ],
           "xaxis": "x",
           "y": [
            "AZURE DYNAMICS",
            "CHEVROLET",
            "NISSAN",
            "TESLA",
            "TH!NK"
           ],
           "yaxis": "y"
          },
          {
           "alignmentgroup": "True",
           "hovertemplate": "State=VA<br>Model Year=2011<br>EV Count=%{text}<br>Make=%{y}<extra></extra>",
           "ids": [
            "NISSAN"
           ],
           "legendgroup": "VA",
           "marker": {
            "color": "#EF553B",
            "pattern": {
             "shape": ""
            }
           },
           "name": "VA",
           "offsetgroup": "VA",
           "orientation": "h",
           "showlegend": true,
           "text": [
            1
           ],
           "textposition": "auto",
           "type": "bar",
           "x": [
            1
           ],
           "xaxis": "x",
           "y": [
            "NISSAN"
           ],
           "yaxis": "y"
          }
         ],
         "name": "2011"
        },
        {
         "data": [
          {
           "alignmentgroup": "True",
           "hovertemplate": "State=WA<br>Model Year=2012<br>EV Count=%{text}<br>Make=%{y}<extra></extra>",
           "ids": [
            "AZURE DYNAMICS",
            "CHEVROLET",
            "FISKER",
            "FORD",
            "MITSUBISHI",
            "NISSAN",
            "TESLA",
            "TOYOTA"
           ],
           "legendgroup": "WA",
           "marker": {
            "color": "#636efa",
            "pattern": {
             "shape": ""
            }
           },
           "name": "WA",
           "offsetgroup": "WA",
           "orientation": "h",
           "showlegend": true,
           "text": [
            3,
            495,
            19,
            15,
            42,
            610,
            134,
            384
           ],
           "textposition": "auto",
           "type": "bar",
           "x": [
            3,
            495,
            19,
            15,
            42,
            610,
            134,
            384
           ],
           "xaxis": "x",
           "y": [
            "AZURE DYNAMICS",
            "CHEVROLET",
            "FISKER",
            "FORD",
            "MITSUBISHI",
            "NISSAN",
            "TESLA",
            "TOYOTA"
           ],
           "yaxis": "y"
          },
          {
           "alignmentgroup": "True",
           "hovertemplate": "State=CA<br>Model Year=2012<br>EV Count=%{text}<br>Make=%{y}<extra></extra>",
           "ids": [
            "CHEVROLET",
            "TOYOTA"
           ],
           "legendgroup": "CA",
           "marker": {
            "color": "#00cc96",
            "pattern": {
             "shape": ""
            }
           },
           "name": "CA",
           "offsetgroup": "CA",
           "orientation": "h",
           "showlegend": true,
           "text": [
            1,
            1
           ],
           "textposition": "auto",
           "type": "bar",
           "x": [
            1,
            1
           ],
           "xaxis": "x",
           "y": [
            "CHEVROLET",
            "TOYOTA"
           ],
           "yaxis": "y"
          },
          {
           "alignmentgroup": "True",
           "hovertemplate": "State=MD<br>Model Year=2012<br>EV Count=%{text}<br>Make=%{y}<extra></extra>",
           "ids": [
            "FISKER"
           ],
           "legendgroup": "MD",
           "marker": {
            "color": "#ab63fa",
            "pattern": {
             "shape": ""
            }
           },
           "name": "MD",
           "offsetgroup": "MD",
           "orientation": "h",
           "showlegend": true,
           "text": [
            1
           ],
           "textposition": "auto",
           "type": "bar",
           "x": [
            1
           ],
           "xaxis": "x",
           "y": [
            "FISKER"
           ],
           "yaxis": "y"
          }
         ],
         "name": "2012"
        },
        {
         "data": [
          {
           "alignmentgroup": "True",
           "hovertemplate": "State=WA<br>Model Year=2013<br>EV Count=%{text}<br>Make=%{y}<extra></extra>",
           "ids": [
            "CHEVROLET",
            "FIAT",
            "FORD",
            "NISSAN",
            "SMART",
            "TESLA",
            "TOYOTA"
           ],
           "legendgroup": "WA",
           "marker": {
            "color": "#636efa",
            "pattern": {
             "shape": ""
            }
           },
           "name": "WA",
           "offsetgroup": "WA",
           "orientation": "h",
           "showlegend": true,
           "text": [
            815,
            106,
            661,
            1964,
            29,
            813,
            294
           ],
           "textposition": "auto",
           "type": "bar",
           "x": [
            815,
            106,
            661,
            1964,
            29,
            813,
            294
           ],
           "xaxis": "x",
           "y": [
            "CHEVROLET",
            "FIAT",
            "FORD",
            "NISSAN",
            "SMART",
            "TESLA",
            "TOYOTA"
           ],
           "yaxis": "y"
          },
          {
           "alignmentgroup": "True",
           "hovertemplate": "State=VA<br>Model Year=2013<br>EV Count=%{text}<br>Make=%{y}<extra></extra>",
           "ids": [
            "CHEVROLET",
            "NISSAN"
           ],
           "legendgroup": "VA",
           "marker": {
            "color": "#EF553B",
            "pattern": {
             "shape": ""
            }
           },
           "name": "VA",
           "offsetgroup": "VA",
           "orientation": "h",
           "showlegend": true,
           "text": [
            1,
            1
           ],
           "textposition": "auto",
           "type": "bar",
           "x": [
            1,
            1
           ],
           "xaxis": "x",
           "y": [
            "CHEVROLET",
            "NISSAN"
           ],
           "yaxis": "y"
          },
          {
           "alignmentgroup": "True",
           "hovertemplate": "State=CA<br>Model Year=2013<br>EV Count=%{text}<br>Make=%{y}<extra></extra>",
           "ids": [
            "CHEVROLET",
            "TESLA",
            "TOYOTA"
           ],
           "legendgroup": "CA",
           "marker": {
            "color": "#00cc96",
            "pattern": {
             "shape": ""
            }
           },
           "name": "CA",
           "offsetgroup": "CA",
           "orientation": "h",
           "showlegend": true,
           "text": [
            1,
            1,
            1
           ],
           "textposition": "auto",
           "type": "bar",
           "x": [
            1,
            1,
            1
           ],
           "xaxis": "x",
           "y": [
            "CHEVROLET",
            "TESLA",
            "TOYOTA"
           ],
           "yaxis": "y"
          },
          {
           "alignmentgroup": "True",
           "hovertemplate": "State=MD<br>Model Year=2013<br>EV Count=%{text}<br>Make=%{y}<extra></extra>",
           "ids": [
            "TOYOTA"
           ],
           "legendgroup": "MD",
           "marker": {
            "color": "#ab63fa",
            "pattern": {
             "shape": ""
            }
           },
           "name": "MD",
           "offsetgroup": "MD",
           "orientation": "h",
           "showlegend": true,
           "text": [
            1
           ],
           "textposition": "auto",
           "type": "bar",
           "x": [
            1
           ],
           "xaxis": "x",
           "y": [
            "TOYOTA"
           ],
           "yaxis": "y"
          },
          {
           "alignmentgroup": "True",
           "hovertemplate": "State=NV<br>Model Year=2013<br>EV Count=%{text}<br>Make=%{y}<extra></extra>",
           "ids": [
            "CHEVROLET"
           ],
           "legendgroup": "NV",
           "marker": {
            "color": "#FFA15A",
            "pattern": {
             "shape": ""
            }
           },
           "name": "NV",
           "offsetgroup": "NV",
           "orientation": "h",
           "showlegend": true,
           "text": [
            1
           ],
           "textposition": "auto",
           "type": "bar",
           "x": [
            1
           ],
           "xaxis": "x",
           "y": [
            "CHEVROLET"
           ],
           "yaxis": "y"
          },
          {
           "alignmentgroup": "True",
           "hovertemplate": "State=GA<br>Model Year=2013<br>EV Count=%{text}<br>Make=%{y}<extra></extra>",
           "ids": [
            "FORD"
           ],
           "legendgroup": "GA",
           "marker": {
            "color": "#19d3f3",
            "pattern": {
             "shape": ""
            }
           },
           "name": "GA",
           "offsetgroup": "GA",
           "orientation": "h",
           "showlegend": true,
           "text": [
            1
           ],
           "textposition": "auto",
           "type": "bar",
           "x": [
            1
           ],
           "xaxis": "x",
           "y": [
            "FORD"
           ],
           "yaxis": "y"
          },
          {
           "alignmentgroup": "True",
           "hovertemplate": "State=AZ<br>Model Year=2013<br>EV Count=%{text}<br>Make=%{y}<extra></extra>",
           "ids": [
            "NISSAN"
           ],
           "legendgroup": "AZ",
           "marker": {
            "color": "#FF6692",
            "pattern": {
             "shape": ""
            }
           },
           "name": "AZ",
           "offsetgroup": "AZ",
           "orientation": "h",
           "showlegend": true,
           "text": [
            1
           ],
           "textposition": "auto",
           "type": "bar",
           "x": [
            1
           ],
           "xaxis": "x",
           "y": [
            "NISSAN"
           ],
           "yaxis": "y"
          }
         ],
         "name": "2013"
        },
        {
         "data": [
          {
           "alignmentgroup": "True",
           "hovertemplate": "State=WA<br>Model Year=2014<br>EV Count=%{text}<br>Make=%{y}<extra></extra>",
           "ids": [
            "BMW",
            "CADILLAC",
            "CHEVROLET",
            "FIAT",
            "FORD",
            "HONDA",
            "MERCEDES-BENZ",
            "MITSUBISHI",
            "NISSAN",
            "PORSCHE",
            "SMART",
            "TESLA",
            "TOYOTA"
           ],
           "legendgroup": "WA",
           "marker": {
            "color": "#636efa",
            "pattern": {
             "shape": ""
            }
           },
           "name": "WA",
           "offsetgroup": "WA",
           "orientation": "h",
           "showlegend": true,
           "text": [
            457,
            58,
            720,
            97,
            622,
            9,
            31,
            10,
            692,
            8,
            71,
            683,
            215
           ],
           "textposition": "auto",
           "type": "bar",
           "x": [
            457,
            58,
            720,
            97,
            622,
            9,
            31,
            10,
            692,
            8,
            71,
            683,
            215
           ],
           "xaxis": "x",
           "y": [
            "BMW",
            "CADILLAC",
            "CHEVROLET",
            "FIAT",
            "FORD",
            "HONDA",
            "MERCEDES-BENZ",
            "MITSUBISHI",
            "NISSAN",
            "PORSCHE",
            "SMART",
            "TESLA",
            "TOYOTA"
           ],
           "yaxis": "y"
          },
          {
           "alignmentgroup": "True",
           "hovertemplate": "State=VA<br>Model Year=2014<br>EV Count=%{text}<br>Make=%{y}<extra></extra>",
           "ids": [
            "CHEVROLET",
            "FORD"
           ],
           "legendgroup": "VA",
           "marker": {
            "color": "#EF553B",
            "pattern": {
             "shape": ""
            }
           },
           "name": "VA",
           "offsetgroup": "VA",
           "orientation": "h",
           "showlegend": true,
           "text": [
            1,
            2
           ],
           "textposition": "auto",
           "type": "bar",
           "x": [
            1,
            2
           ],
           "xaxis": "x",
           "y": [
            "CHEVROLET",
            "FORD"
           ],
           "yaxis": "y"
          },
          {
           "alignmentgroup": "True",
           "hovertemplate": "State=CA<br>Model Year=2014<br>EV Count=%{text}<br>Make=%{y}<extra></extra>",
           "ids": [
            "FORD"
           ],
           "legendgroup": "CA",
           "marker": {
            "color": "#00cc96",
            "pattern": {
             "shape": ""
            }
           },
           "name": "CA",
           "offsetgroup": "CA",
           "orientation": "h",
           "showlegend": true,
           "text": [
            1
           ],
           "textposition": "auto",
           "type": "bar",
           "x": [
            1
           ],
           "xaxis": "x",
           "y": [
            "FORD"
           ],
           "yaxis": "y"
          },
          {
           "alignmentgroup": "True",
           "hovertemplate": "State=MD<br>Model Year=2014<br>EV Count=%{text}<br>Make=%{y}<extra></extra>",
           "ids": [
            "NISSAN"
           ],
           "legendgroup": "MD",
           "marker": {
            "color": "#ab63fa",
            "pattern": {
             "shape": ""
            }
           },
           "name": "MD",
           "offsetgroup": "MD",
           "orientation": "h",
           "showlegend": true,
           "text": [
            1
           ],
           "textposition": "auto",
           "type": "bar",
           "x": [
            1
           ],
           "xaxis": "x",
           "y": [
            "NISSAN"
           ],
           "yaxis": "y"
          },
          {
           "alignmentgroup": "True",
           "hovertemplate": "State=NV<br>Model Year=2014<br>EV Count=%{text}<br>Make=%{y}<extra></extra>",
           "ids": [
            "CHEVROLET",
            "FORD"
           ],
           "legendgroup": "NV",
           "marker": {
            "color": "#FFA15A",
            "pattern": {
             "shape": ""
            }
           },
           "name": "NV",
           "offsetgroup": "NV",
           "orientation": "h",
           "showlegend": true,
           "text": [
            1,
            1
           ],
           "textposition": "auto",
           "type": "bar",
           "x": [
            1,
            1
           ],
           "xaxis": "x",
           "y": [
            "CHEVROLET",
            "FORD"
           ],
           "yaxis": "y"
          },
          {
           "alignmentgroup": "True",
           "hovertemplate": "State=CO<br>Model Year=2014<br>EV Count=%{text}<br>Make=%{y}<extra></extra>",
           "ids": [
            "CHEVROLET"
           ],
           "legendgroup": "CO",
           "marker": {
            "color": "#B6E880",
            "pattern": {
             "shape": ""
            }
           },
           "name": "CO",
           "offsetgroup": "CO",
           "orientation": "h",
           "showlegend": true,
           "text": [
            1
           ],
           "textposition": "auto",
           "type": "bar",
           "x": [
            1
           ],
           "xaxis": "x",
           "y": [
            "CHEVROLET"
           ],
           "yaxis": "y"
          },
          {
           "alignmentgroup": "True",
           "hovertemplate": "State=CT<br>Model Year=2014<br>EV Count=%{text}<br>Make=%{y}<extra></extra>",
           "ids": [
            "CHEVROLET",
            "FORD"
           ],
           "legendgroup": "CT",
           "marker": {
            "color": "#FF97FF",
            "pattern": {
             "shape": ""
            }
           },
           "name": "CT",
           "offsetgroup": "CT",
           "orientation": "h",
           "showlegend": true,
           "text": [
            1,
            1
           ],
           "textposition": "auto",
           "type": "bar",
           "x": [
            1,
            1
           ],
           "xaxis": "x",
           "y": [
            "CHEVROLET",
            "FORD"
           ],
           "yaxis": "y"
          },
          {
           "alignmentgroup": "True",
           "hovertemplate": "State=TX<br>Model Year=2014<br>EV Count=%{text}<br>Make=%{y}<extra></extra>",
           "ids": [
            "FORD"
           ],
           "legendgroup": "TX",
           "marker": {
            "color": "#FECB52",
            "pattern": {
             "shape": ""
            }
           },
           "name": "TX",
           "offsetgroup": "TX",
           "orientation": "h",
           "showlegend": true,
           "text": [
            1
           ],
           "textposition": "auto",
           "type": "bar",
           "x": [
            1
           ],
           "xaxis": "x",
           "y": [
            "FORD"
           ],
           "yaxis": "y"
          },
          {
           "alignmentgroup": "True",
           "hovertemplate": "State=RI<br>Model Year=2014<br>EV Count=%{text}<br>Make=%{y}<extra></extra>",
           "ids": [
            "NISSAN"
           ],
           "legendgroup": "RI",
           "marker": {
            "color": "#636efa",
            "pattern": {
             "shape": ""
            }
           },
           "name": "RI",
           "offsetgroup": "RI",
           "orientation": "h",
           "showlegend": true,
           "text": [
            1
           ],
           "textposition": "auto",
           "type": "bar",
           "x": [
            1
           ],
           "xaxis": "x",
           "y": [
            "NISSAN"
           ],
           "yaxis": "y"
          }
         ],
         "name": "2014"
        },
        {
         "data": [
          {
           "alignmentgroup": "True",
           "hovertemplate": "State=WA<br>Model Year=2015<br>EV Count=%{text}<br>Make=%{y}<extra></extra>",
           "ids": [
            "BMW",
            "CHEVROLET",
            "FIAT",
            "FORD",
            "KIA",
            "MERCEDES-BENZ",
            "NISSAN",
            "PORSCHE",
            "SMART",
            "TESLA",
            "TOYOTA",
            "VOLKSWAGEN"
           ],
           "legendgroup": "WA",
           "marker": {
            "color": "#636efa",
            "pattern": {
             "shape": ""
            }
           },
           "name": "WA",
           "offsetgroup": "WA",
           "orientation": "h",
           "showlegend": true,
           "text": [
            402,
            465,
            242,
            550,
            22,
            24,
            1837,
            33,
            52,
            1086,
            87,
            124
           ],
           "textposition": "auto",
           "type": "bar",
           "x": [
            402,
            465,
            242,
            550,
            22,
            24,
            1837,
            33,
            52,
            1086,
            87,
            124
           ],
           "xaxis": "x",
           "y": [
            "BMW",
            "CHEVROLET",
            "FIAT",
            "FORD",
            "KIA",
            "MERCEDES-BENZ",
            "NISSAN",
            "PORSCHE",
            "SMART",
            "TESLA",
            "TOYOTA",
            "VOLKSWAGEN"
           ],
           "yaxis": "y"
          },
          {
           "alignmentgroup": "True",
           "hovertemplate": "State=VA<br>Model Year=2015<br>EV Count=%{text}<br>Make=%{y}<extra></extra>",
           "ids": [
            "TESLA"
           ],
           "legendgroup": "VA",
           "marker": {
            "color": "#EF553B",
            "pattern": {
             "shape": ""
            }
           },
           "name": "VA",
           "offsetgroup": "VA",
           "orientation": "h",
           "showlegend": true,
           "text": [
            1
           ],
           "textposition": "auto",
           "type": "bar",
           "x": [
            1
           ],
           "xaxis": "x",
           "y": [
            "TESLA"
           ],
           "yaxis": "y"
          },
          {
           "alignmentgroup": "True",
           "hovertemplate": "State=CA<br>Model Year=2015<br>EV Count=%{text}<br>Make=%{y}<extra></extra>",
           "ids": [
            "FORD",
            "NISSAN",
            "TESLA",
            "TOYOTA"
           ],
           "legendgroup": "CA",
           "marker": {
            "color": "#00cc96",
            "pattern": {
             "shape": ""
            }
           },
           "name": "CA",
           "offsetgroup": "CA",
           "orientation": "h",
           "showlegend": true,
           "text": [
            2,
            1,
            1,
            1
           ],
           "textposition": "auto",
           "type": "bar",
           "x": [
            2,
            1,
            1,
            1
           ],
           "xaxis": "x",
           "y": [
            "FORD",
            "NISSAN",
            "TESLA",
            "TOYOTA"
           ],
           "yaxis": "y"
          },
          {
           "alignmentgroup": "True",
           "hovertemplate": "State=MD<br>Model Year=2015<br>EV Count=%{text}<br>Make=%{y}<extra></extra>",
           "ids": [
            "FORD"
           ],
           "legendgroup": "MD",
           "marker": {
            "color": "#ab63fa",
            "pattern": {
             "shape": ""
            }
           },
           "name": "MD",
           "offsetgroup": "MD",
           "orientation": "h",
           "showlegend": true,
           "text": [
            1
           ],
           "textposition": "auto",
           "type": "bar",
           "x": [
            1
           ],
           "xaxis": "x",
           "y": [
            "FORD"
           ],
           "yaxis": "y"
          },
          {
           "alignmentgroup": "True",
           "hovertemplate": "State=GA<br>Model Year=2015<br>EV Count=%{text}<br>Make=%{y}<extra></extra>",
           "ids": [
            "NISSAN"
           ],
           "legendgroup": "GA",
           "marker": {
            "color": "#19d3f3",
            "pattern": {
             "shape": ""
            }
           },
           "name": "GA",
           "offsetgroup": "GA",
           "orientation": "h",
           "showlegend": true,
           "text": [
            1
           ],
           "textposition": "auto",
           "type": "bar",
           "x": [
            1
           ],
           "xaxis": "x",
           "y": [
            "NISSAN"
           ],
           "yaxis": "y"
          },
          {
           "alignmentgroup": "True",
           "hovertemplate": "State=AZ<br>Model Year=2015<br>EV Count=%{text}<br>Make=%{y}<extra></extra>",
           "ids": [
            "TESLA"
           ],
           "legendgroup": "AZ",
           "marker": {
            "color": "#FF6692",
            "pattern": {
             "shape": ""
            }
           },
           "name": "AZ",
           "offsetgroup": "AZ",
           "orientation": "h",
           "showlegend": true,
           "text": [
            1
           ],
           "textposition": "auto",
           "type": "bar",
           "x": [
            1
           ],
           "xaxis": "x",
           "y": [
            "TESLA"
           ],
           "yaxis": "y"
          },
          {
           "alignmentgroup": "True",
           "hovertemplate": "State=CT<br>Model Year=2015<br>EV Count=%{text}<br>Make=%{y}<extra></extra>",
           "ids": [
            "CHEVROLET"
           ],
           "legendgroup": "CT",
           "marker": {
            "color": "#FF97FF",
            "pattern": {
             "shape": ""
            }
           },
           "name": "CT",
           "offsetgroup": "CT",
           "orientation": "h",
           "showlegend": true,
           "text": [
            1
           ],
           "textposition": "auto",
           "type": "bar",
           "x": [
            1
           ],
           "xaxis": "x",
           "y": [
            "CHEVROLET"
           ],
           "yaxis": "y"
          },
          {
           "alignmentgroup": "True",
           "hovertemplate": "State=LA<br>Model Year=2015<br>EV Count=%{text}<br>Make=%{y}<extra></extra>",
           "ids": [
            "BMW"
           ],
           "legendgroup": "LA",
           "marker": {
            "color": "#EF553B",
            "pattern": {
             "shape": ""
            }
           },
           "name": "LA",
           "offsetgroup": "LA",
           "orientation": "h",
           "showlegend": true,
           "text": [
            1
           ],
           "textposition": "auto",
           "type": "bar",
           "x": [
            1
           ],
           "xaxis": "x",
           "y": [
            "BMW"
           ],
           "yaxis": "y"
          },
          {
           "alignmentgroup": "True",
           "hovertemplate": "State=NH<br>Model Year=2015<br>EV Count=%{text}<br>Make=%{y}<extra></extra>",
           "ids": [
            "CHEVROLET"
           ],
           "legendgroup": "NH",
           "marker": {
            "color": "#00cc96",
            "pattern": {
             "shape": ""
            }
           },
           "name": "NH",
           "offsetgroup": "NH",
           "orientation": "h",
           "showlegend": true,
           "text": [
            1
           ],
           "textposition": "auto",
           "type": "bar",
           "x": [
            1
           ],
           "xaxis": "x",
           "y": [
            "CHEVROLET"
           ],
           "yaxis": "y"
          },
          {
           "alignmentgroup": "True",
           "hovertemplate": "State=DC<br>Model Year=2015<br>EV Count=%{text}<br>Make=%{y}<extra></extra>",
           "ids": [
            "FORD"
           ],
           "legendgroup": "DC",
           "marker": {
            "color": "#ab63fa",
            "pattern": {
             "shape": ""
            }
           },
           "name": "DC",
           "offsetgroup": "DC",
           "orientation": "h",
           "showlegend": true,
           "text": [
            1
           ],
           "textposition": "auto",
           "type": "bar",
           "x": [
            1
           ],
           "xaxis": "x",
           "y": [
            "FORD"
           ],
           "yaxis": "y"
          },
          {
           "alignmentgroup": "True",
           "hovertemplate": "State=FL<br>Model Year=2015<br>EV Count=%{text}<br>Make=%{y}<extra></extra>",
           "ids": [
            "FORD"
           ],
           "legendgroup": "FL",
           "marker": {
            "color": "#FFA15A",
            "pattern": {
             "shape": ""
            }
           },
           "name": "FL",
           "offsetgroup": "FL",
           "orientation": "h",
           "showlegend": true,
           "text": [
            1
           ],
           "textposition": "auto",
           "type": "bar",
           "x": [
            1
           ],
           "xaxis": "x",
           "y": [
            "FORD"
           ],
           "yaxis": "y"
          },
          {
           "alignmentgroup": "True",
           "hovertemplate": "State=NY<br>Model Year=2015<br>EV Count=%{text}<br>Make=%{y}<extra></extra>",
           "ids": [
            "FORD"
           ],
           "legendgroup": "NY",
           "marker": {
            "color": "#19d3f3",
            "pattern": {
             "shape": ""
            }
           },
           "name": "NY",
           "offsetgroup": "NY",
           "orientation": "h",
           "showlegend": true,
           "text": [
            1
           ],
           "textposition": "auto",
           "type": "bar",
           "x": [
            1
           ],
           "xaxis": "x",
           "y": [
            "FORD"
           ],
           "yaxis": "y"
          },
          {
           "alignmentgroup": "True",
           "hovertemplate": "State=UT<br>Model Year=2015<br>EV Count=%{text}<br>Make=%{y}<extra></extra>",
           "ids": [
            "TOYOTA"
           ],
           "legendgroup": "UT",
           "marker": {
            "color": "#FF6692",
            "pattern": {
             "shape": ""
            }
           },
           "name": "UT",
           "offsetgroup": "UT",
           "orientation": "h",
           "showlegend": true,
           "text": [
            1
           ],
           "textposition": "auto",
           "type": "bar",
           "x": [
            1
           ],
           "xaxis": "x",
           "y": [
            "TOYOTA"
           ],
           "yaxis": "y"
          }
         ],
         "name": "2015"
        },
        {
         "data": [
          {
           "alignmentgroup": "True",
           "hovertemplate": "State=WA<br>Model Year=2016<br>EV Count=%{text}<br>Make=%{y}<extra></extra>",
           "ids": [
            "AUDI",
            "BMW",
            "CADILLAC",
            "CHEVROLET",
            "FIAT",
            "FORD",
            "HYUNDAI",
            "KIA",
            "MERCEDES-BENZ",
            "MITSUBISHI",
            "NISSAN",
            "PORSCHE",
            "SMART",
            "TESLA",
            "VOLKSWAGEN",
            "VOLVO"
           ],
           "legendgroup": "WA",
           "marker": {
            "color": "#636efa",
            "pattern": {
             "shape": ""
            }
           },
           "name": "WA",
           "offsetgroup": "WA",
           "orientation": "h",
           "showlegend": true,
           "text": [
            214,
            381,
            18,
            309,
            147,
            774,
            44,
            407,
            35,
            12,
            1208,
            78,
            31,
            1632,
            319,
            112
           ],
           "textposition": "auto",
           "type": "bar",
           "x": [
            214,
            381,
            18,
            309,
            147,
            774,
            44,
            407,
            35,
            12,
            1208,
            78,
            31,
            1632,
            319,
            112
           ],
           "xaxis": "x",
           "y": [
            "AUDI",
            "BMW",
            "CADILLAC",
            "CHEVROLET",
            "FIAT",
            "FORD",
            "HYUNDAI",
            "KIA",
            "MERCEDES-BENZ",
            "MITSUBISHI",
            "NISSAN",
            "PORSCHE",
            "SMART",
            "TESLA",
            "VOLKSWAGEN",
            "VOLVO"
           ],
           "yaxis": "y"
          },
          {
           "alignmentgroup": "True",
           "hovertemplate": "State=VA<br>Model Year=2016<br>EV Count=%{text}<br>Make=%{y}<extra></extra>",
           "ids": [
            "BMW",
            "TESLA"
           ],
           "legendgroup": "VA",
           "marker": {
            "color": "#EF553B",
            "pattern": {
             "shape": ""
            }
           },
           "name": "VA",
           "offsetgroup": "VA",
           "orientation": "h",
           "showlegend": true,
           "text": [
            1,
            1
           ],
           "textposition": "auto",
           "type": "bar",
           "x": [
            1,
            1
           ],
           "xaxis": "x",
           "y": [
            "BMW",
            "TESLA"
           ],
           "yaxis": "y"
          },
          {
           "alignmentgroup": "True",
           "hovertemplate": "State=CA<br>Model Year=2016<br>EV Count=%{text}<br>Make=%{y}<extra></extra>",
           "ids": [
            "FORD",
            "TESLA"
           ],
           "legendgroup": "CA",
           "marker": {
            "color": "#00cc96",
            "pattern": {
             "shape": ""
            }
           },
           "name": "CA",
           "offsetgroup": "CA",
           "orientation": "h",
           "showlegend": true,
           "text": [
            2,
            2
           ],
           "textposition": "auto",
           "type": "bar",
           "x": [
            2,
            2
           ],
           "xaxis": "x",
           "y": [
            "FORD",
            "TESLA"
           ],
           "yaxis": "y"
          },
          {
           "alignmentgroup": "True",
           "hovertemplate": "State=MD<br>Model Year=2016<br>EV Count=%{text}<br>Make=%{y}<extra></extra>",
           "ids": [
            "TESLA"
           ],
           "legendgroup": "MD",
           "marker": {
            "color": "#ab63fa",
            "pattern": {
             "shape": ""
            }
           },
           "name": "MD",
           "offsetgroup": "MD",
           "orientation": "h",
           "showlegend": true,
           "text": [
            1
           ],
           "textposition": "auto",
           "type": "bar",
           "x": [
            1
           ],
           "xaxis": "x",
           "y": [
            "TESLA"
           ],
           "yaxis": "y"
          },
          {
           "alignmentgroup": "True",
           "hovertemplate": "State=TX<br>Model Year=2016<br>EV Count=%{text}<br>Make=%{y}<extra></extra>",
           "ids": [
            "FORD",
            "TESLA"
           ],
           "legendgroup": "TX",
           "marker": {
            "color": "#FECB52",
            "pattern": {
             "shape": ""
            }
           },
           "name": "TX",
           "offsetgroup": "TX",
           "orientation": "h",
           "showlegend": true,
           "text": [
            1,
            1
           ],
           "textposition": "auto",
           "type": "bar",
           "x": [
            1,
            1
           ],
           "xaxis": "x",
           "y": [
            "FORD",
            "TESLA"
           ],
           "yaxis": "y"
          },
          {
           "alignmentgroup": "True",
           "hovertemplate": "State=NY<br>Model Year=2016<br>EV Count=%{text}<br>Make=%{y}<extra></extra>",
           "ids": [
            "TESLA"
           ],
           "legendgroup": "NY",
           "marker": {
            "color": "#19d3f3",
            "pattern": {
             "shape": ""
            }
           },
           "name": "NY",
           "offsetgroup": "NY",
           "orientation": "h",
           "showlegend": true,
           "text": [
            1
           ],
           "textposition": "auto",
           "type": "bar",
           "x": [
            1
           ],
           "xaxis": "x",
           "y": [
            "TESLA"
           ],
           "yaxis": "y"
          },
          {
           "alignmentgroup": "True",
           "hovertemplate": "State=OK<br>Model Year=2016<br>EV Count=%{text}<br>Make=%{y}<extra></extra>",
           "ids": [
            "BMW"
           ],
           "legendgroup": "OK",
           "marker": {
            "color": "#B6E880",
            "pattern": {
             "shape": ""
            }
           },
           "name": "OK",
           "offsetgroup": "OK",
           "orientation": "h",
           "showlegend": true,
           "text": [
            1
           ],
           "textposition": "auto",
           "type": "bar",
           "x": [
            1
           ],
           "xaxis": "x",
           "y": [
            "BMW"
           ],
           "yaxis": "y"
          },
          {
           "alignmentgroup": "True",
           "hovertemplate": "State=IL<br>Model Year=2016<br>EV Count=%{text}<br>Make=%{y}<extra></extra>",
           "ids": [
            "FIAT"
           ],
           "legendgroup": "IL",
           "marker": {
            "color": "#FF97FF",
            "pattern": {
             "shape": ""
            }
           },
           "name": "IL",
           "offsetgroup": "IL",
           "orientation": "h",
           "showlegend": true,
           "text": [
            1
           ],
           "textposition": "auto",
           "type": "bar",
           "x": [
            1
           ],
           "xaxis": "x",
           "y": [
            "FIAT"
           ],
           "yaxis": "y"
          },
          {
           "alignmentgroup": "True",
           "hovertemplate": "State=AK<br>Model Year=2016<br>EV Count=%{text}<br>Make=%{y}<extra></extra>",
           "ids": [
            "FORD"
           ],
           "legendgroup": "AK",
           "marker": {
            "color": "#FECB52",
            "pattern": {
             "shape": ""
            }
           },
           "name": "AK",
           "offsetgroup": "AK",
           "orientation": "h",
           "showlegend": true,
           "text": [
            1
           ],
           "textposition": "auto",
           "type": "bar",
           "x": [
            1
           ],
           "xaxis": "x",
           "y": [
            "FORD"
           ],
           "yaxis": "y"
          },
          {
           "alignmentgroup": "True",
           "hovertemplate": "State=PA<br>Model Year=2016<br>EV Count=%{text}<br>Make=%{y}<extra></extra>",
           "ids": [
            "TESLA"
           ],
           "legendgroup": "PA",
           "marker": {
            "color": "#636efa",
            "pattern": {
             "shape": ""
            }
           },
           "name": "PA",
           "offsetgroup": "PA",
           "orientation": "h",
           "showlegend": true,
           "text": [
            1
           ],
           "textposition": "auto",
           "type": "bar",
           "x": [
            1
           ],
           "xaxis": "x",
           "y": [
            "TESLA"
           ],
           "yaxis": "y"
          }
         ],
         "name": "2016"
        },
        {
         "data": [
          {
           "alignmentgroup": "True",
           "hovertemplate": "State=WA<br>Model Year=2017<br>EV Count=%{text}<br>Make=%{y}<extra></extra>",
           "ids": [
            "AUDI",
            "BMW",
            "CADILLAC",
            "CHEVROLET",
            "CHRYSLER",
            "FIAT",
            "FORD",
            "HYUNDAI",
            "KIA",
            "MERCEDES-BENZ",
            "MITSUBISHI",
            "NISSAN",
            "PORSCHE",
            "SMART",
            "TESLA",
            "TOYOTA",
            "VOLKSWAGEN",
            "VOLVO"
           ],
           "legendgroup": "WA",
           "marker": {
            "color": "#636efa",
            "pattern": {
             "shape": ""
            }
           },
           "name": "WA",
           "offsetgroup": "WA",
           "orientation": "h",
           "showlegend": true,
           "text": [
            185,
            686,
            15,
            2741,
            94,
            167,
            657,
            46,
            210,
            45,
            1,
            933,
            71,
            34,
            1673,
            895,
            52,
            115
           ],
           "textposition": "auto",
           "type": "bar",
           "x": [
            185,
            686,
            15,
            2741,
            94,
            167,
            657,
            46,
            210,
            45,
            1,
            933,
            71,
            34,
            1673,
            895,
            52,
            115
           ],
           "xaxis": "x",
           "y": [
            "AUDI",
            "BMW",
            "CADILLAC",
            "CHEVROLET",
            "CHRYSLER",
            "FIAT",
            "FORD",
            "HYUNDAI",
            "KIA",
            "MERCEDES-BENZ",
            "MITSUBISHI",
            "NISSAN",
            "PORSCHE",
            "SMART",
            "TESLA",
            "TOYOTA",
            "VOLKSWAGEN",
            "VOLVO"
           ],
           "yaxis": "y"
          },
          {
           "alignmentgroup": "True",
           "hovertemplate": "State=VA<br>Model Year=2017<br>EV Count=%{text}<br>Make=%{y}<extra></extra>",
           "ids": [
            "TOYOTA"
           ],
           "legendgroup": "VA",
           "marker": {
            "color": "#EF553B",
            "pattern": {
             "shape": ""
            }
           },
           "name": "VA",
           "offsetgroup": "VA",
           "orientation": "h",
           "showlegend": true,
           "text": [
            2
           ],
           "textposition": "auto",
           "type": "bar",
           "x": [
            2
           ],
           "xaxis": "x",
           "y": [
            "TOYOTA"
           ],
           "yaxis": "y"
          },
          {
           "alignmentgroup": "True",
           "hovertemplate": "State=CA<br>Model Year=2017<br>EV Count=%{text}<br>Make=%{y}<extra></extra>",
           "ids": [
            "AUDI",
            "BMW",
            "CHEVROLET",
            "FORD",
            "TESLA"
           ],
           "legendgroup": "CA",
           "marker": {
            "color": "#00cc96",
            "pattern": {
             "shape": ""
            }
           },
           "name": "CA",
           "offsetgroup": "CA",
           "orientation": "h",
           "showlegend": true,
           "text": [
            1,
            1,
            1,
            1,
            2
           ],
           "textposition": "auto",
           "type": "bar",
           "x": [
            1,
            1,
            1,
            1,
            2
           ],
           "xaxis": "x",
           "y": [
            "AUDI",
            "BMW",
            "CHEVROLET",
            "FORD",
            "TESLA"
           ],
           "yaxis": "y"
          },
          {
           "alignmentgroup": "True",
           "hovertemplate": "State=MD<br>Model Year=2017<br>EV Count=%{text}<br>Make=%{y}<extra></extra>",
           "ids": [
            "CHEVROLET",
            "TESLA"
           ],
           "legendgroup": "MD",
           "marker": {
            "color": "#ab63fa",
            "pattern": {
             "shape": ""
            }
           },
           "name": "MD",
           "offsetgroup": "MD",
           "orientation": "h",
           "showlegend": true,
           "text": [
            1,
            1
           ],
           "textposition": "auto",
           "type": "bar",
           "x": [
            1,
            1
           ],
           "xaxis": "x",
           "y": [
            "CHEVROLET",
            "TESLA"
           ],
           "yaxis": "y"
          },
          {
           "alignmentgroup": "True",
           "hovertemplate": "State=GA<br>Model Year=2017<br>EV Count=%{text}<br>Make=%{y}<extra></extra>",
           "ids": [
            "BMW"
           ],
           "legendgroup": "GA",
           "marker": {
            "color": "#19d3f3",
            "pattern": {
             "shape": ""
            }
           },
           "name": "GA",
           "offsetgroup": "GA",
           "orientation": "h",
           "showlegend": true,
           "text": [
            1
           ],
           "textposition": "auto",
           "type": "bar",
           "x": [
            1
           ],
           "xaxis": "x",
           "y": [
            "BMW"
           ],
           "yaxis": "y"
          },
          {
           "alignmentgroup": "True",
           "hovertemplate": "State=TX<br>Model Year=2017<br>EV Count=%{text}<br>Make=%{y}<extra></extra>",
           "ids": [
            "FORD",
            "TESLA",
            "TOYOTA"
           ],
           "legendgroup": "TX",
           "marker": {
            "color": "#FECB52",
            "pattern": {
             "shape": ""
            }
           },
           "name": "TX",
           "offsetgroup": "TX",
           "orientation": "h",
           "showlegend": true,
           "text": [
            1,
            2,
            1
           ],
           "textposition": "auto",
           "type": "bar",
           "x": [
            1,
            2,
            1
           ],
           "xaxis": "x",
           "y": [
            "FORD",
            "TESLA",
            "TOYOTA"
           ],
           "yaxis": "y"
          },
          {
           "alignmentgroup": "True",
           "hovertemplate": "State=DC<br>Model Year=2017<br>EV Count=%{text}<br>Make=%{y}<extra></extra>",
           "ids": [
            "BMW"
           ],
           "legendgroup": "DC",
           "marker": {
            "color": "#ab63fa",
            "pattern": {
             "shape": ""
            }
           },
           "name": "DC",
           "offsetgroup": "DC",
           "orientation": "h",
           "showlegend": true,
           "text": [
            1
           ],
           "textposition": "auto",
           "type": "bar",
           "x": [
            1
           ],
           "xaxis": "x",
           "y": [
            "BMW"
           ],
           "yaxis": "y"
          },
          {
           "alignmentgroup": "True",
           "hovertemplate": "State=FL<br>Model Year=2017<br>EV Count=%{text}<br>Make=%{y}<extra></extra>",
           "ids": [
            "TESLA"
           ],
           "legendgroup": "FL",
           "marker": {
            "color": "#FFA15A",
            "pattern": {
             "shape": ""
            }
           },
           "name": "FL",
           "offsetgroup": "FL",
           "orientation": "h",
           "showlegend": true,
           "text": [
            1
           ],
           "textposition": "auto",
           "type": "bar",
           "x": [
            1
           ],
           "xaxis": "x",
           "y": [
            "TESLA"
           ],
           "yaxis": "y"
          },
          {
           "alignmentgroup": "True",
           "hovertemplate": "State=NY<br>Model Year=2017<br>EV Count=%{text}<br>Make=%{y}<extra></extra>",
           "ids": [
            "NISSAN"
           ],
           "legendgroup": "NY",
           "marker": {
            "color": "#19d3f3",
            "pattern": {
             "shape": ""
            }
           },
           "name": "NY",
           "offsetgroup": "NY",
           "orientation": "h",
           "showlegend": true,
           "text": [
            1
           ],
           "textposition": "auto",
           "type": "bar",
           "x": [
            1
           ],
           "xaxis": "x",
           "y": [
            "NISSAN"
           ],
           "yaxis": "y"
          },
          {
           "alignmentgroup": "True",
           "hovertemplate": "State=MO<br>Model Year=2017<br>EV Count=%{text}<br>Make=%{y}<extra></extra>",
           "ids": [
            "AUDI"
           ],
           "legendgroup": "MO",
           "marker": {
            "color": "#EF553B",
            "pattern": {
             "shape": ""
            }
           },
           "name": "MO",
           "offsetgroup": "MO",
           "orientation": "h",
           "showlegend": true,
           "text": [
            1
           ],
           "textposition": "auto",
           "type": "bar",
           "x": [
            1
           ],
           "xaxis": "x",
           "y": [
            "AUDI"
           ],
           "yaxis": "y"
          },
          {
           "alignmentgroup": "True",
           "hovertemplate": "State=AR<br>Model Year=2017<br>EV Count=%{text}<br>Make=%{y}<extra></extra>",
           "ids": [
            "BMW"
           ],
           "legendgroup": "AR",
           "marker": {
            "color": "#00cc96",
            "pattern": {
             "shape": ""
            }
           },
           "name": "AR",
           "offsetgroup": "AR",
           "orientation": "h",
           "showlegend": true,
           "text": [
            1
           ],
           "textposition": "auto",
           "type": "bar",
           "x": [
            1
           ],
           "xaxis": "x",
           "y": [
            "BMW"
           ],
           "yaxis": "y"
          },
          {
           "alignmentgroup": "True",
           "hovertemplate": "State=KS<br>Model Year=2017<br>EV Count=%{text}<br>Make=%{y}<extra></extra>",
           "ids": [
            "BMW"
           ],
           "legendgroup": "KS",
           "marker": {
            "color": "#ab63fa",
            "pattern": {
             "shape": ""
            }
           },
           "name": "KS",
           "offsetgroup": "KS",
           "orientation": "h",
           "showlegend": true,
           "text": [
            1
           ],
           "textposition": "auto",
           "type": "bar",
           "x": [
            1
           ],
           "xaxis": "x",
           "y": [
            "BMW"
           ],
           "yaxis": "y"
          },
          {
           "alignmentgroup": "True",
           "hovertemplate": "State=NC<br>Model Year=2017<br>EV Count=%{text}<br>Make=%{y}<extra></extra>",
           "ids": [
            "BMW"
           ],
           "legendgroup": "NC",
           "marker": {
            "color": "#FFA15A",
            "pattern": {
             "shape": ""
            }
           },
           "name": "NC",
           "offsetgroup": "NC",
           "orientation": "h",
           "showlegend": true,
           "text": [
            1
           ],
           "textposition": "auto",
           "type": "bar",
           "x": [
            1
           ],
           "xaxis": "x",
           "y": [
            "BMW"
           ],
           "yaxis": "y"
          },
          {
           "alignmentgroup": "True",
           "hovertemplate": "State=OR<br>Model Year=2017<br>EV Count=%{text}<br>Make=%{y}<extra></extra>",
           "ids": [
            "CHEVROLET"
           ],
           "legendgroup": "OR",
           "marker": {
            "color": "#19d3f3",
            "pattern": {
             "shape": ""
            }
           },
           "name": "OR",
           "offsetgroup": "OR",
           "orientation": "h",
           "showlegend": true,
           "text": [
            1
           ],
           "textposition": "auto",
           "type": "bar",
           "x": [
            1
           ],
           "xaxis": "x",
           "y": [
            "CHEVROLET"
           ],
           "yaxis": "y"
          },
          {
           "alignmentgroup": "True",
           "hovertemplate": "State=SC<br>Model Year=2017<br>EV Count=%{text}<br>Make=%{y}<extra></extra>",
           "ids": [
            "TOYOTA"
           ],
           "legendgroup": "SC",
           "marker": {
            "color": "#FF6692",
            "pattern": {
             "shape": ""
            }
           },
           "name": "SC",
           "offsetgroup": "SC",
           "orientation": "h",
           "showlegend": true,
           "text": [
            1
           ],
           "textposition": "auto",
           "type": "bar",
           "x": [
            1
           ],
           "xaxis": "x",
           "y": [
            "TOYOTA"
           ],
           "yaxis": "y"
          }
         ],
         "name": "2017"
        },
        {
         "data": [
          {
           "alignmentgroup": "True",
           "hovertemplate": "State=WA<br>Model Year=2018<br>EV Count=%{text}<br>Make=%{y}<extra></extra>",
           "ids": [
            "AUDI",
            "BMW",
            "CADILLAC",
            "CHEVROLET",
            "CHRYSLER",
            "FIAT",
            "FORD",
            "HONDA",
            "HYUNDAI",
            "KIA",
            "MERCEDES-BENZ",
            "MINI",
            "MITSUBISHI",
            "NISSAN",
            "PORSCHE",
            "SMART",
            "TESLA",
            "TOYOTA",
            "VOLKSWAGEN",
            "VOLVO"
           ],
           "legendgroup": "WA",
           "marker": {
            "color": "#636efa",
            "pattern": {
             "shape": ""
            }
           },
           "name": "WA",
           "offsetgroup": "WA",
           "orientation": "h",
           "showlegend": true,
           "text": [
            174,
            709,
            17,
            1122,
            548,
            53,
            170,
            612,
            20,
            322,
            53,
            50,
            181,
            1230,
            77,
            47,
            7900,
            659,
            39,
            226
           ],
           "textposition": "auto",
           "type": "bar",
           "x": [
            174,
            709,
            17,
            1122,
            548,
            53,
            170,
            612,
            20,
            322,
            53,
            50,
            181,
            1230,
            77,
            47,
            7900,
            659,
            39,
            226
           ],
           "xaxis": "x",
           "y": [
            "AUDI",
            "BMW",
            "CADILLAC",
            "CHEVROLET",
            "CHRYSLER",
            "FIAT",
            "FORD",
            "HONDA",
            "HYUNDAI",
            "KIA",
            "MERCEDES-BENZ",
            "MINI",
            "MITSUBISHI",
            "NISSAN",
            "PORSCHE",
            "SMART",
            "TESLA",
            "TOYOTA",
            "VOLKSWAGEN",
            "VOLVO"
           ],
           "yaxis": "y"
          },
          {
           "alignmentgroup": "True",
           "hovertemplate": "State=VA<br>Model Year=2018<br>EV Count=%{text}<br>Make=%{y}<extra></extra>",
           "ids": [
            "TESLA"
           ],
           "legendgroup": "VA",
           "marker": {
            "color": "#EF553B",
            "pattern": {
             "shape": ""
            }
           },
           "name": "VA",
           "offsetgroup": "VA",
           "orientation": "h",
           "showlegend": true,
           "text": [
            3
           ],
           "textposition": "auto",
           "type": "bar",
           "x": [
            3
           ],
           "xaxis": "x",
           "y": [
            "TESLA"
           ],
           "yaxis": "y"
          },
          {
           "alignmentgroup": "True",
           "hovertemplate": "State=CA<br>Model Year=2018<br>EV Count=%{text}<br>Make=%{y}<extra></extra>",
           "ids": [
            "HONDA",
            "MITSUBISHI",
            "PORSCHE",
            "TESLA"
           ],
           "legendgroup": "CA",
           "marker": {
            "color": "#00cc96",
            "pattern": {
             "shape": ""
            }
           },
           "name": "CA",
           "offsetgroup": "CA",
           "orientation": "h",
           "showlegend": true,
           "text": [
            1,
            1,
            1,
            9
           ],
           "textposition": "auto",
           "type": "bar",
           "x": [
            1,
            1,
            1,
            9
           ],
           "xaxis": "x",
           "y": [
            "HONDA",
            "MITSUBISHI",
            "PORSCHE",
            "TESLA"
           ],
           "yaxis": "y"
          },
          {
           "alignmentgroup": "True",
           "hovertemplate": "State=MD<br>Model Year=2018<br>EV Count=%{text}<br>Make=%{y}<extra></extra>",
           "ids": [
            "CHEVROLET",
            "CHRYSLER",
            "HONDA",
            "TESLA"
           ],
           "legendgroup": "MD",
           "marker": {
            "color": "#ab63fa",
            "pattern": {
             "shape": ""
            }
           },
           "name": "MD",
           "offsetgroup": "MD",
           "orientation": "h",
           "showlegend": true,
           "text": [
            1,
            1,
            1,
            1
           ],
           "textposition": "auto",
           "type": "bar",
           "x": [
            1,
            1,
            1,
            1
           ],
           "xaxis": "x",
           "y": [
            "CHEVROLET",
            "CHRYSLER",
            "HONDA",
            "TESLA"
           ],
           "yaxis": "y"
          },
          {
           "alignmentgroup": "True",
           "hovertemplate": "State=GA<br>Model Year=2018<br>EV Count=%{text}<br>Make=%{y}<extra></extra>",
           "ids": [
            "TESLA"
           ],
           "legendgroup": "GA",
           "marker": {
            "color": "#19d3f3",
            "pattern": {
             "shape": ""
            }
           },
           "name": "GA",
           "offsetgroup": "GA",
           "orientation": "h",
           "showlegend": true,
           "text": [
            1
           ],
           "textposition": "auto",
           "type": "bar",
           "x": [
            1
           ],
           "xaxis": "x",
           "y": [
            "TESLA"
           ],
           "yaxis": "y"
          },
          {
           "alignmentgroup": "True",
           "hovertemplate": "State=CO<br>Model Year=2018<br>EV Count=%{text}<br>Make=%{y}<extra></extra>",
           "ids": [
            "TESLA"
           ],
           "legendgroup": "CO",
           "marker": {
            "color": "#B6E880",
            "pattern": {
             "shape": ""
            }
           },
           "name": "CO",
           "offsetgroup": "CO",
           "orientation": "h",
           "showlegend": true,
           "text": [
            1
           ],
           "textposition": "auto",
           "type": "bar",
           "x": [
            1
           ],
           "xaxis": "x",
           "y": [
            "TESLA"
           ],
           "yaxis": "y"
          },
          {
           "alignmentgroup": "True",
           "hovertemplate": "State=CT<br>Model Year=2018<br>EV Count=%{text}<br>Make=%{y}<extra></extra>",
           "ids": [
            "CHRYSLER"
           ],
           "legendgroup": "CT",
           "marker": {
            "color": "#FF97FF",
            "pattern": {
             "shape": ""
            }
           },
           "name": "CT",
           "offsetgroup": "CT",
           "orientation": "h",
           "showlegend": true,
           "text": [
            1
           ],
           "textposition": "auto",
           "type": "bar",
           "x": [
            1
           ],
           "xaxis": "x",
           "y": [
            "CHRYSLER"
           ],
           "yaxis": "y"
          },
          {
           "alignmentgroup": "True",
           "hovertemplate": "State=TX<br>Model Year=2018<br>EV Count=%{text}<br>Make=%{y}<extra></extra>",
           "ids": [
            "TESLA"
           ],
           "legendgroup": "TX",
           "marker": {
            "color": "#FECB52",
            "pattern": {
             "shape": ""
            }
           },
           "name": "TX",
           "offsetgroup": "TX",
           "orientation": "h",
           "showlegend": true,
           "text": [
            1
           ],
           "textposition": "auto",
           "type": "bar",
           "x": [
            1
           ],
           "xaxis": "x",
           "y": [
            "TESLA"
           ],
           "yaxis": "y"
          },
          {
           "alignmentgroup": "True",
           "hovertemplate": "State=DC<br>Model Year=2018<br>EV Count=%{text}<br>Make=%{y}<extra></extra>",
           "ids": [
            "NISSAN"
           ],
           "legendgroup": "DC",
           "marker": {
            "color": "#ab63fa",
            "pattern": {
             "shape": ""
            }
           },
           "name": "DC",
           "offsetgroup": "DC",
           "orientation": "h",
           "showlegend": true,
           "text": [
            1
           ],
           "textposition": "auto",
           "type": "bar",
           "x": [
            1
           ],
           "xaxis": "x",
           "y": [
            "NISSAN"
           ],
           "yaxis": "y"
          },
          {
           "alignmentgroup": "True",
           "hovertemplate": "State=UT<br>Model Year=2018<br>EV Count=%{text}<br>Make=%{y}<extra></extra>",
           "ids": [
            "TESLA"
           ],
           "legendgroup": "UT",
           "marker": {
            "color": "#FF6692",
            "pattern": {
             "shape": ""
            }
           },
           "name": "UT",
           "offsetgroup": "UT",
           "orientation": "h",
           "showlegend": true,
           "text": [
            1
           ],
           "textposition": "auto",
           "type": "bar",
           "x": [
            1
           ],
           "xaxis": "x",
           "y": [
            "TESLA"
           ],
           "yaxis": "y"
          },
          {
           "alignmentgroup": "True",
           "hovertemplate": "State=IL<br>Model Year=2018<br>EV Count=%{text}<br>Make=%{y}<extra></extra>",
           "ids": [
            "TESLA"
           ],
           "legendgroup": "IL",
           "marker": {
            "color": "#FF97FF",
            "pattern": {
             "shape": ""
            }
           },
           "name": "IL",
           "offsetgroup": "IL",
           "orientation": "h",
           "showlegend": true,
           "text": [
            1
           ],
           "textposition": "auto",
           "type": "bar",
           "x": [
            1
           ],
           "xaxis": "x",
           "y": [
            "TESLA"
           ],
           "yaxis": "y"
          },
          {
           "alignmentgroup": "True",
           "hovertemplate": "State=PA<br>Model Year=2018<br>EV Count=%{text}<br>Make=%{y}<extra></extra>",
           "ids": [
            "NISSAN"
           ],
           "legendgroup": "PA",
           "marker": {
            "color": "#636efa",
            "pattern": {
             "shape": ""
            }
           },
           "name": "PA",
           "offsetgroup": "PA",
           "orientation": "h",
           "showlegend": true,
           "text": [
            1
           ],
           "textposition": "auto",
           "type": "bar",
           "x": [
            1
           ],
           "xaxis": "x",
           "y": [
            "NISSAN"
           ],
           "yaxis": "y"
          },
          {
           "alignmentgroup": "True",
           "hovertemplate": "State=NC<br>Model Year=2018<br>EV Count=%{text}<br>Make=%{y}<extra></extra>",
           "ids": [
            "CHEVROLET",
            "CHRYSLER"
           ],
           "legendgroup": "NC",
           "marker": {
            "color": "#FFA15A",
            "pattern": {
             "shape": ""
            }
           },
           "name": "NC",
           "offsetgroup": "NC",
           "orientation": "h",
           "showlegend": true,
           "text": [
            1,
            1
           ],
           "textposition": "auto",
           "type": "bar",
           "x": [
            1,
            1
           ],
           "xaxis": "x",
           "y": [
            "CHEVROLET",
            "CHRYSLER"
           ],
           "yaxis": "y"
          },
          {
           "alignmentgroup": "True",
           "hovertemplate": "State=OR<br>Model Year=2018<br>EV Count=%{text}<br>Make=%{y}<extra></extra>",
           "ids": [
            "BMW"
           ],
           "legendgroup": "OR",
           "marker": {
            "color": "#19d3f3",
            "pattern": {
             "shape": ""
            }
           },
           "name": "OR",
           "offsetgroup": "OR",
           "orientation": "h",
           "showlegend": true,
           "text": [
            1
           ],
           "textposition": "auto",
           "type": "bar",
           "x": [
            1
           ],
           "xaxis": "x",
           "y": [
            "BMW"
           ],
           "yaxis": "y"
          },
          {
           "alignmentgroup": "True",
           "hovertemplate": "State=MA<br>Model Year=2018<br>EV Count=%{text}<br>Make=%{y}<extra></extra>",
           "ids": [
            "CHEVROLET"
           ],
           "legendgroup": "MA",
           "marker": {
            "color": "#B6E880",
            "pattern": {
             "shape": ""
            }
           },
           "name": "MA",
           "offsetgroup": "MA",
           "orientation": "h",
           "showlegend": true,
           "text": [
            1
           ],
           "textposition": "auto",
           "type": "bar",
           "x": [
            1
           ],
           "xaxis": "x",
           "y": [
            "CHEVROLET"
           ],
           "yaxis": "y"
          },
          {
           "alignmentgroup": "True",
           "hovertemplate": "State=NM<br>Model Year=2018<br>EV Count=%{text}<br>Make=%{y}<extra></extra>",
           "ids": [
            "CHEVROLET"
           ],
           "legendgroup": "NM",
           "marker": {
            "color": "#FF97FF",
            "pattern": {
             "shape": ""
            }
           },
           "name": "NM",
           "offsetgroup": "NM",
           "orientation": "h",
           "showlegend": true,
           "text": [
            1
           ],
           "textposition": "auto",
           "type": "bar",
           "x": [
            1
           ],
           "xaxis": "x",
           "y": [
            "CHEVROLET"
           ],
           "yaxis": "y"
          },
          {
           "alignmentgroup": "True",
           "hovertemplate": "State=KY<br>Model Year=2018<br>EV Count=%{text}<br>Make=%{y}<extra></extra>",
           "ids": [
            "CHRYSLER"
           ],
           "legendgroup": "KY",
           "marker": {
            "color": "#FECB52",
            "pattern": {
             "shape": ""
            }
           },
           "name": "KY",
           "offsetgroup": "KY",
           "orientation": "h",
           "showlegend": true,
           "text": [
            1
           ],
           "textposition": "auto",
           "type": "bar",
           "x": [
            1
           ],
           "xaxis": "x",
           "y": [
            "CHRYSLER"
           ],
           "yaxis": "y"
          },
          {
           "alignmentgroup": "True",
           "hovertemplate": "State=ME<br>Model Year=2018<br>EV Count=%{text}<br>Make=%{y}<extra></extra>",
           "ids": [
            "CHRYSLER"
           ],
           "legendgroup": "ME",
           "marker": {
            "color": "#636efa",
            "pattern": {
             "shape": ""
            }
           },
           "name": "ME",
           "offsetgroup": "ME",
           "orientation": "h",
           "showlegend": true,
           "text": [
            1
           ],
           "textposition": "auto",
           "type": "bar",
           "x": [
            1
           ],
           "xaxis": "x",
           "y": [
            "CHRYSLER"
           ],
           "yaxis": "y"
          },
          {
           "alignmentgroup": "True",
           "hovertemplate": "State=NE<br>Model Year=2018<br>EV Count=%{text}<br>Make=%{y}<extra></extra>",
           "ids": [
            "CHRYSLER"
           ],
           "legendgroup": "NE",
           "marker": {
            "color": "#EF553B",
            "pattern": {
             "shape": ""
            }
           },
           "name": "NE",
           "offsetgroup": "NE",
           "orientation": "h",
           "showlegend": true,
           "text": [
            1
           ],
           "textposition": "auto",
           "type": "bar",
           "x": [
            1
           ],
           "xaxis": "x",
           "y": [
            "CHRYSLER"
           ],
           "yaxis": "y"
          },
          {
           "alignmentgroup": "True",
           "hovertemplate": "State=ND<br>Model Year=2018<br>EV Count=%{text}<br>Make=%{y}<extra></extra>",
           "ids": [
            "MITSUBISHI"
           ],
           "legendgroup": "ND",
           "marker": {
            "color": "#00cc96",
            "pattern": {
             "shape": ""
            }
           },
           "name": "ND",
           "offsetgroup": "ND",
           "orientation": "h",
           "showlegend": true,
           "text": [
            1
           ],
           "textposition": "auto",
           "type": "bar",
           "x": [
            1
           ],
           "xaxis": "x",
           "y": [
            "MITSUBISHI"
           ],
           "yaxis": "y"
          },
          {
           "alignmentgroup": "True",
           "hovertemplate": "State=HI<br>Model Year=2018<br>EV Count=%{text}<br>Make=%{y}<extra></extra>",
           "ids": [
            "TESLA"
           ],
           "legendgroup": "HI",
           "marker": {
            "color": "#ab63fa",
            "pattern": {
             "shape": ""
            }
           },
           "name": "HI",
           "offsetgroup": "HI",
           "orientation": "h",
           "showlegend": true,
           "text": [
            1
           ],
           "textposition": "auto",
           "type": "bar",
           "x": [
            1
           ],
           "xaxis": "x",
           "y": [
            "TESLA"
           ],
           "yaxis": "y"
          }
         ],
         "name": "2018"
        },
        {
         "data": [
          {
           "alignmentgroup": "True",
           "hovertemplate": "State=WA<br>Model Year=2019<br>EV Count=%{text}<br>Make=%{y}<extra></extra>",
           "ids": [
            "AUDI",
            "BMW",
            "CHEVROLET",
            "CHRYSLER",
            "FIAT",
            "FORD",
            "HONDA",
            "HYUNDAI",
            "JAGUAR",
            "KIA",
            "MERCEDES-BENZ",
            "MINI",
            "MITSUBISHI",
            "NISSAN",
            "PORSCHE",
            "SMART",
            "SUBARU",
            "TESLA",
            "TOYOTA",
            "VOLKSWAGEN",
            "VOLVO"
           ],
           "legendgroup": "WA",
           "marker": {
            "color": "#636efa",
            "pattern": {
             "shape": ""
            }
           },
           "name": "WA",
           "offsetgroup": "WA",
           "orientation": "h",
           "showlegend": true,
           "text": [
            391,
            279,
            966,
            118,
            9,
            135,
            73,
            115,
            119,
            680,
            132,
            100,
            146,
            1407,
            62,
            9,
            58,
            4569,
            189,
            494,
            190
           ],
           "textposition": "auto",
           "type": "bar",
           "x": [
            391,
            279,
            966,
            118,
            9,
            135,
            73,
            115,
            119,
            680,
            132,
            100,
            146,
            1407,
            62,
            9,
            58,
            4569,
            189,
            494,
            190
           ],
           "xaxis": "x",
           "y": [
            "AUDI",
            "BMW",
            "CHEVROLET",
            "CHRYSLER",
            "FIAT",
            "FORD",
            "HONDA",
            "HYUNDAI",
            "JAGUAR",
            "KIA",
            "MERCEDES-BENZ",
            "MINI",
            "MITSUBISHI",
            "NISSAN",
            "PORSCHE",
            "SMART",
            "SUBARU",
            "TESLA",
            "TOYOTA",
            "VOLKSWAGEN",
            "VOLVO"
           ],
           "yaxis": "y"
          },
          {
           "alignmentgroup": "True",
           "hovertemplate": "State=VA<br>Model Year=2019<br>EV Count=%{text}<br>Make=%{y}<extra></extra>",
           "ids": [
            "MERCEDES-BENZ",
            "TESLA"
           ],
           "legendgroup": "VA",
           "marker": {
            "color": "#EF553B",
            "pattern": {
             "shape": ""
            }
           },
           "name": "VA",
           "offsetgroup": "VA",
           "orientation": "h",
           "showlegend": true,
           "text": [
            1,
            4
           ],
           "textposition": "auto",
           "type": "bar",
           "x": [
            1,
            4
           ],
           "xaxis": "x",
           "y": [
            "MERCEDES-BENZ",
            "TESLA"
           ],
           "yaxis": "y"
          },
          {
           "alignmentgroup": "True",
           "hovertemplate": "State=CA<br>Model Year=2019<br>EV Count=%{text}<br>Make=%{y}<extra></extra>",
           "ids": [
            "JAGUAR",
            "TESLA",
            "TOYOTA",
            "VOLKSWAGEN"
           ],
           "legendgroup": "CA",
           "marker": {
            "color": "#00cc96",
            "pattern": {
             "shape": ""
            }
           },
           "name": "CA",
           "offsetgroup": "CA",
           "orientation": "h",
           "showlegend": true,
           "text": [
            1,
            4,
            1,
            1
           ],
           "textposition": "auto",
           "type": "bar",
           "x": [
            1,
            4,
            1,
            1
           ],
           "xaxis": "x",
           "y": [
            "JAGUAR",
            "TESLA",
            "TOYOTA",
            "VOLKSWAGEN"
           ],
           "yaxis": "y"
          },
          {
           "alignmentgroup": "True",
           "hovertemplate": "State=MD<br>Model Year=2019<br>EV Count=%{text}<br>Make=%{y}<extra></extra>",
           "ids": [
            "AUDI",
            "TESLA"
           ],
           "legendgroup": "MD",
           "marker": {
            "color": "#ab63fa",
            "pattern": {
             "shape": ""
            }
           },
           "name": "MD",
           "offsetgroup": "MD",
           "orientation": "h",
           "showlegend": true,
           "text": [
            1,
            1
           ],
           "textposition": "auto",
           "type": "bar",
           "x": [
            1,
            1
           ],
           "xaxis": "x",
           "y": [
            "AUDI",
            "TESLA"
           ],
           "yaxis": "y"
          },
          {
           "alignmentgroup": "True",
           "hovertemplate": "State=NV<br>Model Year=2019<br>EV Count=%{text}<br>Make=%{y}<extra></extra>",
           "ids": [
            "TESLA"
           ],
           "legendgroup": "NV",
           "marker": {
            "color": "#FFA15A",
            "pattern": {
             "shape": ""
            }
           },
           "name": "NV",
           "offsetgroup": "NV",
           "orientation": "h",
           "showlegend": true,
           "text": [
            1
           ],
           "textposition": "auto",
           "type": "bar",
           "x": [
            1
           ],
           "xaxis": "x",
           "y": [
            "TESLA"
           ],
           "yaxis": "y"
          },
          {
           "alignmentgroup": "True",
           "hovertemplate": "State=TX<br>Model Year=2019<br>EV Count=%{text}<br>Make=%{y}<extra></extra>",
           "ids": [
            "FORD"
           ],
           "legendgroup": "TX",
           "marker": {
            "color": "#FECB52",
            "pattern": {
             "shape": ""
            }
           },
           "name": "TX",
           "offsetgroup": "TX",
           "orientation": "h",
           "showlegend": true,
           "text": [
            1
           ],
           "textposition": "auto",
           "type": "bar",
           "x": [
            1
           ],
           "xaxis": "x",
           "y": [
            "FORD"
           ],
           "yaxis": "y"
          },
          {
           "alignmentgroup": "True",
           "hovertemplate": "State=FL<br>Model Year=2019<br>EV Count=%{text}<br>Make=%{y}<extra></extra>",
           "ids": [
            "TESLA"
           ],
           "legendgroup": "FL",
           "marker": {
            "color": "#FFA15A",
            "pattern": {
             "shape": ""
            }
           },
           "name": "FL",
           "offsetgroup": "FL",
           "orientation": "h",
           "showlegend": true,
           "text": [
            2
           ],
           "textposition": "auto",
           "type": "bar",
           "x": [
            2
           ],
           "xaxis": "x",
           "y": [
            "TESLA"
           ],
           "yaxis": "y"
          },
          {
           "alignmentgroup": "True",
           "hovertemplate": "State=UT<br>Model Year=2019<br>EV Count=%{text}<br>Make=%{y}<extra></extra>",
           "ids": [
            "KIA"
           ],
           "legendgroup": "UT",
           "marker": {
            "color": "#FF6692",
            "pattern": {
             "shape": ""
            }
           },
           "name": "UT",
           "offsetgroup": "UT",
           "orientation": "h",
           "showlegend": true,
           "text": [
            1
           ],
           "textposition": "auto",
           "type": "bar",
           "x": [
            1
           ],
           "xaxis": "x",
           "y": [
            "KIA"
           ],
           "yaxis": "y"
          },
          {
           "alignmentgroup": "True",
           "hovertemplate": "State=IL<br>Model Year=2019<br>EV Count=%{text}<br>Make=%{y}<extra></extra>",
           "ids": [
            "CHRYSLER"
           ],
           "legendgroup": "IL",
           "marker": {
            "color": "#FF97FF",
            "pattern": {
             "shape": ""
            }
           },
           "name": "IL",
           "offsetgroup": "IL",
           "orientation": "h",
           "showlegend": true,
           "text": [
            1
           ],
           "textposition": "auto",
           "type": "bar",
           "x": [
            1
           ],
           "xaxis": "x",
           "y": [
            "CHRYSLER"
           ],
           "yaxis": "y"
          },
          {
           "alignmentgroup": "True",
           "hovertemplate": "State=AR<br>Model Year=2019<br>EV Count=%{text}<br>Make=%{y}<extra></extra>",
           "ids": [
            "NISSAN"
           ],
           "legendgroup": "AR",
           "marker": {
            "color": "#00cc96",
            "pattern": {
             "shape": ""
            }
           },
           "name": "AR",
           "offsetgroup": "AR",
           "orientation": "h",
           "showlegend": true,
           "text": [
            1
           ],
           "textposition": "auto",
           "type": "bar",
           "x": [
            1
           ],
           "xaxis": "x",
           "y": [
            "NISSAN"
           ],
           "yaxis": "y"
          },
          {
           "alignmentgroup": "True",
           "hovertemplate": "State=OR<br>Model Year=2019<br>EV Count=%{text}<br>Make=%{y}<extra></extra>",
           "ids": [
            "NISSAN"
           ],
           "legendgroup": "OR",
           "marker": {
            "color": "#19d3f3",
            "pattern": {
             "shape": ""
            }
           },
           "name": "OR",
           "offsetgroup": "OR",
           "orientation": "h",
           "showlegend": true,
           "text": [
            1
           ],
           "textposition": "auto",
           "type": "bar",
           "x": [
            1
           ],
           "xaxis": "x",
           "y": [
            "NISSAN"
           ],
           "yaxis": "y"
          },
          {
           "alignmentgroup": "True",
           "hovertemplate": "State=HI<br>Model Year=2019<br>EV Count=%{text}<br>Make=%{y}<extra></extra>",
           "ids": [
            "TESLA"
           ],
           "legendgroup": "HI",
           "marker": {
            "color": "#ab63fa",
            "pattern": {
             "shape": ""
            }
           },
           "name": "HI",
           "offsetgroup": "HI",
           "orientation": "h",
           "showlegend": true,
           "text": [
            1
           ],
           "textposition": "auto",
           "type": "bar",
           "x": [
            1
           ],
           "xaxis": "x",
           "y": [
            "TESLA"
           ],
           "yaxis": "y"
          },
          {
           "alignmentgroup": "True",
           "hovertemplate": "State=NJ<br>Model Year=2019<br>EV Count=%{text}<br>Make=%{y}<extra></extra>",
           "ids": [
            "HYUNDAI"
           ],
           "legendgroup": "NJ",
           "marker": {
            "color": "#FFA15A",
            "pattern": {
             "shape": ""
            }
           },
           "name": "NJ",
           "offsetgroup": "NJ",
           "orientation": "h",
           "showlegend": true,
           "text": [
            1
           ],
           "textposition": "auto",
           "type": "bar",
           "x": [
            1
           ],
           "xaxis": "x",
           "y": [
            "HYUNDAI"
           ],
           "yaxis": "y"
          },
          {
           "alignmentgroup": "True",
           "hovertemplate": "State=MN<br>Model Year=2019<br>EV Count=%{text}<br>Make=%{y}<extra></extra>",
           "ids": [
            "TESLA"
           ],
           "legendgroup": "MN",
           "marker": {
            "color": "#19d3f3",
            "pattern": {
             "shape": ""
            }
           },
           "name": "MN",
           "offsetgroup": "MN",
           "orientation": "h",
           "showlegend": true,
           "text": [
            1
           ],
           "textposition": "auto",
           "type": "bar",
           "x": [
            1
           ],
           "xaxis": "x",
           "y": [
            "TESLA"
           ],
           "yaxis": "y"
          }
         ],
         "name": "2019"
        },
        {
         "data": [
          {
           "alignmentgroup": "True",
           "hovertemplate": "State=WA<br>Model Year=2020<br>EV Count=%{text}<br>Make=%{y}<extra></extra>",
           "ids": [
            "AUDI",
            "BENTLEY",
            "BMW",
            "CHEVROLET",
            "CHRYSLER",
            "FORD",
            "HONDA",
            "HYUNDAI",
            "JAGUAR",
            "KIA",
            "LAND ROVER",
            "LINCOLN",
            "MERCEDES-BENZ",
            "MINI",
            "MITSUBISHI",
            "NISSAN",
            "PORSCHE",
            "TESLA",
            "TOYOTA",
            "VOLVO"
           ],
           "legendgroup": "WA",
           "marker": {
            "color": "#636efa",
            "pattern": {
             "shape": ""
            }
           },
           "name": "WA",
           "offsetgroup": "WA",
           "orientation": "h",
           "showlegend": true,
           "text": [
            224,
            1,
            143,
            1013,
            283,
            65,
            79,
            212,
            74,
            534,
            30,
            29,
            31,
            3,
            97,
            580,
            143,
            6996,
            310,
            162
           ],
           "textposition": "auto",
           "type": "bar",
           "x": [
            224,
            1,
            143,
            1013,
            283,
            65,
            79,
            212,
            74,
            534,
            30,
            29,
            31,
            3,
            97,
            580,
            143,
            6996,
            310,
            162
           ],
           "xaxis": "x",
           "y": [
            "AUDI",
            "BENTLEY",
            "BMW",
            "CHEVROLET",
            "CHRYSLER",
            "FORD",
            "HONDA",
            "HYUNDAI",
            "JAGUAR",
            "KIA",
            "LAND ROVER",
            "LINCOLN",
            "MERCEDES-BENZ",
            "MINI",
            "MITSUBISHI",
            "NISSAN",
            "PORSCHE",
            "TESLA",
            "TOYOTA",
            "VOLVO"
           ],
           "yaxis": "y"
          },
          {
           "alignmentgroup": "True",
           "hovertemplate": "State=VA<br>Model Year=2020<br>EV Count=%{text}<br>Make=%{y}<extra></extra>",
           "ids": [
            "CHEVROLET",
            "CHRYSLER",
            "TESLA"
           ],
           "legendgroup": "VA",
           "marker": {
            "color": "#EF553B",
            "pattern": {
             "shape": ""
            }
           },
           "name": "VA",
           "offsetgroup": "VA",
           "orientation": "h",
           "showlegend": true,
           "text": [
            1,
            1,
            2
           ],
           "textposition": "auto",
           "type": "bar",
           "x": [
            1,
            1,
            2
           ],
           "xaxis": "x",
           "y": [
            "CHEVROLET",
            "CHRYSLER",
            "TESLA"
           ],
           "yaxis": "y"
          },
          {
           "alignmentgroup": "True",
           "hovertemplate": "State=CA<br>Model Year=2020<br>EV Count=%{text}<br>Make=%{y}<extra></extra>",
           "ids": [
            "CHRYSLER",
            "TESLA"
           ],
           "legendgroup": "CA",
           "marker": {
            "color": "#00cc96",
            "pattern": {
             "shape": ""
            }
           },
           "name": "CA",
           "offsetgroup": "CA",
           "orientation": "h",
           "showlegend": true,
           "text": [
            2,
            5
           ],
           "textposition": "auto",
           "type": "bar",
           "x": [
            2,
            5
           ],
           "xaxis": "x",
           "y": [
            "CHRYSLER",
            "TESLA"
           ],
           "yaxis": "y"
          },
          {
           "alignmentgroup": "True",
           "hovertemplate": "State=MD<br>Model Year=2020<br>EV Count=%{text}<br>Make=%{y}<extra></extra>",
           "ids": [
            "MERCEDES-BENZ",
            "TESLA"
           ],
           "legendgroup": "MD",
           "marker": {
            "color": "#ab63fa",
            "pattern": {
             "shape": ""
            }
           },
           "name": "MD",
           "offsetgroup": "MD",
           "orientation": "h",
           "showlegend": true,
           "text": [
            1,
            1
           ],
           "textposition": "auto",
           "type": "bar",
           "x": [
            1,
            1
           ],
           "xaxis": "x",
           "y": [
            "MERCEDES-BENZ",
            "TESLA"
           ],
           "yaxis": "y"
          },
          {
           "alignmentgroup": "True",
           "hovertemplate": "State=NV<br>Model Year=2020<br>EV Count=%{text}<br>Make=%{y}<extra></extra>",
           "ids": [
            "TESLA"
           ],
           "legendgroup": "NV",
           "marker": {
            "color": "#FFA15A",
            "pattern": {
             "shape": ""
            }
           },
           "name": "NV",
           "offsetgroup": "NV",
           "orientation": "h",
           "showlegend": true,
           "text": [
            1
           ],
           "textposition": "auto",
           "type": "bar",
           "x": [
            1
           ],
           "xaxis": "x",
           "y": [
            "TESLA"
           ],
           "yaxis": "y"
          },
          {
           "alignmentgroup": "True",
           "hovertemplate": "State=CO<br>Model Year=2020<br>EV Count=%{text}<br>Make=%{y}<extra></extra>",
           "ids": [
            "TESLA"
           ],
           "legendgroup": "CO",
           "marker": {
            "color": "#B6E880",
            "pattern": {
             "shape": ""
            }
           },
           "name": "CO",
           "offsetgroup": "CO",
           "orientation": "h",
           "showlegend": true,
           "text": [
            1
           ],
           "textposition": "auto",
           "type": "bar",
           "x": [
            1
           ],
           "xaxis": "x",
           "y": [
            "TESLA"
           ],
           "yaxis": "y"
          },
          {
           "alignmentgroup": "True",
           "hovertemplate": "State=TX<br>Model Year=2020<br>EV Count=%{text}<br>Make=%{y}<extra></extra>",
           "ids": [
            "TESLA"
           ],
           "legendgroup": "TX",
           "marker": {
            "color": "#FECB52",
            "pattern": {
             "shape": ""
            }
           },
           "name": "TX",
           "offsetgroup": "TX",
           "orientation": "h",
           "showlegend": true,
           "text": [
            1
           ],
           "textposition": "auto",
           "type": "bar",
           "x": [
            1
           ],
           "xaxis": "x",
           "y": [
            "TESLA"
           ],
           "yaxis": "y"
          },
          {
           "alignmentgroup": "True",
           "hovertemplate": "State=NH<br>Model Year=2020<br>EV Count=%{text}<br>Make=%{y}<extra></extra>",
           "ids": [
            "TESLA"
           ],
           "legendgroup": "NH",
           "marker": {
            "color": "#00cc96",
            "pattern": {
             "shape": ""
            }
           },
           "name": "NH",
           "offsetgroup": "NH",
           "orientation": "h",
           "showlegend": true,
           "text": [
            1
           ],
           "textposition": "auto",
           "type": "bar",
           "x": [
            1
           ],
           "xaxis": "x",
           "y": [
            "TESLA"
           ],
           "yaxis": "y"
          },
          {
           "alignmentgroup": "True",
           "hovertemplate": "State=DC<br>Model Year=2020<br>EV Count=%{text}<br>Make=%{y}<extra></extra>",
           "ids": [
            "TESLA"
           ],
           "legendgroup": "DC",
           "marker": {
            "color": "#ab63fa",
            "pattern": {
             "shape": ""
            }
           },
           "name": "DC",
           "offsetgroup": "DC",
           "orientation": "h",
           "showlegend": true,
           "text": [
            2
           ],
           "textposition": "auto",
           "type": "bar",
           "x": [
            2
           ],
           "xaxis": "x",
           "y": [
            "TESLA"
           ],
           "yaxis": "y"
          },
          {
           "alignmentgroup": "True",
           "hovertemplate": "State=IL<br>Model Year=2020<br>EV Count=%{text}<br>Make=%{y}<extra></extra>",
           "ids": [
            "TESLA"
           ],
           "legendgroup": "IL",
           "marker": {
            "color": "#FF97FF",
            "pattern": {
             "shape": ""
            }
           },
           "name": "IL",
           "offsetgroup": "IL",
           "orientation": "h",
           "showlegend": true,
           "text": [
            2
           ],
           "textposition": "auto",
           "type": "bar",
           "x": [
            2
           ],
           "xaxis": "x",
           "y": [
            "TESLA"
           ],
           "yaxis": "y"
          },
          {
           "alignmentgroup": "True",
           "hovertemplate": "State=MO<br>Model Year=2020<br>EV Count=%{text}<br>Make=%{y}<extra></extra>",
           "ids": [
            "TESLA"
           ],
           "legendgroup": "MO",
           "marker": {
            "color": "#EF553B",
            "pattern": {
             "shape": ""
            }
           },
           "name": "MO",
           "offsetgroup": "MO",
           "orientation": "h",
           "showlegend": true,
           "text": [
            2
           ],
           "textposition": "auto",
           "type": "bar",
           "x": [
            2
           ],
           "xaxis": "x",
           "y": [
            "TESLA"
           ],
           "yaxis": "y"
          },
          {
           "alignmentgroup": "True",
           "hovertemplate": "State=AR<br>Model Year=2020<br>EV Count=%{text}<br>Make=%{y}<extra></extra>",
           "ids": [
            "TESLA"
           ],
           "legendgroup": "AR",
           "marker": {
            "color": "#00cc96",
            "pattern": {
             "shape": ""
            }
           },
           "name": "AR",
           "offsetgroup": "AR",
           "orientation": "h",
           "showlegend": true,
           "text": [
            1
           ],
           "textposition": "auto",
           "type": "bar",
           "x": [
            1
           ],
           "xaxis": "x",
           "y": [
            "TESLA"
           ],
           "yaxis": "y"
          },
          {
           "alignmentgroup": "True",
           "hovertemplate": "State=NC<br>Model Year=2020<br>EV Count=%{text}<br>Make=%{y}<extra></extra>",
           "ids": [
            "KIA"
           ],
           "legendgroup": "NC",
           "marker": {
            "color": "#FFA15A",
            "pattern": {
             "shape": ""
            }
           },
           "name": "NC",
           "offsetgroup": "NC",
           "orientation": "h",
           "showlegend": true,
           "text": [
            1
           ],
           "textposition": "auto",
           "type": "bar",
           "x": [
            1
           ],
           "xaxis": "x",
           "y": [
            "KIA"
           ],
           "yaxis": "y"
          },
          {
           "alignmentgroup": "True",
           "hovertemplate": "State=NE<br>Model Year=2020<br>EV Count=%{text}<br>Make=%{y}<extra></extra>",
           "ids": [
            "TESLA"
           ],
           "legendgroup": "NE",
           "marker": {
            "color": "#EF553B",
            "pattern": {
             "shape": ""
            }
           },
           "name": "NE",
           "offsetgroup": "NE",
           "orientation": "h",
           "showlegend": true,
           "text": [
            1
           ],
           "textposition": "auto",
           "type": "bar",
           "x": [
            1
           ],
           "xaxis": "x",
           "y": [
            "TESLA"
           ],
           "yaxis": "y"
          },
          {
           "alignmentgroup": "True",
           "hovertemplate": "State=NJ<br>Model Year=2020<br>EV Count=%{text}<br>Make=%{y}<extra></extra>",
           "ids": [
            "TOYOTA"
           ],
           "legendgroup": "NJ",
           "marker": {
            "color": "#FFA15A",
            "pattern": {
             "shape": ""
            }
           },
           "name": "NJ",
           "offsetgroup": "NJ",
           "orientation": "h",
           "showlegend": true,
           "text": [
            1
           ],
           "textposition": "auto",
           "type": "bar",
           "x": [
            1
           ],
           "xaxis": "x",
           "y": [
            "TOYOTA"
           ],
           "yaxis": "y"
          },
          {
           "alignmentgroup": "True",
           "hovertemplate": "State=TN<br>Model Year=2020<br>EV Count=%{text}<br>Make=%{y}<extra></extra>",
           "ids": [
            "TESLA"
           ],
           "legendgroup": "TN",
           "marker": {
            "color": "#FF6692",
            "pattern": {
             "shape": ""
            }
           },
           "name": "TN",
           "offsetgroup": "TN",
           "orientation": "h",
           "showlegend": true,
           "text": [
            1
           ],
           "textposition": "auto",
           "type": "bar",
           "x": [
            1
           ],
           "xaxis": "x",
           "y": [
            "TESLA"
           ],
           "yaxis": "y"
          },
          {
           "alignmentgroup": "True",
           "hovertemplate": "State=WY<br>Model Year=2020<br>EV Count=%{text}<br>Make=%{y}<extra></extra>",
           "ids": [
            "TESLA"
           ],
           "legendgroup": "WY",
           "marker": {
            "color": "#B6E880",
            "pattern": {
             "shape": ""
            }
           },
           "name": "WY",
           "offsetgroup": "WY",
           "orientation": "h",
           "showlegend": true,
           "text": [
            1
           ],
           "textposition": "auto",
           "type": "bar",
           "x": [
            1
           ],
           "xaxis": "x",
           "y": [
            "TESLA"
           ],
           "yaxis": "y"
          }
         ],
         "name": "2020"
        },
        {
         "data": [
          {
           "alignmentgroup": "True",
           "hovertemplate": "State=WA<br>Model Year=2021<br>EV Count=%{text}<br>Make=%{y}<extra></extra>",
           "ids": [
            "AUDI",
            "BENTLEY",
            "BMW",
            "CHEVROLET",
            "CHRYSLER",
            "FORD",
            "HONDA",
            "HYUNDAI",
            "JAGUAR",
            "JEEP",
            "KIA",
            "LAND ROVER",
            "LINCOLN",
            "MINI",
            "MITSUBISHI",
            "NISSAN",
            "POLESTAR",
            "PORSCHE",
            "TESLA",
            "TOYOTA",
            "VOLKSWAGEN",
            "VOLVO"
           ],
           "legendgroup": "WA",
           "marker": {
            "color": "#636efa",
            "pattern": {
             "shape": ""
            }
           },
           "name": "WA",
           "offsetgroup": "WA",
           "orientation": "h",
           "showlegend": true,
           "text": [
            543,
            1,
            634,
            376,
            501,
            880,
            17,
            187,
            6,
            625,
            73,
            8,
            41,
            143,
            8,
            533,
            97,
            145,
            10990,
            930,
            984,
            577
           ],
           "textposition": "auto",
           "type": "bar",
           "x": [
            543,
            1,
            634,
            376,
            501,
            880,
            17,
            187,
            6,
            625,
            73,
            8,
            41,
            143,
            8,
            533,
            97,
            145,
            10990,
            930,
            984,
            577
           ],
           "xaxis": "x",
           "y": [
            "AUDI",
            "BENTLEY",
            "BMW",
            "CHEVROLET",
            "CHRYSLER",
            "FORD",
            "HONDA",
            "HYUNDAI",
            "JAGUAR",
            "JEEP",
            "KIA",
            "LAND ROVER",
            "LINCOLN",
            "MINI",
            "MITSUBISHI",
            "NISSAN",
            "POLESTAR",
            "PORSCHE",
            "TESLA",
            "TOYOTA",
            "VOLKSWAGEN",
            "VOLVO"
           ],
           "yaxis": "y"
          },
          {
           "alignmentgroup": "True",
           "hovertemplate": "State=VA<br>Model Year=2021<br>EV Count=%{text}<br>Make=%{y}<extra></extra>",
           "ids": [
            "BMW",
            "TESLA",
            "VOLKSWAGEN"
           ],
           "legendgroup": "VA",
           "marker": {
            "color": "#EF553B",
            "pattern": {
             "shape": ""
            }
           },
           "name": "VA",
           "offsetgroup": "VA",
           "orientation": "h",
           "showlegend": true,
           "text": [
            1,
            4,
            1
           ],
           "textposition": "auto",
           "type": "bar",
           "x": [
            1,
            4,
            1
           ],
           "xaxis": "x",
           "y": [
            "BMW",
            "TESLA",
            "VOLKSWAGEN"
           ],
           "yaxis": "y"
          },
          {
           "alignmentgroup": "True",
           "hovertemplate": "State=CA<br>Model Year=2021<br>EV Count=%{text}<br>Make=%{y}<extra></extra>",
           "ids": [
            "FORD",
            "JEEP",
            "NISSAN",
            "TESLA",
            "TOYOTA",
            "VOLKSWAGEN",
            "VOLVO"
           ],
           "legendgroup": "CA",
           "marker": {
            "color": "#00cc96",
            "pattern": {
             "shape": ""
            }
           },
           "name": "CA",
           "offsetgroup": "CA",
           "orientation": "h",
           "showlegend": true,
           "text": [
            1,
            1,
            1,
            10,
            2,
            1,
            3
           ],
           "textposition": "auto",
           "type": "bar",
           "x": [
            1,
            1,
            1,
            10,
            2,
            1,
            3
           ],
           "xaxis": "x",
           "y": [
            "FORD",
            "JEEP",
            "NISSAN",
            "TESLA",
            "TOYOTA",
            "VOLKSWAGEN",
            "VOLVO"
           ],
           "yaxis": "y"
          },
          {
           "alignmentgroup": "True",
           "hovertemplate": "State=MD<br>Model Year=2021<br>EV Count=%{text}<br>Make=%{y}<extra></extra>",
           "ids": [
            "CHRYSLER",
            "TESLA",
            "TOYOTA"
           ],
           "legendgroup": "MD",
           "marker": {
            "color": "#ab63fa",
            "pattern": {
             "shape": ""
            }
           },
           "name": "MD",
           "offsetgroup": "MD",
           "orientation": "h",
           "showlegend": true,
           "text": [
            1,
            5,
            1
           ],
           "textposition": "auto",
           "type": "bar",
           "x": [
            1,
            5,
            1
           ],
           "xaxis": "x",
           "y": [
            "CHRYSLER",
            "TESLA",
            "TOYOTA"
           ],
           "yaxis": "y"
          },
          {
           "alignmentgroup": "True",
           "hovertemplate": "State=NV<br>Model Year=2021<br>EV Count=%{text}<br>Make=%{y}<extra></extra>",
           "ids": [
            "TESLA"
           ],
           "legendgroup": "NV",
           "marker": {
            "color": "#FFA15A",
            "pattern": {
             "shape": ""
            }
           },
           "name": "NV",
           "offsetgroup": "NV",
           "orientation": "h",
           "showlegend": true,
           "text": [
            3
           ],
           "textposition": "auto",
           "type": "bar",
           "x": [
            3
           ],
           "xaxis": "x",
           "y": [
            "TESLA"
           ],
           "yaxis": "y"
          },
          {
           "alignmentgroup": "True",
           "hovertemplate": "State=GA<br>Model Year=2021<br>EV Count=%{text}<br>Make=%{y}<extra></extra>",
           "ids": [
            "VOLKSWAGEN"
           ],
           "legendgroup": "GA",
           "marker": {
            "color": "#19d3f3",
            "pattern": {
             "shape": ""
            }
           },
           "name": "GA",
           "offsetgroup": "GA",
           "orientation": "h",
           "showlegend": true,
           "text": [
            1
           ],
           "textposition": "auto",
           "type": "bar",
           "x": [
            1
           ],
           "xaxis": "x",
           "y": [
            "VOLKSWAGEN"
           ],
           "yaxis": "y"
          },
          {
           "alignmentgroup": "True",
           "hovertemplate": "State=AZ<br>Model Year=2021<br>EV Count=%{text}<br>Make=%{y}<extra></extra>",
           "ids": [
            "TESLA",
            "TOYOTA"
           ],
           "legendgroup": "AZ",
           "marker": {
            "color": "#FF6692",
            "pattern": {
             "shape": ""
            }
           },
           "name": "AZ",
           "offsetgroup": "AZ",
           "orientation": "h",
           "showlegend": true,
           "text": [
            2,
            1
           ],
           "textposition": "auto",
           "type": "bar",
           "x": [
            2,
            1
           ],
           "xaxis": "x",
           "y": [
            "TESLA",
            "TOYOTA"
           ],
           "yaxis": "y"
          },
          {
           "alignmentgroup": "True",
           "hovertemplate": "State=CO<br>Model Year=2021<br>EV Count=%{text}<br>Make=%{y}<extra></extra>",
           "ids": [
            "CHEVROLET",
            "CHRYSLER",
            "POLESTAR"
           ],
           "legendgroup": "CO",
           "marker": {
            "color": "#B6E880",
            "pattern": {
             "shape": ""
            }
           },
           "name": "CO",
           "offsetgroup": "CO",
           "orientation": "h",
           "showlegend": true,
           "text": [
            1,
            1,
            1
           ],
           "textposition": "auto",
           "type": "bar",
           "x": [
            1,
            1,
            1
           ],
           "xaxis": "x",
           "y": [
            "CHEVROLET",
            "CHRYSLER",
            "POLESTAR"
           ],
           "yaxis": "y"
          },
          {
           "alignmentgroup": "True",
           "hovertemplate": "State=CT<br>Model Year=2021<br>EV Count=%{text}<br>Make=%{y}<extra></extra>",
           "ids": [
            "TOYOTA"
           ],
           "legendgroup": "CT",
           "marker": {
            "color": "#FF97FF",
            "pattern": {
             "shape": ""
            }
           },
           "name": "CT",
           "offsetgroup": "CT",
           "orientation": "h",
           "showlegend": true,
           "text": [
            1
           ],
           "textposition": "auto",
           "type": "bar",
           "x": [
            1
           ],
           "xaxis": "x",
           "y": [
            "TOYOTA"
           ],
           "yaxis": "y"
          },
          {
           "alignmentgroup": "True",
           "hovertemplate": "State=TX<br>Model Year=2021<br>EV Count=%{text}<br>Make=%{y}<extra></extra>",
           "ids": [
            "TESLA"
           ],
           "legendgroup": "TX",
           "marker": {
            "color": "#FECB52",
            "pattern": {
             "shape": ""
            }
           },
           "name": "TX",
           "offsetgroup": "TX",
           "orientation": "h",
           "showlegend": true,
           "text": [
            1
           ],
           "textposition": "auto",
           "type": "bar",
           "x": [
            1
           ],
           "xaxis": "x",
           "y": [
            "TESLA"
           ],
           "yaxis": "y"
          },
          {
           "alignmentgroup": "True",
           "hovertemplate": "State=NY<br>Model Year=2021<br>EV Count=%{text}<br>Make=%{y}<extra></extra>",
           "ids": [
            "TESLA"
           ],
           "legendgroup": "NY",
           "marker": {
            "color": "#19d3f3",
            "pattern": {
             "shape": ""
            }
           },
           "name": "NY",
           "offsetgroup": "NY",
           "orientation": "h",
           "showlegend": true,
           "text": [
            1
           ],
           "textposition": "auto",
           "type": "bar",
           "x": [
            1
           ],
           "xaxis": "x",
           "y": [
            "TESLA"
           ],
           "yaxis": "y"
          },
          {
           "alignmentgroup": "True",
           "hovertemplate": "State=UT<br>Model Year=2021<br>EV Count=%{text}<br>Make=%{y}<extra></extra>",
           "ids": [
            "VOLKSWAGEN"
           ],
           "legendgroup": "UT",
           "marker": {
            "color": "#FF6692",
            "pattern": {
             "shape": ""
            }
           },
           "name": "UT",
           "offsetgroup": "UT",
           "orientation": "h",
           "showlegend": true,
           "text": [
            1
           ],
           "textposition": "auto",
           "type": "bar",
           "x": [
            1
           ],
           "xaxis": "x",
           "y": [
            "VOLKSWAGEN"
           ],
           "yaxis": "y"
          },
          {
           "alignmentgroup": "True",
           "hovertemplate": "State=IL<br>Model Year=2021<br>EV Count=%{text}<br>Make=%{y}<extra></extra>",
           "ids": [
            "TESLA"
           ],
           "legendgroup": "IL",
           "marker": {
            "color": "#FF97FF",
            "pattern": {
             "shape": ""
            }
           },
           "name": "IL",
           "offsetgroup": "IL",
           "orientation": "h",
           "showlegend": true,
           "text": [
            1
           ],
           "textposition": "auto",
           "type": "bar",
           "x": [
            1
           ],
           "xaxis": "x",
           "y": [
            "TESLA"
           ],
           "yaxis": "y"
          },
          {
           "alignmentgroup": "True",
           "hovertemplate": "State=KS<br>Model Year=2021<br>EV Count=%{text}<br>Make=%{y}<extra></extra>",
           "ids": [
            "TESLA"
           ],
           "legendgroup": "KS",
           "marker": {
            "color": "#ab63fa",
            "pattern": {
             "shape": ""
            }
           },
           "name": "KS",
           "offsetgroup": "KS",
           "orientation": "h",
           "showlegend": true,
           "text": [
            2
           ],
           "textposition": "auto",
           "type": "bar",
           "x": [
            2
           ],
           "xaxis": "x",
           "y": [
            "TESLA"
           ],
           "yaxis": "y"
          },
          {
           "alignmentgroup": "True",
           "hovertemplate": "State=NC<br>Model Year=2021<br>EV Count=%{text}<br>Make=%{y}<extra></extra>",
           "ids": [
            "TESLA"
           ],
           "legendgroup": "NC",
           "marker": {
            "color": "#FFA15A",
            "pattern": {
             "shape": ""
            }
           },
           "name": "NC",
           "offsetgroup": "NC",
           "orientation": "h",
           "showlegend": true,
           "text": [
            2
           ],
           "textposition": "auto",
           "type": "bar",
           "x": [
            2
           ],
           "xaxis": "x",
           "y": [
            "TESLA"
           ],
           "yaxis": "y"
          },
          {
           "alignmentgroup": "True",
           "hovertemplate": "State=OR<br>Model Year=2021<br>EV Count=%{text}<br>Make=%{y}<extra></extra>",
           "ids": [
            "JEEP"
           ],
           "legendgroup": "OR",
           "marker": {
            "color": "#19d3f3",
            "pattern": {
             "shape": ""
            }
           },
           "name": "OR",
           "offsetgroup": "OR",
           "orientation": "h",
           "showlegend": true,
           "text": [
            1
           ],
           "textposition": "auto",
           "type": "bar",
           "x": [
            1
           ],
           "xaxis": "x",
           "y": [
            "JEEP"
           ],
           "yaxis": "y"
          },
          {
           "alignmentgroup": "True",
           "hovertemplate": "State=SC<br>Model Year=2021<br>EV Count=%{text}<br>Make=%{y}<extra></extra>",
           "ids": [
            "FORD",
            "TESLA"
           ],
           "legendgroup": "SC",
           "marker": {
            "color": "#FF6692",
            "pattern": {
             "shape": ""
            }
           },
           "name": "SC",
           "offsetgroup": "SC",
           "orientation": "h",
           "showlegend": true,
           "text": [
            1,
            2
           ],
           "textposition": "auto",
           "type": "bar",
           "x": [
            1,
            2
           ],
           "xaxis": "x",
           "y": [
            "FORD",
            "TESLA"
           ],
           "yaxis": "y"
          },
          {
           "alignmentgroup": "True",
           "hovertemplate": "State=NE<br>Model Year=2021<br>EV Count=%{text}<br>Make=%{y}<extra></extra>",
           "ids": [
            "AUDI",
            "CHRYSLER",
            "KIA"
           ],
           "legendgroup": "NE",
           "marker": {
            "color": "#EF553B",
            "pattern": {
             "shape": ""
            }
           },
           "name": "NE",
           "offsetgroup": "NE",
           "orientation": "h",
           "showlegend": true,
           "text": [
            1,
            1,
            1
           ],
           "textposition": "auto",
           "type": "bar",
           "x": [
            1,
            1,
            1
           ],
           "xaxis": "x",
           "y": [
            "AUDI",
            "CHRYSLER",
            "KIA"
           ],
           "yaxis": "y"
          },
          {
           "alignmentgroup": "True",
           "hovertemplate": "State=HI<br>Model Year=2021<br>EV Count=%{text}<br>Make=%{y}<extra></extra>",
           "ids": [
            "JEEP"
           ],
           "legendgroup": "HI",
           "marker": {
            "color": "#ab63fa",
            "pattern": {
             "shape": ""
            }
           },
           "name": "HI",
           "offsetgroup": "HI",
           "orientation": "h",
           "showlegend": true,
           "text": [
            1
           ],
           "textposition": "auto",
           "type": "bar",
           "x": [
            1
           ],
           "xaxis": "x",
           "y": [
            "JEEP"
           ],
           "yaxis": "y"
          },
          {
           "alignmentgroup": "True",
           "hovertemplate": "State=NJ<br>Model Year=2021<br>EV Count=%{text}<br>Make=%{y}<extra></extra>",
           "ids": [
            "JEEP"
           ],
           "legendgroup": "NJ",
           "marker": {
            "color": "#FFA15A",
            "pattern": {
             "shape": ""
            }
           },
           "name": "NJ",
           "offsetgroup": "NJ",
           "orientation": "h",
           "showlegend": true,
           "text": [
            1
           ],
           "textposition": "auto",
           "type": "bar",
           "x": [
            1
           ],
           "xaxis": "x",
           "y": [
            "JEEP"
           ],
           "yaxis": "y"
          },
          {
           "alignmentgroup": "True",
           "hovertemplate": "State=TN<br>Model Year=2021<br>EV Count=%{text}<br>Make=%{y}<extra></extra>",
           "ids": [
            "TESLA"
           ],
           "legendgroup": "TN",
           "marker": {
            "color": "#FF6692",
            "pattern": {
             "shape": ""
            }
           },
           "name": "TN",
           "offsetgroup": "TN",
           "orientation": "h",
           "showlegend": true,
           "text": [
            2
           ],
           "textposition": "auto",
           "type": "bar",
           "x": [
            2
           ],
           "xaxis": "x",
           "y": [
            "TESLA"
           ],
           "yaxis": "y"
          },
          {
           "alignmentgroup": "True",
           "hovertemplate": "State=MS<br>Model Year=2021<br>EV Count=%{text}<br>Make=%{y}<extra></extra>",
           "ids": [
            "TESLA"
           ],
           "legendgroup": "MS",
           "marker": {
            "color": "#FF97FF",
            "pattern": {
             "shape": ""
            }
           },
           "name": "MS",
           "offsetgroup": "MS",
           "orientation": "h",
           "showlegend": true,
           "text": [
            1
           ],
           "textposition": "auto",
           "type": "bar",
           "x": [
            1
           ],
           "xaxis": "x",
           "y": [
            "TESLA"
           ],
           "yaxis": "y"
          },
          {
           "alignmentgroup": "True",
           "hovertemplate": "State=SD<br>Model Year=2021<br>EV Count=%{text}<br>Make=%{y}<extra></extra>",
           "ids": [
            "TESLA"
           ],
           "legendgroup": "SD",
           "marker": {
            "color": "#FECB52",
            "pattern": {
             "shape": ""
            }
           },
           "name": "SD",
           "offsetgroup": "SD",
           "orientation": "h",
           "showlegend": true,
           "text": [
            1
           ],
           "textposition": "auto",
           "type": "bar",
           "x": [
            1
           ],
           "xaxis": "x",
           "y": [
            "TESLA"
           ],
           "yaxis": "y"
          },
          {
           "alignmentgroup": "True",
           "hovertemplate": "State=WI<br>Model Year=2021<br>EV Count=%{text}<br>Make=%{y}<extra></extra>",
           "ids": [
            "TESLA"
           ],
           "legendgroup": "WI",
           "marker": {
            "color": "#636efa",
            "pattern": {
             "shape": ""
            }
           },
           "name": "WI",
           "offsetgroup": "WI",
           "orientation": "h",
           "showlegend": true,
           "text": [
            1
           ],
           "textposition": "auto",
           "type": "bar",
           "x": [
            1
           ],
           "xaxis": "x",
           "y": [
            "TESLA"
           ],
           "yaxis": "y"
          }
         ],
         "name": "2021"
        },
        {
         "data": [
          {
           "alignmentgroup": "True",
           "hovertemplate": "State=WA<br>Model Year=2022<br>EV Count=%{text}<br>Make=%{y}<extra></extra>",
           "ids": [
            "AUDI",
            "BENTLEY",
            "BMW",
            "CHEVROLET",
            "CHRYSLER",
            "FORD",
            "HYUNDAI",
            "JAGUAR",
            "JEEP",
            "KIA",
            "LEXUS",
            "LINCOLN",
            "LUCID MOTORS",
            "MERCEDES-BENZ",
            "MINI",
            "MITSUBISHI",
            "NISSAN",
            "POLESTAR",
            "PORSCHE",
            "RIVIAN",
            "TESLA",
            "TOYOTA",
            "VOLKSWAGEN",
            "VOLVO"
           ],
           "legendgroup": "WA",
           "marker": {
            "color": "#636efa",
            "pattern": {
             "shape": ""
            }
           },
           "name": "WA",
           "offsetgroup": "WA",
           "orientation": "h",
           "showlegend": true,
           "text": [
            585,
            1,
            901,
            891,
            237,
            1248,
            631,
            19,
            521,
            2150,
            33,
            94,
            65,
            130,
            212,
            89,
            969,
            372,
            200,
            884,
            14524,
            419,
            428,
            878
           ],
           "textposition": "auto",
           "type": "bar",
           "x": [
            585,
            1,
            901,
            891,
            237,
            1248,
            631,
            19,
            521,
            2150,
            33,
            94,
            65,
            130,
            212,
            89,
            969,
            372,
            200,
            884,
            14524,
            419,
            428,
            878
           ],
           "xaxis": "x",
           "y": [
            "AUDI",
            "BENTLEY",
            "BMW",
            "CHEVROLET",
            "CHRYSLER",
            "FORD",
            "HYUNDAI",
            "JAGUAR",
            "JEEP",
            "KIA",
            "LEXUS",
            "LINCOLN",
            "LUCID MOTORS",
            "MERCEDES-BENZ",
            "MINI",
            "MITSUBISHI",
            "NISSAN",
            "POLESTAR",
            "PORSCHE",
            "RIVIAN",
            "TESLA",
            "TOYOTA",
            "VOLKSWAGEN",
            "VOLVO"
           ],
           "yaxis": "y"
          },
          {
           "alignmentgroup": "True",
           "hovertemplate": "State=VA<br>Model Year=2022<br>EV Count=%{text}<br>Make=%{y}<extra></extra>",
           "ids": [
            "BMW",
            "CHEVROLET",
            "JEEP",
            "TESLA",
            "TOYOTA"
           ],
           "legendgroup": "VA",
           "marker": {
            "color": "#EF553B",
            "pattern": {
             "shape": ""
            }
           },
           "name": "VA",
           "offsetgroup": "VA",
           "orientation": "h",
           "showlegend": true,
           "text": [
            1,
            1,
            1,
            2,
            1
           ],
           "textposition": "auto",
           "type": "bar",
           "x": [
            1,
            1,
            1,
            2,
            1
           ],
           "xaxis": "x",
           "y": [
            "BMW",
            "CHEVROLET",
            "JEEP",
            "TESLA",
            "TOYOTA"
           ],
           "yaxis": "y"
          },
          {
           "alignmentgroup": "True",
           "hovertemplate": "State=CA<br>Model Year=2022<br>EV Count=%{text}<br>Make=%{y}<extra></extra>",
           "ids": [
            "HYUNDAI",
            "KIA",
            "TESLA",
            "VOLVO"
           ],
           "legendgroup": "CA",
           "marker": {
            "color": "#00cc96",
            "pattern": {
             "shape": ""
            }
           },
           "name": "CA",
           "offsetgroup": "CA",
           "orientation": "h",
           "showlegend": true,
           "text": [
            1,
            1,
            6,
            1
           ],
           "textposition": "auto",
           "type": "bar",
           "x": [
            1,
            1,
            6,
            1
           ],
           "xaxis": "x",
           "y": [
            "HYUNDAI",
            "KIA",
            "TESLA",
            "VOLVO"
           ],
           "yaxis": "y"
          },
          {
           "alignmentgroup": "True",
           "hovertemplate": "State=MD<br>Model Year=2022<br>EV Count=%{text}<br>Make=%{y}<extra></extra>",
           "ids": [
            "BMW",
            "FORD",
            "HYUNDAI",
            "VOLVO"
           ],
           "legendgroup": "MD",
           "marker": {
            "color": "#ab63fa",
            "pattern": {
             "shape": ""
            }
           },
           "name": "MD",
           "offsetgroup": "MD",
           "orientation": "h",
           "showlegend": true,
           "text": [
            1,
            1,
            1,
            1
           ],
           "textposition": "auto",
           "type": "bar",
           "x": [
            1,
            1,
            1,
            1
           ],
           "xaxis": "x",
           "y": [
            "BMW",
            "FORD",
            "HYUNDAI",
            "VOLVO"
           ],
           "yaxis": "y"
          },
          {
           "alignmentgroup": "True",
           "hovertemplate": "State=GA<br>Model Year=2022<br>EV Count=%{text}<br>Make=%{y}<extra></extra>",
           "ids": [
            "KIA",
            "VOLVO"
           ],
           "legendgroup": "GA",
           "marker": {
            "color": "#19d3f3",
            "pattern": {
             "shape": ""
            }
           },
           "name": "GA",
           "offsetgroup": "GA",
           "orientation": "h",
           "showlegend": true,
           "text": [
            1,
            1
           ],
           "textposition": "auto",
           "type": "bar",
           "x": [
            1,
            1
           ],
           "xaxis": "x",
           "y": [
            "KIA",
            "VOLVO"
           ],
           "yaxis": "y"
          },
          {
           "alignmentgroup": "True",
           "hovertemplate": "State=AZ<br>Model Year=2022<br>EV Count=%{text}<br>Make=%{y}<extra></extra>",
           "ids": [
            "VOLVO"
           ],
           "legendgroup": "AZ",
           "marker": {
            "color": "#FF6692",
            "pattern": {
             "shape": ""
            }
           },
           "name": "AZ",
           "offsetgroup": "AZ",
           "orientation": "h",
           "showlegend": true,
           "text": [
            1
           ],
           "textposition": "auto",
           "type": "bar",
           "x": [
            1
           ],
           "xaxis": "x",
           "y": [
            "VOLVO"
           ],
           "yaxis": "y"
          },
          {
           "alignmentgroup": "True",
           "hovertemplate": "State=CO<br>Model Year=2022<br>EV Count=%{text}<br>Make=%{y}<extra></extra>",
           "ids": [
            "BMW",
            "TESLA"
           ],
           "legendgroup": "CO",
           "marker": {
            "color": "#B6E880",
            "pattern": {
             "shape": ""
            }
           },
           "name": "CO",
           "offsetgroup": "CO",
           "orientation": "h",
           "showlegend": true,
           "text": [
            1,
            2
           ],
           "textposition": "auto",
           "type": "bar",
           "x": [
            1,
            2
           ],
           "xaxis": "x",
           "y": [
            "BMW",
            "TESLA"
           ],
           "yaxis": "y"
          },
          {
           "alignmentgroup": "True",
           "hovertemplate": "State=CT<br>Model Year=2022<br>EV Count=%{text}<br>Make=%{y}<extra></extra>",
           "ids": [
            "TESLA"
           ],
           "legendgroup": "CT",
           "marker": {
            "color": "#FF97FF",
            "pattern": {
             "shape": ""
            }
           },
           "name": "CT",
           "offsetgroup": "CT",
           "orientation": "h",
           "showlegend": true,
           "text": [
            1
           ],
           "textposition": "auto",
           "type": "bar",
           "x": [
            1
           ],
           "xaxis": "x",
           "y": [
            "TESLA"
           ],
           "yaxis": "y"
          },
          {
           "alignmentgroup": "True",
           "hovertemplate": "State=TX<br>Model Year=2022<br>EV Count=%{text}<br>Make=%{y}<extra></extra>",
           "ids": [
            "TESLA"
           ],
           "legendgroup": "TX",
           "marker": {
            "color": "#FECB52",
            "pattern": {
             "shape": ""
            }
           },
           "name": "TX",
           "offsetgroup": "TX",
           "orientation": "h",
           "showlegend": true,
           "text": [
            3
           ],
           "textposition": "auto",
           "type": "bar",
           "x": [
            3
           ],
           "xaxis": "x",
           "y": [
            "TESLA"
           ],
           "yaxis": "y"
          },
          {
           "alignmentgroup": "True",
           "hovertemplate": "State=LA<br>Model Year=2022<br>EV Count=%{text}<br>Make=%{y}<extra></extra>",
           "ids": [
            "KIA",
            "TESLA"
           ],
           "legendgroup": "LA",
           "marker": {
            "color": "#EF553B",
            "pattern": {
             "shape": ""
            }
           },
           "name": "LA",
           "offsetgroup": "LA",
           "orientation": "h",
           "showlegend": true,
           "text": [
            1,
            1
           ],
           "textposition": "auto",
           "type": "bar",
           "x": [
            1,
            1
           ],
           "xaxis": "x",
           "y": [
            "KIA",
            "TESLA"
           ],
           "yaxis": "y"
          },
          {
           "alignmentgroup": "True",
           "hovertemplate": "State=DC<br>Model Year=2022<br>EV Count=%{text}<br>Make=%{y}<extra></extra>",
           "ids": [
            "TESLA"
           ],
           "legendgroup": "DC",
           "marker": {
            "color": "#ab63fa",
            "pattern": {
             "shape": ""
            }
           },
           "name": "DC",
           "offsetgroup": "DC",
           "orientation": "h",
           "showlegend": true,
           "text": [
            1
           ],
           "textposition": "auto",
           "type": "bar",
           "x": [
            1
           ],
           "xaxis": "x",
           "y": [
            "TESLA"
           ],
           "yaxis": "y"
          },
          {
           "alignmentgroup": "True",
           "hovertemplate": "State=FL<br>Model Year=2022<br>EV Count=%{text}<br>Make=%{y}<extra></extra>",
           "ids": [
            "TOYOTA"
           ],
           "legendgroup": "FL",
           "marker": {
            "color": "#FFA15A",
            "pattern": {
             "shape": ""
            }
           },
           "name": "FL",
           "offsetgroup": "FL",
           "orientation": "h",
           "showlegend": true,
           "text": [
            2
           ],
           "textposition": "auto",
           "type": "bar",
           "x": [
            2
           ],
           "xaxis": "x",
           "y": [
            "TOYOTA"
           ],
           "yaxis": "y"
          },
          {
           "alignmentgroup": "True",
           "hovertemplate": "State=PA<br>Model Year=2022<br>EV Count=%{text}<br>Make=%{y}<extra></extra>",
           "ids": [
            "TESLA"
           ],
           "legendgroup": "PA",
           "marker": {
            "color": "#636efa",
            "pattern": {
             "shape": ""
            }
           },
           "name": "PA",
           "offsetgroup": "PA",
           "orientation": "h",
           "showlegend": true,
           "text": [
            1
           ],
           "textposition": "auto",
           "type": "bar",
           "x": [
            1
           ],
           "xaxis": "x",
           "y": [
            "TESLA"
           ],
           "yaxis": "y"
          },
          {
           "alignmentgroup": "True",
           "hovertemplate": "State=AR<br>Model Year=2022<br>EV Count=%{text}<br>Make=%{y}<extra></extra>",
           "ids": [
            "TESLA"
           ],
           "legendgroup": "AR",
           "marker": {
            "color": "#00cc96",
            "pattern": {
             "shape": ""
            }
           },
           "name": "AR",
           "offsetgroup": "AR",
           "orientation": "h",
           "showlegend": true,
           "text": [
            1
           ],
           "textposition": "auto",
           "type": "bar",
           "x": [
            1
           ],
           "xaxis": "x",
           "y": [
            "TESLA"
           ],
           "yaxis": "y"
          },
          {
           "alignmentgroup": "True",
           "hovertemplate": "State=NC<br>Model Year=2022<br>EV Count=%{text}<br>Make=%{y}<extra></extra>",
           "ids": [
            "TESLA"
           ],
           "legendgroup": "NC",
           "marker": {
            "color": "#FFA15A",
            "pattern": {
             "shape": ""
            }
           },
           "name": "NC",
           "offsetgroup": "NC",
           "orientation": "h",
           "showlegend": true,
           "text": [
            1
           ],
           "textposition": "auto",
           "type": "bar",
           "x": [
            1
           ],
           "xaxis": "x",
           "y": [
            "TESLA"
           ],
           "yaxis": "y"
          },
          {
           "alignmentgroup": "True",
           "hovertemplate": "State=OR<br>Model Year=2022<br>EV Count=%{text}<br>Make=%{y}<extra></extra>",
           "ids": [
            "TOYOTA"
           ],
           "legendgroup": "OR",
           "marker": {
            "color": "#19d3f3",
            "pattern": {
             "shape": ""
            }
           },
           "name": "OR",
           "offsetgroup": "OR",
           "orientation": "h",
           "showlegend": true,
           "text": [
            1
           ],
           "textposition": "auto",
           "type": "bar",
           "x": [
            1
           ],
           "xaxis": "x",
           "y": [
            "TOYOTA"
           ],
           "yaxis": "y"
          },
          {
           "alignmentgroup": "True",
           "hovertemplate": "State=SC<br>Model Year=2022<br>EV Count=%{text}<br>Make=%{y}<extra></extra>",
           "ids": [
            "TESLA"
           ],
           "legendgroup": "SC",
           "marker": {
            "color": "#FF6692",
            "pattern": {
             "shape": ""
            }
           },
           "name": "SC",
           "offsetgroup": "SC",
           "orientation": "h",
           "showlegend": true,
           "text": [
            1
           ],
           "textposition": "auto",
           "type": "bar",
           "x": [
            1
           ],
           "xaxis": "x",
           "y": [
            "TESLA"
           ],
           "yaxis": "y"
          },
          {
           "alignmentgroup": "True",
           "hovertemplate": "State=MA<br>Model Year=2022<br>EV Count=%{text}<br>Make=%{y}<extra></extra>",
           "ids": [
            "TESLA"
           ],
           "legendgroup": "MA",
           "marker": {
            "color": "#B6E880",
            "pattern": {
             "shape": ""
            }
           },
           "name": "MA",
           "offsetgroup": "MA",
           "orientation": "h",
           "showlegend": true,
           "text": [
            2
           ],
           "textposition": "auto",
           "type": "bar",
           "x": [
            2
           ],
           "xaxis": "x",
           "y": [
            "TESLA"
           ],
           "yaxis": "y"
          },
          {
           "alignmentgroup": "True",
           "hovertemplate": "State=HI<br>Model Year=2022<br>EV Count=%{text}<br>Make=%{y}<extra></extra>",
           "ids": [
            "JEEP"
           ],
           "legendgroup": "HI",
           "marker": {
            "color": "#ab63fa",
            "pattern": {
             "shape": ""
            }
           },
           "name": "HI",
           "offsetgroup": "HI",
           "orientation": "h",
           "showlegend": true,
           "text": [
            1
           ],
           "textposition": "auto",
           "type": "bar",
           "x": [
            1
           ],
           "xaxis": "x",
           "y": [
            "JEEP"
           ],
           "yaxis": "y"
          },
          {
           "alignmentgroup": "True",
           "hovertemplate": "State=WY<br>Model Year=2022<br>EV Count=%{text}<br>Make=%{y}<extra></extra>",
           "ids": [
            "BMW"
           ],
           "legendgroup": "WY",
           "marker": {
            "color": "#B6E880",
            "pattern": {
             "shape": ""
            }
           },
           "name": "WY",
           "offsetgroup": "WY",
           "orientation": "h",
           "showlegend": true,
           "text": [
            1
           ],
           "textposition": "auto",
           "type": "bar",
           "x": [
            1
           ],
           "xaxis": "x",
           "y": [
            "BMW"
           ],
           "yaxis": "y"
          },
          {
           "alignmentgroup": "True",
           "hovertemplate": "State=OH<br>Model Year=2022<br>EV Count=%{text}<br>Make=%{y}<extra></extra>",
           "ids": [
            "FORD",
            "NISSAN"
           ],
           "legendgroup": "OH",
           "marker": {
            "color": "#EF553B",
            "pattern": {
             "shape": ""
            }
           },
           "name": "OH",
           "offsetgroup": "OH",
           "orientation": "h",
           "showlegend": true,
           "text": [
            1,
            1
           ],
           "textposition": "auto",
           "type": "bar",
           "x": [
            1,
            1
           ],
           "xaxis": "x",
           "y": [
            "FORD",
            "NISSAN"
           ],
           "yaxis": "y"
          },
          {
           "alignmentgroup": "True",
           "hovertemplate": "State=ID<br>Model Year=2022<br>EV Count=%{text}<br>Make=%{y}<extra></extra>",
           "ids": [
            "RIVIAN",
            "TESLA"
           ],
           "legendgroup": "ID",
           "marker": {
            "color": "#00cc96",
            "pattern": {
             "shape": ""
            }
           },
           "name": "ID",
           "offsetgroup": "ID",
           "orientation": "h",
           "showlegend": true,
           "text": [
            1,
            1
           ],
           "textposition": "auto",
           "type": "bar",
           "x": [
            1,
            1
           ],
           "xaxis": "x",
           "y": [
            "RIVIAN",
            "TESLA"
           ],
           "yaxis": "y"
          },
          {
           "alignmentgroup": "True",
           "hovertemplate": "State=DE<br>Model Year=2022<br>EV Count=%{text}<br>Make=%{y}<extra></extra>",
           "ids": [
            "TESLA"
           ],
           "legendgroup": "DE",
           "marker": {
            "color": "#ab63fa",
            "pattern": {
             "shape": ""
            }
           },
           "name": "DE",
           "offsetgroup": "DE",
           "orientation": "h",
           "showlegend": true,
           "text": [
            1
           ],
           "textposition": "auto",
           "type": "bar",
           "x": [
            1
           ],
           "xaxis": "x",
           "y": [
            "TESLA"
           ],
           "yaxis": "y"
          },
          {
           "alignmentgroup": "True",
           "hovertemplate": "State=AL<br>Model Year=2022<br>EV Count=%{text}<br>Make=%{y}<extra></extra>",
           "ids": [
            "TOYOTA"
           ],
           "legendgroup": "AL",
           "marker": {
            "color": "#FFA15A",
            "pattern": {
             "shape": ""
            }
           },
           "name": "AL",
           "offsetgroup": "AL",
           "orientation": "h",
           "showlegend": true,
           "text": [
            1
           ],
           "textposition": "auto",
           "type": "bar",
           "x": [
            1
           ],
           "xaxis": "x",
           "y": [
            "TOYOTA"
           ],
           "yaxis": "y"
          }
         ],
         "name": "2022"
        },
        {
         "data": [
          {
           "alignmentgroup": "True",
           "hovertemplate": "State=WA<br>Model Year=2023<br>EV Count=%{text}<br>Make=%{y}<extra></extra>",
           "ids": [
            "AUDI",
            "BMW",
            "CHEVROLET",
            "FORD",
            "GENESIS",
            "HYUNDAI",
            "KIA",
            "LINCOLN",
            "MERCEDES-BENZ",
            "MINI",
            "NISSAN",
            "POLESTAR",
            "SUBARU",
            "TESLA",
            "VOLKSWAGEN",
            "VOLVO"
           ],
           "legendgroup": "WA",
           "marker": {
            "color": "#636efa",
            "pattern": {
             "shape": ""
            }
           },
           "name": "WA",
           "offsetgroup": "WA",
           "orientation": "h",
           "showlegend": true,
           "text": [
            11,
            73,
            177,
            4,
            18,
            154,
            78,
            4,
            23,
            124,
            149,
            88,
            1,
            890,
            69,
            21
           ],
           "textposition": "auto",
           "type": "bar",
           "x": [
            11,
            73,
            177,
            4,
            18,
            154,
            78,
            4,
            23,
            124,
            149,
            88,
            1,
            890,
            69,
            21
           ],
           "xaxis": "x",
           "y": [
            "AUDI",
            "BMW",
            "CHEVROLET",
            "FORD",
            "GENESIS",
            "HYUNDAI",
            "KIA",
            "LINCOLN",
            "MERCEDES-BENZ",
            "MINI",
            "NISSAN",
            "POLESTAR",
            "SUBARU",
            "TESLA",
            "VOLKSWAGEN",
            "VOLVO"
           ],
           "yaxis": "y"
          },
          {
           "alignmentgroup": "True",
           "hovertemplate": "State=VA<br>Model Year=2023<br>EV Count=%{text}<br>Make=%{y}<extra></extra>",
           "ids": [
            "KIA"
           ],
           "legendgroup": "VA",
           "marker": {
            "color": "#EF553B",
            "pattern": {
             "shape": ""
            }
           },
           "name": "VA",
           "offsetgroup": "VA",
           "orientation": "h",
           "showlegend": true,
           "text": [
            1
           ],
           "textposition": "auto",
           "type": "bar",
           "x": [
            1
           ],
           "xaxis": "x",
           "y": [
            "KIA"
           ],
           "yaxis": "y"
          },
          {
           "alignmentgroup": "True",
           "hovertemplate": "State=CA<br>Model Year=2023<br>EV Count=%{text}<br>Make=%{y}<extra></extra>",
           "ids": [
            "AUDI"
           ],
           "legendgroup": "CA",
           "marker": {
            "color": "#00cc96",
            "pattern": {
             "shape": ""
            }
           },
           "name": "CA",
           "offsetgroup": "CA",
           "orientation": "h",
           "showlegend": true,
           "text": [
            1
           ],
           "textposition": "auto",
           "type": "bar",
           "x": [
            1
           ],
           "xaxis": "x",
           "y": [
            "AUDI"
           ],
           "yaxis": "y"
          }
         ],
         "name": "2023"
        }
       ],
       "layout": {
        "barmode": "relative",
        "height": 700,
        "legend": {
         "title": {
          "text": "State"
         },
         "tracegroupgap": 0
        },
        "showlegend": true,
        "sliders": [
         {
          "active": 0,
          "currentvalue": {
           "prefix": "Model Year="
          },
          "len": 0.9,
          "pad": {
           "b": 10,
           "t": 60
          },
          "steps": [
           {
            "args": [
             [
              "1997"
             ],
             {
              "frame": {
               "duration": 0,
               "redraw": true
              },
              "fromcurrent": true,
              "mode": "immediate",
              "transition": {
               "duration": 0,
               "easing": "linear"
              }
             }
            ],
            "label": "1997",
            "method": "animate"
           },
           {
            "args": [
             [
              "1998"
             ],
             {
              "frame": {
               "duration": 0,
               "redraw": true
              },
              "fromcurrent": true,
              "mode": "immediate",
              "transition": {
               "duration": 0,
               "easing": "linear"
              }
             }
            ],
            "label": "1998",
            "method": "animate"
           },
           {
            "args": [
             [
              "1999"
             ],
             {
              "frame": {
               "duration": 0,
               "redraw": true
              },
              "fromcurrent": true,
              "mode": "immediate",
              "transition": {
               "duration": 0,
               "easing": "linear"
              }
             }
            ],
            "label": "1999",
            "method": "animate"
           },
           {
            "args": [
             [
              "2000"
             ],
             {
              "frame": {
               "duration": 0,
               "redraw": true
              },
              "fromcurrent": true,
              "mode": "immediate",
              "transition": {
               "duration": 0,
               "easing": "linear"
              }
             }
            ],
            "label": "2000",
            "method": "animate"
           },
           {
            "args": [
             [
              "2002"
             ],
             {
              "frame": {
               "duration": 0,
               "redraw": true
              },
              "fromcurrent": true,
              "mode": "immediate",
              "transition": {
               "duration": 0,
               "easing": "linear"
              }
             }
            ],
            "label": "2002",
            "method": "animate"
           },
           {
            "args": [
             [
              "2008"
             ],
             {
              "frame": {
               "duration": 0,
               "redraw": true
              },
              "fromcurrent": true,
              "mode": "immediate",
              "transition": {
               "duration": 0,
               "easing": "linear"
              }
             }
            ],
            "label": "2008",
            "method": "animate"
           },
           {
            "args": [
             [
              "2010"
             ],
             {
              "frame": {
               "duration": 0,
               "redraw": true
              },
              "fromcurrent": true,
              "mode": "immediate",
              "transition": {
               "duration": 0,
               "easing": "linear"
              }
             }
            ],
            "label": "2010",
            "method": "animate"
           },
           {
            "args": [
             [
              "2011"
             ],
             {
              "frame": {
               "duration": 0,
               "redraw": true
              },
              "fromcurrent": true,
              "mode": "immediate",
              "transition": {
               "duration": 0,
               "easing": "linear"
              }
             }
            ],
            "label": "2011",
            "method": "animate"
           },
           {
            "args": [
             [
              "2012"
             ],
             {
              "frame": {
               "duration": 0,
               "redraw": true
              },
              "fromcurrent": true,
              "mode": "immediate",
              "transition": {
               "duration": 0,
               "easing": "linear"
              }
             }
            ],
            "label": "2012",
            "method": "animate"
           },
           {
            "args": [
             [
              "2013"
             ],
             {
              "frame": {
               "duration": 0,
               "redraw": true
              },
              "fromcurrent": true,
              "mode": "immediate",
              "transition": {
               "duration": 0,
               "easing": "linear"
              }
             }
            ],
            "label": "2013",
            "method": "animate"
           },
           {
            "args": [
             [
              "2014"
             ],
             {
              "frame": {
               "duration": 0,
               "redraw": true
              },
              "fromcurrent": true,
              "mode": "immediate",
              "transition": {
               "duration": 0,
               "easing": "linear"
              }
             }
            ],
            "label": "2014",
            "method": "animate"
           },
           {
            "args": [
             [
              "2015"
             ],
             {
              "frame": {
               "duration": 0,
               "redraw": true
              },
              "fromcurrent": true,
              "mode": "immediate",
              "transition": {
               "duration": 0,
               "easing": "linear"
              }
             }
            ],
            "label": "2015",
            "method": "animate"
           },
           {
            "args": [
             [
              "2016"
             ],
             {
              "frame": {
               "duration": 0,
               "redraw": true
              },
              "fromcurrent": true,
              "mode": "immediate",
              "transition": {
               "duration": 0,
               "easing": "linear"
              }
             }
            ],
            "label": "2016",
            "method": "animate"
           },
           {
            "args": [
             [
              "2017"
             ],
             {
              "frame": {
               "duration": 0,
               "redraw": true
              },
              "fromcurrent": true,
              "mode": "immediate",
              "transition": {
               "duration": 0,
               "easing": "linear"
              }
             }
            ],
            "label": "2017",
            "method": "animate"
           },
           {
            "args": [
             [
              "2018"
             ],
             {
              "frame": {
               "duration": 0,
               "redraw": true
              },
              "fromcurrent": true,
              "mode": "immediate",
              "transition": {
               "duration": 0,
               "easing": "linear"
              }
             }
            ],
            "label": "2018",
            "method": "animate"
           },
           {
            "args": [
             [
              "2019"
             ],
             {
              "frame": {
               "duration": 0,
               "redraw": true
              },
              "fromcurrent": true,
              "mode": "immediate",
              "transition": {
               "duration": 0,
               "easing": "linear"
              }
             }
            ],
            "label": "2019",
            "method": "animate"
           },
           {
            "args": [
             [
              "2020"
             ],
             {
              "frame": {
               "duration": 0,
               "redraw": true
              },
              "fromcurrent": true,
              "mode": "immediate",
              "transition": {
               "duration": 0,
               "easing": "linear"
              }
             }
            ],
            "label": "2020",
            "method": "animate"
           },
           {
            "args": [
             [
              "2021"
             ],
             {
              "frame": {
               "duration": 0,
               "redraw": true
              },
              "fromcurrent": true,
              "mode": "immediate",
              "transition": {
               "duration": 0,
               "easing": "linear"
              }
             }
            ],
            "label": "2021",
            "method": "animate"
           },
           {
            "args": [
             [
              "2022"
             ],
             {
              "frame": {
               "duration": 0,
               "redraw": true
              },
              "fromcurrent": true,
              "mode": "immediate",
              "transition": {
               "duration": 0,
               "easing": "linear"
              }
             }
            ],
            "label": "2022",
            "method": "animate"
           },
           {
            "args": [
             [
              "2023"
             ],
             {
              "frame": {
               "duration": 0,
               "redraw": true
              },
              "fromcurrent": true,
              "mode": "immediate",
              "transition": {
               "duration": 0,
               "easing": "linear"
              }
             }
            ],
            "label": "2023",
            "method": "animate"
           }
          ],
          "x": 0.1,
          "xanchor": "left",
          "y": 0,
          "yanchor": "top"
         }
        ],
        "template": {
         "data": {
          "bar": [
           {
            "error_x": {
             "color": "#2a3f5f"
            },
            "error_y": {
             "color": "#2a3f5f"
            },
            "marker": {
             "line": {
              "color": "#E5ECF6",
              "width": 0.5
             },
             "pattern": {
              "fillmode": "overlay",
              "size": 10,
              "solidity": 0.2
             }
            },
            "type": "bar"
           }
          ],
          "barpolar": [
           {
            "marker": {
             "line": {
              "color": "#E5ECF6",
              "width": 0.5
             },
             "pattern": {
              "fillmode": "overlay",
              "size": 10,
              "solidity": 0.2
             }
            },
            "type": "barpolar"
           }
          ],
          "carpet": [
           {
            "aaxis": {
             "endlinecolor": "#2a3f5f",
             "gridcolor": "white",
             "linecolor": "white",
             "minorgridcolor": "white",
             "startlinecolor": "#2a3f5f"
            },
            "baxis": {
             "endlinecolor": "#2a3f5f",
             "gridcolor": "white",
             "linecolor": "white",
             "minorgridcolor": "white",
             "startlinecolor": "#2a3f5f"
            },
            "type": "carpet"
           }
          ],
          "choropleth": [
           {
            "colorbar": {
             "outlinewidth": 0,
             "ticks": ""
            },
            "type": "choropleth"
           }
          ],
          "contour": [
           {
            "colorbar": {
             "outlinewidth": 0,
             "ticks": ""
            },
            "colorscale": [
             [
              0,
              "#0d0887"
             ],
             [
              0.1111111111111111,
              "#46039f"
             ],
             [
              0.2222222222222222,
              "#7201a8"
             ],
             [
              0.3333333333333333,
              "#9c179e"
             ],
             [
              0.4444444444444444,
              "#bd3786"
             ],
             [
              0.5555555555555556,
              "#d8576b"
             ],
             [
              0.6666666666666666,
              "#ed7953"
             ],
             [
              0.7777777777777778,
              "#fb9f3a"
             ],
             [
              0.8888888888888888,
              "#fdca26"
             ],
             [
              1,
              "#f0f921"
             ]
            ],
            "type": "contour"
           }
          ],
          "contourcarpet": [
           {
            "colorbar": {
             "outlinewidth": 0,
             "ticks": ""
            },
            "type": "contourcarpet"
           }
          ],
          "heatmap": [
           {
            "colorbar": {
             "outlinewidth": 0,
             "ticks": ""
            },
            "colorscale": [
             [
              0,
              "#0d0887"
             ],
             [
              0.1111111111111111,
              "#46039f"
             ],
             [
              0.2222222222222222,
              "#7201a8"
             ],
             [
              0.3333333333333333,
              "#9c179e"
             ],
             [
              0.4444444444444444,
              "#bd3786"
             ],
             [
              0.5555555555555556,
              "#d8576b"
             ],
             [
              0.6666666666666666,
              "#ed7953"
             ],
             [
              0.7777777777777778,
              "#fb9f3a"
             ],
             [
              0.8888888888888888,
              "#fdca26"
             ],
             [
              1,
              "#f0f921"
             ]
            ],
            "type": "heatmap"
           }
          ],
          "heatmapgl": [
           {
            "colorbar": {
             "outlinewidth": 0,
             "ticks": ""
            },
            "colorscale": [
             [
              0,
              "#0d0887"
             ],
             [
              0.1111111111111111,
              "#46039f"
             ],
             [
              0.2222222222222222,
              "#7201a8"
             ],
             [
              0.3333333333333333,
              "#9c179e"
             ],
             [
              0.4444444444444444,
              "#bd3786"
             ],
             [
              0.5555555555555556,
              "#d8576b"
             ],
             [
              0.6666666666666666,
              "#ed7953"
             ],
             [
              0.7777777777777778,
              "#fb9f3a"
             ],
             [
              0.8888888888888888,
              "#fdca26"
             ],
             [
              1,
              "#f0f921"
             ]
            ],
            "type": "heatmapgl"
           }
          ],
          "histogram": [
           {
            "marker": {
             "pattern": {
              "fillmode": "overlay",
              "size": 10,
              "solidity": 0.2
             }
            },
            "type": "histogram"
           }
          ],
          "histogram2d": [
           {
            "colorbar": {
             "outlinewidth": 0,
             "ticks": ""
            },
            "colorscale": [
             [
              0,
              "#0d0887"
             ],
             [
              0.1111111111111111,
              "#46039f"
             ],
             [
              0.2222222222222222,
              "#7201a8"
             ],
             [
              0.3333333333333333,
              "#9c179e"
             ],
             [
              0.4444444444444444,
              "#bd3786"
             ],
             [
              0.5555555555555556,
              "#d8576b"
             ],
             [
              0.6666666666666666,
              "#ed7953"
             ],
             [
              0.7777777777777778,
              "#fb9f3a"
             ],
             [
              0.8888888888888888,
              "#fdca26"
             ],
             [
              1,
              "#f0f921"
             ]
            ],
            "type": "histogram2d"
           }
          ],
          "histogram2dcontour": [
           {
            "colorbar": {
             "outlinewidth": 0,
             "ticks": ""
            },
            "colorscale": [
             [
              0,
              "#0d0887"
             ],
             [
              0.1111111111111111,
              "#46039f"
             ],
             [
              0.2222222222222222,
              "#7201a8"
             ],
             [
              0.3333333333333333,
              "#9c179e"
             ],
             [
              0.4444444444444444,
              "#bd3786"
             ],
             [
              0.5555555555555556,
              "#d8576b"
             ],
             [
              0.6666666666666666,
              "#ed7953"
             ],
             [
              0.7777777777777778,
              "#fb9f3a"
             ],
             [
              0.8888888888888888,
              "#fdca26"
             ],
             [
              1,
              "#f0f921"
             ]
            ],
            "type": "histogram2dcontour"
           }
          ],
          "mesh3d": [
           {
            "colorbar": {
             "outlinewidth": 0,
             "ticks": ""
            },
            "type": "mesh3d"
           }
          ],
          "parcoords": [
           {
            "line": {
             "colorbar": {
              "outlinewidth": 0,
              "ticks": ""
             }
            },
            "type": "parcoords"
           }
          ],
          "pie": [
           {
            "automargin": true,
            "type": "pie"
           }
          ],
          "scatter": [
           {
            "fillpattern": {
             "fillmode": "overlay",
             "size": 10,
             "solidity": 0.2
            },
            "type": "scatter"
           }
          ],
          "scatter3d": [
           {
            "line": {
             "colorbar": {
              "outlinewidth": 0,
              "ticks": ""
             }
            },
            "marker": {
             "colorbar": {
              "outlinewidth": 0,
              "ticks": ""
             }
            },
            "type": "scatter3d"
           }
          ],
          "scattercarpet": [
           {
            "marker": {
             "colorbar": {
              "outlinewidth": 0,
              "ticks": ""
             }
            },
            "type": "scattercarpet"
           }
          ],
          "scattergeo": [
           {
            "marker": {
             "colorbar": {
              "outlinewidth": 0,
              "ticks": ""
             }
            },
            "type": "scattergeo"
           }
          ],
          "scattergl": [
           {
            "marker": {
             "colorbar": {
              "outlinewidth": 0,
              "ticks": ""
             }
            },
            "type": "scattergl"
           }
          ],
          "scattermapbox": [
           {
            "marker": {
             "colorbar": {
              "outlinewidth": 0,
              "ticks": ""
             }
            },
            "type": "scattermapbox"
           }
          ],
          "scatterpolar": [
           {
            "marker": {
             "colorbar": {
              "outlinewidth": 0,
              "ticks": ""
             }
            },
            "type": "scatterpolar"
           }
          ],
          "scatterpolargl": [
           {
            "marker": {
             "colorbar": {
              "outlinewidth": 0,
              "ticks": ""
             }
            },
            "type": "scatterpolargl"
           }
          ],
          "scatterternary": [
           {
            "marker": {
             "colorbar": {
              "outlinewidth": 0,
              "ticks": ""
             }
            },
            "type": "scatterternary"
           }
          ],
          "surface": [
           {
            "colorbar": {
             "outlinewidth": 0,
             "ticks": ""
            },
            "colorscale": [
             [
              0,
              "#0d0887"
             ],
             [
              0.1111111111111111,
              "#46039f"
             ],
             [
              0.2222222222222222,
              "#7201a8"
             ],
             [
              0.3333333333333333,
              "#9c179e"
             ],
             [
              0.4444444444444444,
              "#bd3786"
             ],
             [
              0.5555555555555556,
              "#d8576b"
             ],
             [
              0.6666666666666666,
              "#ed7953"
             ],
             [
              0.7777777777777778,
              "#fb9f3a"
             ],
             [
              0.8888888888888888,
              "#fdca26"
             ],
             [
              1,
              "#f0f921"
             ]
            ],
            "type": "surface"
           }
          ],
          "table": [
           {
            "cells": {
             "fill": {
              "color": "#EBF0F8"
             },
             "line": {
              "color": "white"
             }
            },
            "header": {
             "fill": {
              "color": "#C8D4E3"
             },
             "line": {
              "color": "white"
             }
            },
            "type": "table"
           }
          ]
         },
         "layout": {
          "annotationdefaults": {
           "arrowcolor": "#2a3f5f",
           "arrowhead": 0,
           "arrowwidth": 1
          },
          "autotypenumbers": "strict",
          "coloraxis": {
           "colorbar": {
            "outlinewidth": 0,
            "ticks": ""
           }
          },
          "colorscale": {
           "diverging": [
            [
             0,
             "#8e0152"
            ],
            [
             0.1,
             "#c51b7d"
            ],
            [
             0.2,
             "#de77ae"
            ],
            [
             0.3,
             "#f1b6da"
            ],
            [
             0.4,
             "#fde0ef"
            ],
            [
             0.5,
             "#f7f7f7"
            ],
            [
             0.6,
             "#e6f5d0"
            ],
            [
             0.7,
             "#b8e186"
            ],
            [
             0.8,
             "#7fbc41"
            ],
            [
             0.9,
             "#4d9221"
            ],
            [
             1,
             "#276419"
            ]
           ],
           "sequential": [
            [
             0,
             "#0d0887"
            ],
            [
             0.1111111111111111,
             "#46039f"
            ],
            [
             0.2222222222222222,
             "#7201a8"
            ],
            [
             0.3333333333333333,
             "#9c179e"
            ],
            [
             0.4444444444444444,
             "#bd3786"
            ],
            [
             0.5555555555555556,
             "#d8576b"
            ],
            [
             0.6666666666666666,
             "#ed7953"
            ],
            [
             0.7777777777777778,
             "#fb9f3a"
            ],
            [
             0.8888888888888888,
             "#fdca26"
            ],
            [
             1,
             "#f0f921"
            ]
           ],
           "sequentialminus": [
            [
             0,
             "#0d0887"
            ],
            [
             0.1111111111111111,
             "#46039f"
            ],
            [
             0.2222222222222222,
             "#7201a8"
            ],
            [
             0.3333333333333333,
             "#9c179e"
            ],
            [
             0.4444444444444444,
             "#bd3786"
            ],
            [
             0.5555555555555556,
             "#d8576b"
            ],
            [
             0.6666666666666666,
             "#ed7953"
            ],
            [
             0.7777777777777778,
             "#fb9f3a"
            ],
            [
             0.8888888888888888,
             "#fdca26"
            ],
            [
             1,
             "#f0f921"
            ]
           ]
          },
          "colorway": [
           "#636efa",
           "#EF553B",
           "#00cc96",
           "#ab63fa",
           "#FFA15A",
           "#19d3f3",
           "#FF6692",
           "#B6E880",
           "#FF97FF",
           "#FECB52"
          ],
          "font": {
           "color": "#2a3f5f"
          },
          "geo": {
           "bgcolor": "white",
           "lakecolor": "white",
           "landcolor": "#E5ECF6",
           "showlakes": true,
           "showland": true,
           "subunitcolor": "white"
          },
          "hoverlabel": {
           "align": "left"
          },
          "hovermode": "closest",
          "mapbox": {
           "style": "light"
          },
          "paper_bgcolor": "white",
          "plot_bgcolor": "#E5ECF6",
          "polar": {
           "angularaxis": {
            "gridcolor": "white",
            "linecolor": "white",
            "ticks": ""
           },
           "bgcolor": "#E5ECF6",
           "radialaxis": {
            "gridcolor": "white",
            "linecolor": "white",
            "ticks": ""
           }
          },
          "scene": {
           "xaxis": {
            "backgroundcolor": "#E5ECF6",
            "gridcolor": "white",
            "gridwidth": 2,
            "linecolor": "white",
            "showbackground": true,
            "ticks": "",
            "zerolinecolor": "white"
           },
           "yaxis": {
            "backgroundcolor": "#E5ECF6",
            "gridcolor": "white",
            "gridwidth": 2,
            "linecolor": "white",
            "showbackground": true,
            "ticks": "",
            "zerolinecolor": "white"
           },
           "zaxis": {
            "backgroundcolor": "#E5ECF6",
            "gridcolor": "white",
            "gridwidth": 2,
            "linecolor": "white",
            "showbackground": true,
            "ticks": "",
            "zerolinecolor": "white"
           }
          },
          "shapedefaults": {
           "line": {
            "color": "#2a3f5f"
           }
          },
          "ternary": {
           "aaxis": {
            "gridcolor": "white",
            "linecolor": "white",
            "ticks": ""
           },
           "baxis": {
            "gridcolor": "white",
            "linecolor": "white",
            "ticks": ""
           },
           "bgcolor": "#E5ECF6",
           "caxis": {
            "gridcolor": "white",
            "linecolor": "white",
            "ticks": ""
           }
          },
          "title": {
           "x": 0.05
          },
          "xaxis": {
           "automargin": true,
           "gridcolor": "white",
           "linecolor": "white",
           "ticks": "",
           "title": {
            "standoff": 15
           },
           "zerolinecolor": "white",
           "zerolinewidth": 2
          },
          "yaxis": {
           "automargin": true,
           "gridcolor": "white",
           "linecolor": "white",
           "ticks": "",
           "title": {
            "standoff": 15
           },
           "zerolinecolor": "white",
           "zerolinewidth": 2
          }
         }
        },
        "title": {
         "text": "Number of Electric Vehicles by Make and State Over the Years"
        },
        "updatemenus": [
         {
          "buttons": [
           {
            "args": [
             null,
             {
              "frame": {
               "duration": 500,
               "redraw": true
              },
              "fromcurrent": true,
              "mode": "immediate",
              "transition": {
               "duration": 500,
               "easing": "linear"
              }
             }
            ],
            "label": "&#9654;",
            "method": "animate"
           },
           {
            "args": [
             [
              null
             ],
             {
              "frame": {
               "duration": 0,
               "redraw": true
              },
              "fromcurrent": true,
              "mode": "immediate",
              "transition": {
               "duration": 0,
               "easing": "linear"
              }
             }
            ],
            "label": "&#9724;",
            "method": "animate"
           }
          ],
          "direction": "left",
          "pad": {
           "r": 10,
           "t": 70
          },
          "showactive": false,
          "type": "buttons",
          "x": 0.1,
          "xanchor": "right",
          "y": 0,
          "yanchor": "top"
         }
        ],
        "xaxis": {
         "anchor": "y",
         "domain": [
          0,
          1
         ],
         "range": [
          0,
          580.96
         ],
         "title": {
          "text": "Number of Electric Vehicles"
         }
        },
        "yaxis": {
         "anchor": "x",
         "categoryorder": "total ascending",
         "domain": [
          0,
          1
         ],
         "title": {
          "text": "Car Make (State)"
         }
        }
       }
      },
      "text/html": [
       "<div>                            <div id=\"29a6f035-e7ec-4780-9e98-e4d3427fa119\" class=\"plotly-graph-div\" style=\"height:700px; width:100%;\"></div>            <script type=\"text/javascript\">                require([\"plotly\"], function(Plotly) {                    window.PLOTLYENV=window.PLOTLYENV || {};                                    if (document.getElementById(\"29a6f035-e7ec-4780-9e98-e4d3427fa119\")) {                    Plotly.newPlot(                        \"29a6f035-e7ec-4780-9e98-e4d3427fa119\",                        [{\"alignmentgroup\":\"True\",\"hovertemplate\":\"State=WA<br>Model Year=1997<br>EV Count=%{text}<br>Make=%{y}<extra></extra>\",\"ids\":[\"CHEVROLET\"],\"legendgroup\":\"WA\",\"marker\":{\"color\":\"#636efa\",\"pattern\":{\"shape\":\"\"}},\"name\":\"WA\",\"offsetgroup\":\"WA\",\"orientation\":\"h\",\"showlegend\":true,\"text\":[1.0],\"textposition\":\"auto\",\"x\":[1],\"xaxis\":\"x\",\"y\":[\"CHEVROLET\"],\"yaxis\":\"y\",\"type\":\"bar\"}],                        {\"template\":{\"data\":{\"histogram2dcontour\":[{\"type\":\"histogram2dcontour\",\"colorbar\":{\"outlinewidth\":0,\"ticks\":\"\"},\"colorscale\":[[0.0,\"#0d0887\"],[0.1111111111111111,\"#46039f\"],[0.2222222222222222,\"#7201a8\"],[0.3333333333333333,\"#9c179e\"],[0.4444444444444444,\"#bd3786\"],[0.5555555555555556,\"#d8576b\"],[0.6666666666666666,\"#ed7953\"],[0.7777777777777778,\"#fb9f3a\"],[0.8888888888888888,\"#fdca26\"],[1.0,\"#f0f921\"]]}],\"choropleth\":[{\"type\":\"choropleth\",\"colorbar\":{\"outlinewidth\":0,\"ticks\":\"\"}}],\"histogram2d\":[{\"type\":\"histogram2d\",\"colorbar\":{\"outlinewidth\":0,\"ticks\":\"\"},\"colorscale\":[[0.0,\"#0d0887\"],[0.1111111111111111,\"#46039f\"],[0.2222222222222222,\"#7201a8\"],[0.3333333333333333,\"#9c179e\"],[0.4444444444444444,\"#bd3786\"],[0.5555555555555556,\"#d8576b\"],[0.6666666666666666,\"#ed7953\"],[0.7777777777777778,\"#fb9f3a\"],[0.8888888888888888,\"#fdca26\"],[1.0,\"#f0f921\"]]}],\"heatmap\":[{\"type\":\"heatmap\",\"colorbar\":{\"outlinewidth\":0,\"ticks\":\"\"},\"colorscale\":[[0.0,\"#0d0887\"],[0.1111111111111111,\"#46039f\"],[0.2222222222222222,\"#7201a8\"],[0.3333333333333333,\"#9c179e\"],[0.4444444444444444,\"#bd3786\"],[0.5555555555555556,\"#d8576b\"],[0.6666666666666666,\"#ed7953\"],[0.7777777777777778,\"#fb9f3a\"],[0.8888888888888888,\"#fdca26\"],[1.0,\"#f0f921\"]]}],\"heatmapgl\":[{\"type\":\"heatmapgl\",\"colorbar\":{\"outlinewidth\":0,\"ticks\":\"\"},\"colorscale\":[[0.0,\"#0d0887\"],[0.1111111111111111,\"#46039f\"],[0.2222222222222222,\"#7201a8\"],[0.3333333333333333,\"#9c179e\"],[0.4444444444444444,\"#bd3786\"],[0.5555555555555556,\"#d8576b\"],[0.6666666666666666,\"#ed7953\"],[0.7777777777777778,\"#fb9f3a\"],[0.8888888888888888,\"#fdca26\"],[1.0,\"#f0f921\"]]}],\"contourcarpet\":[{\"type\":\"contourcarpet\",\"colorbar\":{\"outlinewidth\":0,\"ticks\":\"\"}}],\"contour\":[{\"type\":\"contour\",\"colorbar\":{\"outlinewidth\":0,\"ticks\":\"\"},\"colorscale\":[[0.0,\"#0d0887\"],[0.1111111111111111,\"#46039f\"],[0.2222222222222222,\"#7201a8\"],[0.3333333333333333,\"#9c179e\"],[0.4444444444444444,\"#bd3786\"],[0.5555555555555556,\"#d8576b\"],[0.6666666666666666,\"#ed7953\"],[0.7777777777777778,\"#fb9f3a\"],[0.8888888888888888,\"#fdca26\"],[1.0,\"#f0f921\"]]}],\"surface\":[{\"type\":\"surface\",\"colorbar\":{\"outlinewidth\":0,\"ticks\":\"\"},\"colorscale\":[[0.0,\"#0d0887\"],[0.1111111111111111,\"#46039f\"],[0.2222222222222222,\"#7201a8\"],[0.3333333333333333,\"#9c179e\"],[0.4444444444444444,\"#bd3786\"],[0.5555555555555556,\"#d8576b\"],[0.6666666666666666,\"#ed7953\"],[0.7777777777777778,\"#fb9f3a\"],[0.8888888888888888,\"#fdca26\"],[1.0,\"#f0f921\"]]}],\"mesh3d\":[{\"type\":\"mesh3d\",\"colorbar\":{\"outlinewidth\":0,\"ticks\":\"\"}}],\"scatter\":[{\"fillpattern\":{\"fillmode\":\"overlay\",\"size\":10,\"solidity\":0.2},\"type\":\"scatter\"}],\"parcoords\":[{\"type\":\"parcoords\",\"line\":{\"colorbar\":{\"outlinewidth\":0,\"ticks\":\"\"}}}],\"scatterpolargl\":[{\"type\":\"scatterpolargl\",\"marker\":{\"colorbar\":{\"outlinewidth\":0,\"ticks\":\"\"}}}],\"bar\":[{\"error_x\":{\"color\":\"#2a3f5f\"},\"error_y\":{\"color\":\"#2a3f5f\"},\"marker\":{\"line\":{\"color\":\"#E5ECF6\",\"width\":0.5},\"pattern\":{\"fillmode\":\"overlay\",\"size\":10,\"solidity\":0.2}},\"type\":\"bar\"}],\"scattergeo\":[{\"type\":\"scattergeo\",\"marker\":{\"colorbar\":{\"outlinewidth\":0,\"ticks\":\"\"}}}],\"scatterpolar\":[{\"type\":\"scatterpolar\",\"marker\":{\"colorbar\":{\"outlinewidth\":0,\"ticks\":\"\"}}}],\"histogram\":[{\"marker\":{\"pattern\":{\"fillmode\":\"overlay\",\"size\":10,\"solidity\":0.2}},\"type\":\"histogram\"}],\"scattergl\":[{\"type\":\"scattergl\",\"marker\":{\"colorbar\":{\"outlinewidth\":0,\"ticks\":\"\"}}}],\"scatter3d\":[{\"type\":\"scatter3d\",\"line\":{\"colorbar\":{\"outlinewidth\":0,\"ticks\":\"\"}},\"marker\":{\"colorbar\":{\"outlinewidth\":0,\"ticks\":\"\"}}}],\"scattermapbox\":[{\"type\":\"scattermapbox\",\"marker\":{\"colorbar\":{\"outlinewidth\":0,\"ticks\":\"\"}}}],\"scatterternary\":[{\"type\":\"scatterternary\",\"marker\":{\"colorbar\":{\"outlinewidth\":0,\"ticks\":\"\"}}}],\"scattercarpet\":[{\"type\":\"scattercarpet\",\"marker\":{\"colorbar\":{\"outlinewidth\":0,\"ticks\":\"\"}}}],\"carpet\":[{\"aaxis\":{\"endlinecolor\":\"#2a3f5f\",\"gridcolor\":\"white\",\"linecolor\":\"white\",\"minorgridcolor\":\"white\",\"startlinecolor\":\"#2a3f5f\"},\"baxis\":{\"endlinecolor\":\"#2a3f5f\",\"gridcolor\":\"white\",\"linecolor\":\"white\",\"minorgridcolor\":\"white\",\"startlinecolor\":\"#2a3f5f\"},\"type\":\"carpet\"}],\"table\":[{\"cells\":{\"fill\":{\"color\":\"#EBF0F8\"},\"line\":{\"color\":\"white\"}},\"header\":{\"fill\":{\"color\":\"#C8D4E3\"},\"line\":{\"color\":\"white\"}},\"type\":\"table\"}],\"barpolar\":[{\"marker\":{\"line\":{\"color\":\"#E5ECF6\",\"width\":0.5},\"pattern\":{\"fillmode\":\"overlay\",\"size\":10,\"solidity\":0.2}},\"type\":\"barpolar\"}],\"pie\":[{\"automargin\":true,\"type\":\"pie\"}]},\"layout\":{\"autotypenumbers\":\"strict\",\"colorway\":[\"#636efa\",\"#EF553B\",\"#00cc96\",\"#ab63fa\",\"#FFA15A\",\"#19d3f3\",\"#FF6692\",\"#B6E880\",\"#FF97FF\",\"#FECB52\"],\"font\":{\"color\":\"#2a3f5f\"},\"hovermode\":\"closest\",\"hoverlabel\":{\"align\":\"left\"},\"paper_bgcolor\":\"white\",\"plot_bgcolor\":\"#E5ECF6\",\"polar\":{\"bgcolor\":\"#E5ECF6\",\"angularaxis\":{\"gridcolor\":\"white\",\"linecolor\":\"white\",\"ticks\":\"\"},\"radialaxis\":{\"gridcolor\":\"white\",\"linecolor\":\"white\",\"ticks\":\"\"}},\"ternary\":{\"bgcolor\":\"#E5ECF6\",\"aaxis\":{\"gridcolor\":\"white\",\"linecolor\":\"white\",\"ticks\":\"\"},\"baxis\":{\"gridcolor\":\"white\",\"linecolor\":\"white\",\"ticks\":\"\"},\"caxis\":{\"gridcolor\":\"white\",\"linecolor\":\"white\",\"ticks\":\"\"}},\"coloraxis\":{\"colorbar\":{\"outlinewidth\":0,\"ticks\":\"\"}},\"colorscale\":{\"sequential\":[[0.0,\"#0d0887\"],[0.1111111111111111,\"#46039f\"],[0.2222222222222222,\"#7201a8\"],[0.3333333333333333,\"#9c179e\"],[0.4444444444444444,\"#bd3786\"],[0.5555555555555556,\"#d8576b\"],[0.6666666666666666,\"#ed7953\"],[0.7777777777777778,\"#fb9f3a\"],[0.8888888888888888,\"#fdca26\"],[1.0,\"#f0f921\"]],\"sequentialminus\":[[0.0,\"#0d0887\"],[0.1111111111111111,\"#46039f\"],[0.2222222222222222,\"#7201a8\"],[0.3333333333333333,\"#9c179e\"],[0.4444444444444444,\"#bd3786\"],[0.5555555555555556,\"#d8576b\"],[0.6666666666666666,\"#ed7953\"],[0.7777777777777778,\"#fb9f3a\"],[0.8888888888888888,\"#fdca26\"],[1.0,\"#f0f921\"]],\"diverging\":[[0,\"#8e0152\"],[0.1,\"#c51b7d\"],[0.2,\"#de77ae\"],[0.3,\"#f1b6da\"],[0.4,\"#fde0ef\"],[0.5,\"#f7f7f7\"],[0.6,\"#e6f5d0\"],[0.7,\"#b8e186\"],[0.8,\"#7fbc41\"],[0.9,\"#4d9221\"],[1,\"#276419\"]]},\"xaxis\":{\"gridcolor\":\"white\",\"linecolor\":\"white\",\"ticks\":\"\",\"title\":{\"standoff\":15},\"zerolinecolor\":\"white\",\"automargin\":true,\"zerolinewidth\":2},\"yaxis\":{\"gridcolor\":\"white\",\"linecolor\":\"white\",\"ticks\":\"\",\"title\":{\"standoff\":15},\"zerolinecolor\":\"white\",\"automargin\":true,\"zerolinewidth\":2},\"scene\":{\"xaxis\":{\"backgroundcolor\":\"#E5ECF6\",\"gridcolor\":\"white\",\"linecolor\":\"white\",\"showbackground\":true,\"ticks\":\"\",\"zerolinecolor\":\"white\",\"gridwidth\":2},\"yaxis\":{\"backgroundcolor\":\"#E5ECF6\",\"gridcolor\":\"white\",\"linecolor\":\"white\",\"showbackground\":true,\"ticks\":\"\",\"zerolinecolor\":\"white\",\"gridwidth\":2},\"zaxis\":{\"backgroundcolor\":\"#E5ECF6\",\"gridcolor\":\"white\",\"linecolor\":\"white\",\"showbackground\":true,\"ticks\":\"\",\"zerolinecolor\":\"white\",\"gridwidth\":2}},\"shapedefaults\":{\"line\":{\"color\":\"#2a3f5f\"}},\"annotationdefaults\":{\"arrowcolor\":\"#2a3f5f\",\"arrowhead\":0,\"arrowwidth\":1},\"geo\":{\"bgcolor\":\"white\",\"landcolor\":\"#E5ECF6\",\"subunitcolor\":\"white\",\"showland\":true,\"showlakes\":true,\"lakecolor\":\"white\"},\"title\":{\"x\":0.05},\"mapbox\":{\"style\":\"light\"}}},\"xaxis\":{\"anchor\":\"y\",\"domain\":[0.0,1.0],\"title\":{\"text\":\"Number of Electric Vehicles\"},\"range\":[0,580.96]},\"yaxis\":{\"anchor\":\"x\",\"domain\":[0.0,1.0],\"title\":{\"text\":\"Car Make (State)\"},\"categoryorder\":\"total ascending\"},\"legend\":{\"title\":{\"text\":\"State\"},\"tracegroupgap\":0},\"title\":{\"text\":\"Number of Electric Vehicles by Make and State Over the Years\"},\"barmode\":\"relative\",\"updatemenus\":[{\"buttons\":[{\"args\":[null,{\"frame\":{\"duration\":500,\"redraw\":true},\"mode\":\"immediate\",\"fromcurrent\":true,\"transition\":{\"duration\":500,\"easing\":\"linear\"}}],\"label\":\"&#9654;\",\"method\":\"animate\"},{\"args\":[[null],{\"frame\":{\"duration\":0,\"redraw\":true},\"mode\":\"immediate\",\"fromcurrent\":true,\"transition\":{\"duration\":0,\"easing\":\"linear\"}}],\"label\":\"&#9724;\",\"method\":\"animate\"}],\"direction\":\"left\",\"pad\":{\"r\":10,\"t\":70},\"showactive\":false,\"type\":\"buttons\",\"x\":0.1,\"xanchor\":\"right\",\"y\":0,\"yanchor\":\"top\"}],\"sliders\":[{\"active\":0,\"currentvalue\":{\"prefix\":\"Model Year=\"},\"len\":0.9,\"pad\":{\"b\":10,\"t\":60},\"steps\":[{\"args\":[[\"1997\"],{\"frame\":{\"duration\":0,\"redraw\":true},\"mode\":\"immediate\",\"fromcurrent\":true,\"transition\":{\"duration\":0,\"easing\":\"linear\"}}],\"label\":\"1997\",\"method\":\"animate\"},{\"args\":[[\"1998\"],{\"frame\":{\"duration\":0,\"redraw\":true},\"mode\":\"immediate\",\"fromcurrent\":true,\"transition\":{\"duration\":0,\"easing\":\"linear\"}}],\"label\":\"1998\",\"method\":\"animate\"},{\"args\":[[\"1999\"],{\"frame\":{\"duration\":0,\"redraw\":true},\"mode\":\"immediate\",\"fromcurrent\":true,\"transition\":{\"duration\":0,\"easing\":\"linear\"}}],\"label\":\"1999\",\"method\":\"animate\"},{\"args\":[[\"2000\"],{\"frame\":{\"duration\":0,\"redraw\":true},\"mode\":\"immediate\",\"fromcurrent\":true,\"transition\":{\"duration\":0,\"easing\":\"linear\"}}],\"label\":\"2000\",\"method\":\"animate\"},{\"args\":[[\"2002\"],{\"frame\":{\"duration\":0,\"redraw\":true},\"mode\":\"immediate\",\"fromcurrent\":true,\"transition\":{\"duration\":0,\"easing\":\"linear\"}}],\"label\":\"2002\",\"method\":\"animate\"},{\"args\":[[\"2008\"],{\"frame\":{\"duration\":0,\"redraw\":true},\"mode\":\"immediate\",\"fromcurrent\":true,\"transition\":{\"duration\":0,\"easing\":\"linear\"}}],\"label\":\"2008\",\"method\":\"animate\"},{\"args\":[[\"2010\"],{\"frame\":{\"duration\":0,\"redraw\":true},\"mode\":\"immediate\",\"fromcurrent\":true,\"transition\":{\"duration\":0,\"easing\":\"linear\"}}],\"label\":\"2010\",\"method\":\"animate\"},{\"args\":[[\"2011\"],{\"frame\":{\"duration\":0,\"redraw\":true},\"mode\":\"immediate\",\"fromcurrent\":true,\"transition\":{\"duration\":0,\"easing\":\"linear\"}}],\"label\":\"2011\",\"method\":\"animate\"},{\"args\":[[\"2012\"],{\"frame\":{\"duration\":0,\"redraw\":true},\"mode\":\"immediate\",\"fromcurrent\":true,\"transition\":{\"duration\":0,\"easing\":\"linear\"}}],\"label\":\"2012\",\"method\":\"animate\"},{\"args\":[[\"2013\"],{\"frame\":{\"duration\":0,\"redraw\":true},\"mode\":\"immediate\",\"fromcurrent\":true,\"transition\":{\"duration\":0,\"easing\":\"linear\"}}],\"label\":\"2013\",\"method\":\"animate\"},{\"args\":[[\"2014\"],{\"frame\":{\"duration\":0,\"redraw\":true},\"mode\":\"immediate\",\"fromcurrent\":true,\"transition\":{\"duration\":0,\"easing\":\"linear\"}}],\"label\":\"2014\",\"method\":\"animate\"},{\"args\":[[\"2015\"],{\"frame\":{\"duration\":0,\"redraw\":true},\"mode\":\"immediate\",\"fromcurrent\":true,\"transition\":{\"duration\":0,\"easing\":\"linear\"}}],\"label\":\"2015\",\"method\":\"animate\"},{\"args\":[[\"2016\"],{\"frame\":{\"duration\":0,\"redraw\":true},\"mode\":\"immediate\",\"fromcurrent\":true,\"transition\":{\"duration\":0,\"easing\":\"linear\"}}],\"label\":\"2016\",\"method\":\"animate\"},{\"args\":[[\"2017\"],{\"frame\":{\"duration\":0,\"redraw\":true},\"mode\":\"immediate\",\"fromcurrent\":true,\"transition\":{\"duration\":0,\"easing\":\"linear\"}}],\"label\":\"2017\",\"method\":\"animate\"},{\"args\":[[\"2018\"],{\"frame\":{\"duration\":0,\"redraw\":true},\"mode\":\"immediate\",\"fromcurrent\":true,\"transition\":{\"duration\":0,\"easing\":\"linear\"}}],\"label\":\"2018\",\"method\":\"animate\"},{\"args\":[[\"2019\"],{\"frame\":{\"duration\":0,\"redraw\":true},\"mode\":\"immediate\",\"fromcurrent\":true,\"transition\":{\"duration\":0,\"easing\":\"linear\"}}],\"label\":\"2019\",\"method\":\"animate\"},{\"args\":[[\"2020\"],{\"frame\":{\"duration\":0,\"redraw\":true},\"mode\":\"immediate\",\"fromcurrent\":true,\"transition\":{\"duration\":0,\"easing\":\"linear\"}}],\"label\":\"2020\",\"method\":\"animate\"},{\"args\":[[\"2021\"],{\"frame\":{\"duration\":0,\"redraw\":true},\"mode\":\"immediate\",\"fromcurrent\":true,\"transition\":{\"duration\":0,\"easing\":\"linear\"}}],\"label\":\"2021\",\"method\":\"animate\"},{\"args\":[[\"2022\"],{\"frame\":{\"duration\":0,\"redraw\":true},\"mode\":\"immediate\",\"fromcurrent\":true,\"transition\":{\"duration\":0,\"easing\":\"linear\"}}],\"label\":\"2022\",\"method\":\"animate\"},{\"args\":[[\"2023\"],{\"frame\":{\"duration\":0,\"redraw\":true},\"mode\":\"immediate\",\"fromcurrent\":true,\"transition\":{\"duration\":0,\"easing\":\"linear\"}}],\"label\":\"2023\",\"method\":\"animate\"}],\"x\":0.1,\"xanchor\":\"left\",\"y\":0,\"yanchor\":\"top\"}],\"showlegend\":true,\"height\":700},                        {\"responsive\": true}                    ).then(function(){\n",
       "                            Plotly.addFrames('29a6f035-e7ec-4780-9e98-e4d3427fa119', [{\"data\":[{\"alignmentgroup\":\"True\",\"hovertemplate\":\"State=WA<br>Model Year=1997<br>EV Count=%{text}<br>Make=%{y}<extra></extra>\",\"ids\":[\"CHEVROLET\"],\"legendgroup\":\"WA\",\"marker\":{\"color\":\"#636efa\",\"pattern\":{\"shape\":\"\"}},\"name\":\"WA\",\"offsetgroup\":\"WA\",\"orientation\":\"h\",\"showlegend\":true,\"text\":[1.0],\"textposition\":\"auto\",\"x\":[1],\"xaxis\":\"x\",\"y\":[\"CHEVROLET\"],\"yaxis\":\"y\",\"type\":\"bar\"}],\"name\":\"1997\"},{\"data\":[{\"alignmentgroup\":\"True\",\"hovertemplate\":\"State=WA<br>Model Year=1998<br>EV Count=%{text}<br>Make=%{y}<extra></extra>\",\"ids\":[\"FORD\"],\"legendgroup\":\"WA\",\"marker\":{\"color\":\"#636efa\",\"pattern\":{\"shape\":\"\"}},\"name\":\"WA\",\"offsetgroup\":\"WA\",\"orientation\":\"h\",\"showlegend\":true,\"text\":[1.0],\"textposition\":\"auto\",\"x\":[1],\"xaxis\":\"x\",\"y\":[\"FORD\"],\"yaxis\":\"y\",\"type\":\"bar\"}],\"name\":\"1998\"},{\"data\":[{\"alignmentgroup\":\"True\",\"hovertemplate\":\"State=WA<br>Model Year=1999<br>EV Count=%{text}<br>Make=%{y}<extra></extra>\",\"ids\":[\"FORD\"],\"legendgroup\":\"WA\",\"marker\":{\"color\":\"#636efa\",\"pattern\":{\"shape\":\"\"}},\"name\":\"WA\",\"offsetgroup\":\"WA\",\"orientation\":\"h\",\"showlegend\":true,\"text\":[3.0],\"textposition\":\"auto\",\"x\":[3],\"xaxis\":\"x\",\"y\":[\"FORD\"],\"yaxis\":\"y\",\"type\":\"bar\"}],\"name\":\"1999\"},{\"data\":[{\"alignmentgroup\":\"True\",\"hovertemplate\":\"State=WA<br>Model Year=2000<br>EV Count=%{text}<br>Make=%{y}<extra></extra>\",\"ids\":[\"FORD\"],\"legendgroup\":\"WA\",\"marker\":{\"color\":\"#636efa\",\"pattern\":{\"shape\":\"\"}},\"name\":\"WA\",\"offsetgroup\":\"WA\",\"orientation\":\"h\",\"showlegend\":true,\"text\":[10.0],\"textposition\":\"auto\",\"x\":[10],\"xaxis\":\"x\",\"y\":[\"FORD\"],\"yaxis\":\"y\",\"type\":\"bar\"}],\"name\":\"2000\"},{\"data\":[{\"alignmentgroup\":\"True\",\"hovertemplate\":\"State=WA<br>Model Year=2002<br>EV Count=%{text}<br>Make=%{y}<extra></extra>\",\"ids\":[\"TOYOTA\"],\"legendgroup\":\"WA\",\"marker\":{\"color\":\"#636efa\",\"pattern\":{\"shape\":\"\"}},\"name\":\"WA\",\"offsetgroup\":\"WA\",\"orientation\":\"h\",\"showlegend\":true,\"text\":[2.0],\"textposition\":\"auto\",\"x\":[2],\"xaxis\":\"x\",\"y\":[\"TOYOTA\"],\"yaxis\":\"y\",\"type\":\"bar\"}],\"name\":\"2002\"},{\"data\":[{\"alignmentgroup\":\"True\",\"hovertemplate\":\"State=WA<br>Model Year=2008<br>EV Count=%{text}<br>Make=%{y}<extra></extra>\",\"ids\":[\"TESLA\"],\"legendgroup\":\"WA\",\"marker\":{\"color\":\"#636efa\",\"pattern\":{\"shape\":\"\"}},\"name\":\"WA\",\"offsetgroup\":\"WA\",\"orientation\":\"h\",\"showlegend\":true,\"text\":[23.0],\"textposition\":\"auto\",\"x\":[23],\"xaxis\":\"x\",\"y\":[\"TESLA\"],\"yaxis\":\"y\",\"type\":\"bar\"}],\"name\":\"2008\"},{\"data\":[{\"alignmentgroup\":\"True\",\"hovertemplate\":\"State=WA<br>Model Year=2010<br>EV Count=%{text}<br>Make=%{y}<extra></extra>\",\"ids\":[\"TESLA\"],\"legendgroup\":\"WA\",\"marker\":{\"color\":\"#636efa\",\"pattern\":{\"shape\":\"\"}},\"name\":\"WA\",\"offsetgroup\":\"WA\",\"orientation\":\"h\",\"showlegend\":true,\"text\":[24.0],\"textposition\":\"auto\",\"x\":[24],\"xaxis\":\"x\",\"y\":[\"TESLA\"],\"yaxis\":\"y\",\"type\":\"bar\"}],\"name\":\"2010\"},{\"data\":[{\"alignmentgroup\":\"True\",\"hovertemplate\":\"State=WA<br>Model Year=2011<br>EV Count=%{text}<br>Make=%{y}<extra></extra>\",\"ids\":[\"AZURE DYNAMICS\",\"CHEVROLET\",\"NISSAN\",\"TESLA\",\"TH!NK\"],\"legendgroup\":\"WA\",\"marker\":{\"color\":\"#636efa\",\"pattern\":{\"shape\":\"\"}},\"name\":\"WA\",\"offsetgroup\":\"WA\",\"orientation\":\"h\",\"showlegend\":true,\"text\":[4.0,71.0,754.0,7.0,3.0],\"textposition\":\"auto\",\"x\":[4,71,754,7,3],\"xaxis\":\"x\",\"y\":[\"AZURE DYNAMICS\",\"CHEVROLET\",\"NISSAN\",\"TESLA\",\"TH!NK\"],\"yaxis\":\"y\",\"type\":\"bar\"},{\"alignmentgroup\":\"True\",\"hovertemplate\":\"State=VA<br>Model Year=2011<br>EV Count=%{text}<br>Make=%{y}<extra></extra>\",\"ids\":[\"NISSAN\"],\"legendgroup\":\"VA\",\"marker\":{\"color\":\"#EF553B\",\"pattern\":{\"shape\":\"\"}},\"name\":\"VA\",\"offsetgroup\":\"VA\",\"orientation\":\"h\",\"showlegend\":true,\"text\":[1.0],\"textposition\":\"auto\",\"x\":[1],\"xaxis\":\"x\",\"y\":[\"NISSAN\"],\"yaxis\":\"y\",\"type\":\"bar\"}],\"name\":\"2011\"},{\"data\":[{\"alignmentgroup\":\"True\",\"hovertemplate\":\"State=WA<br>Model Year=2012<br>EV Count=%{text}<br>Make=%{y}<extra></extra>\",\"ids\":[\"AZURE DYNAMICS\",\"CHEVROLET\",\"FISKER\",\"FORD\",\"MITSUBISHI\",\"NISSAN\",\"TESLA\",\"TOYOTA\"],\"legendgroup\":\"WA\",\"marker\":{\"color\":\"#636efa\",\"pattern\":{\"shape\":\"\"}},\"name\":\"WA\",\"offsetgroup\":\"WA\",\"orientation\":\"h\",\"showlegend\":true,\"text\":[3.0,495.0,19.0,15.0,42.0,610.0,134.0,384.0],\"textposition\":\"auto\",\"x\":[3,495,19,15,42,610,134,384],\"xaxis\":\"x\",\"y\":[\"AZURE DYNAMICS\",\"CHEVROLET\",\"FISKER\",\"FORD\",\"MITSUBISHI\",\"NISSAN\",\"TESLA\",\"TOYOTA\"],\"yaxis\":\"y\",\"type\":\"bar\"},{\"alignmentgroup\":\"True\",\"hovertemplate\":\"State=CA<br>Model Year=2012<br>EV Count=%{text}<br>Make=%{y}<extra></extra>\",\"ids\":[\"CHEVROLET\",\"TOYOTA\"],\"legendgroup\":\"CA\",\"marker\":{\"color\":\"#00cc96\",\"pattern\":{\"shape\":\"\"}},\"name\":\"CA\",\"offsetgroup\":\"CA\",\"orientation\":\"h\",\"showlegend\":true,\"text\":[1.0,1.0],\"textposition\":\"auto\",\"x\":[1,1],\"xaxis\":\"x\",\"y\":[\"CHEVROLET\",\"TOYOTA\"],\"yaxis\":\"y\",\"type\":\"bar\"},{\"alignmentgroup\":\"True\",\"hovertemplate\":\"State=MD<br>Model Year=2012<br>EV Count=%{text}<br>Make=%{y}<extra></extra>\",\"ids\":[\"FISKER\"],\"legendgroup\":\"MD\",\"marker\":{\"color\":\"#ab63fa\",\"pattern\":{\"shape\":\"\"}},\"name\":\"MD\",\"offsetgroup\":\"MD\",\"orientation\":\"h\",\"showlegend\":true,\"text\":[1.0],\"textposition\":\"auto\",\"x\":[1],\"xaxis\":\"x\",\"y\":[\"FISKER\"],\"yaxis\":\"y\",\"type\":\"bar\"}],\"name\":\"2012\"},{\"data\":[{\"alignmentgroup\":\"True\",\"hovertemplate\":\"State=WA<br>Model Year=2013<br>EV Count=%{text}<br>Make=%{y}<extra></extra>\",\"ids\":[\"CHEVROLET\",\"FIAT\",\"FORD\",\"NISSAN\",\"SMART\",\"TESLA\",\"TOYOTA\"],\"legendgroup\":\"WA\",\"marker\":{\"color\":\"#636efa\",\"pattern\":{\"shape\":\"\"}},\"name\":\"WA\",\"offsetgroup\":\"WA\",\"orientation\":\"h\",\"showlegend\":true,\"text\":[815.0,106.0,661.0,1964.0,29.0,813.0,294.0],\"textposition\":\"auto\",\"x\":[815,106,661,1964,29,813,294],\"xaxis\":\"x\",\"y\":[\"CHEVROLET\",\"FIAT\",\"FORD\",\"NISSAN\",\"SMART\",\"TESLA\",\"TOYOTA\"],\"yaxis\":\"y\",\"type\":\"bar\"},{\"alignmentgroup\":\"True\",\"hovertemplate\":\"State=VA<br>Model Year=2013<br>EV Count=%{text}<br>Make=%{y}<extra></extra>\",\"ids\":[\"CHEVROLET\",\"NISSAN\"],\"legendgroup\":\"VA\",\"marker\":{\"color\":\"#EF553B\",\"pattern\":{\"shape\":\"\"}},\"name\":\"VA\",\"offsetgroup\":\"VA\",\"orientation\":\"h\",\"showlegend\":true,\"text\":[1.0,1.0],\"textposition\":\"auto\",\"x\":[1,1],\"xaxis\":\"x\",\"y\":[\"CHEVROLET\",\"NISSAN\"],\"yaxis\":\"y\",\"type\":\"bar\"},{\"alignmentgroup\":\"True\",\"hovertemplate\":\"State=CA<br>Model Year=2013<br>EV Count=%{text}<br>Make=%{y}<extra></extra>\",\"ids\":[\"CHEVROLET\",\"TESLA\",\"TOYOTA\"],\"legendgroup\":\"CA\",\"marker\":{\"color\":\"#00cc96\",\"pattern\":{\"shape\":\"\"}},\"name\":\"CA\",\"offsetgroup\":\"CA\",\"orientation\":\"h\",\"showlegend\":true,\"text\":[1.0,1.0,1.0],\"textposition\":\"auto\",\"x\":[1,1,1],\"xaxis\":\"x\",\"y\":[\"CHEVROLET\",\"TESLA\",\"TOYOTA\"],\"yaxis\":\"y\",\"type\":\"bar\"},{\"alignmentgroup\":\"True\",\"hovertemplate\":\"State=MD<br>Model Year=2013<br>EV Count=%{text}<br>Make=%{y}<extra></extra>\",\"ids\":[\"TOYOTA\"],\"legendgroup\":\"MD\",\"marker\":{\"color\":\"#ab63fa\",\"pattern\":{\"shape\":\"\"}},\"name\":\"MD\",\"offsetgroup\":\"MD\",\"orientation\":\"h\",\"showlegend\":true,\"text\":[1.0],\"textposition\":\"auto\",\"x\":[1],\"xaxis\":\"x\",\"y\":[\"TOYOTA\"],\"yaxis\":\"y\",\"type\":\"bar\"},{\"alignmentgroup\":\"True\",\"hovertemplate\":\"State=NV<br>Model Year=2013<br>EV Count=%{text}<br>Make=%{y}<extra></extra>\",\"ids\":[\"CHEVROLET\"],\"legendgroup\":\"NV\",\"marker\":{\"color\":\"#FFA15A\",\"pattern\":{\"shape\":\"\"}},\"name\":\"NV\",\"offsetgroup\":\"NV\",\"orientation\":\"h\",\"showlegend\":true,\"text\":[1.0],\"textposition\":\"auto\",\"x\":[1],\"xaxis\":\"x\",\"y\":[\"CHEVROLET\"],\"yaxis\":\"y\",\"type\":\"bar\"},{\"alignmentgroup\":\"True\",\"hovertemplate\":\"State=GA<br>Model Year=2013<br>EV Count=%{text}<br>Make=%{y}<extra></extra>\",\"ids\":[\"FORD\"],\"legendgroup\":\"GA\",\"marker\":{\"color\":\"#19d3f3\",\"pattern\":{\"shape\":\"\"}},\"name\":\"GA\",\"offsetgroup\":\"GA\",\"orientation\":\"h\",\"showlegend\":true,\"text\":[1.0],\"textposition\":\"auto\",\"x\":[1],\"xaxis\":\"x\",\"y\":[\"FORD\"],\"yaxis\":\"y\",\"type\":\"bar\"},{\"alignmentgroup\":\"True\",\"hovertemplate\":\"State=AZ<br>Model Year=2013<br>EV Count=%{text}<br>Make=%{y}<extra></extra>\",\"ids\":[\"NISSAN\"],\"legendgroup\":\"AZ\",\"marker\":{\"color\":\"#FF6692\",\"pattern\":{\"shape\":\"\"}},\"name\":\"AZ\",\"offsetgroup\":\"AZ\",\"orientation\":\"h\",\"showlegend\":true,\"text\":[1.0],\"textposition\":\"auto\",\"x\":[1],\"xaxis\":\"x\",\"y\":[\"NISSAN\"],\"yaxis\":\"y\",\"type\":\"bar\"}],\"name\":\"2013\"},{\"data\":[{\"alignmentgroup\":\"True\",\"hovertemplate\":\"State=WA<br>Model Year=2014<br>EV Count=%{text}<br>Make=%{y}<extra></extra>\",\"ids\":[\"BMW\",\"CADILLAC\",\"CHEVROLET\",\"FIAT\",\"FORD\",\"HONDA\",\"MERCEDES-BENZ\",\"MITSUBISHI\",\"NISSAN\",\"PORSCHE\",\"SMART\",\"TESLA\",\"TOYOTA\"],\"legendgroup\":\"WA\",\"marker\":{\"color\":\"#636efa\",\"pattern\":{\"shape\":\"\"}},\"name\":\"WA\",\"offsetgroup\":\"WA\",\"orientation\":\"h\",\"showlegend\":true,\"text\":[457.0,58.0,720.0,97.0,622.0,9.0,31.0,10.0,692.0,8.0,71.0,683.0,215.0],\"textposition\":\"auto\",\"x\":[457,58,720,97,622,9,31,10,692,8,71,683,215],\"xaxis\":\"x\",\"y\":[\"BMW\",\"CADILLAC\",\"CHEVROLET\",\"FIAT\",\"FORD\",\"HONDA\",\"MERCEDES-BENZ\",\"MITSUBISHI\",\"NISSAN\",\"PORSCHE\",\"SMART\",\"TESLA\",\"TOYOTA\"],\"yaxis\":\"y\",\"type\":\"bar\"},{\"alignmentgroup\":\"True\",\"hovertemplate\":\"State=VA<br>Model Year=2014<br>EV Count=%{text}<br>Make=%{y}<extra></extra>\",\"ids\":[\"CHEVROLET\",\"FORD\"],\"legendgroup\":\"VA\",\"marker\":{\"color\":\"#EF553B\",\"pattern\":{\"shape\":\"\"}},\"name\":\"VA\",\"offsetgroup\":\"VA\",\"orientation\":\"h\",\"showlegend\":true,\"text\":[1.0,2.0],\"textposition\":\"auto\",\"x\":[1,2],\"xaxis\":\"x\",\"y\":[\"CHEVROLET\",\"FORD\"],\"yaxis\":\"y\",\"type\":\"bar\"},{\"alignmentgroup\":\"True\",\"hovertemplate\":\"State=CA<br>Model Year=2014<br>EV Count=%{text}<br>Make=%{y}<extra></extra>\",\"ids\":[\"FORD\"],\"legendgroup\":\"CA\",\"marker\":{\"color\":\"#00cc96\",\"pattern\":{\"shape\":\"\"}},\"name\":\"CA\",\"offsetgroup\":\"CA\",\"orientation\":\"h\",\"showlegend\":true,\"text\":[1.0],\"textposition\":\"auto\",\"x\":[1],\"xaxis\":\"x\",\"y\":[\"FORD\"],\"yaxis\":\"y\",\"type\":\"bar\"},{\"alignmentgroup\":\"True\",\"hovertemplate\":\"State=MD<br>Model Year=2014<br>EV Count=%{text}<br>Make=%{y}<extra></extra>\",\"ids\":[\"NISSAN\"],\"legendgroup\":\"MD\",\"marker\":{\"color\":\"#ab63fa\",\"pattern\":{\"shape\":\"\"}},\"name\":\"MD\",\"offsetgroup\":\"MD\",\"orientation\":\"h\",\"showlegend\":true,\"text\":[1.0],\"textposition\":\"auto\",\"x\":[1],\"xaxis\":\"x\",\"y\":[\"NISSAN\"],\"yaxis\":\"y\",\"type\":\"bar\"},{\"alignmentgroup\":\"True\",\"hovertemplate\":\"State=NV<br>Model Year=2014<br>EV Count=%{text}<br>Make=%{y}<extra></extra>\",\"ids\":[\"CHEVROLET\",\"FORD\"],\"legendgroup\":\"NV\",\"marker\":{\"color\":\"#FFA15A\",\"pattern\":{\"shape\":\"\"}},\"name\":\"NV\",\"offsetgroup\":\"NV\",\"orientation\":\"h\",\"showlegend\":true,\"text\":[1.0,1.0],\"textposition\":\"auto\",\"x\":[1,1],\"xaxis\":\"x\",\"y\":[\"CHEVROLET\",\"FORD\"],\"yaxis\":\"y\",\"type\":\"bar\"},{\"alignmentgroup\":\"True\",\"hovertemplate\":\"State=CO<br>Model Year=2014<br>EV Count=%{text}<br>Make=%{y}<extra></extra>\",\"ids\":[\"CHEVROLET\"],\"legendgroup\":\"CO\",\"marker\":{\"color\":\"#B6E880\",\"pattern\":{\"shape\":\"\"}},\"name\":\"CO\",\"offsetgroup\":\"CO\",\"orientation\":\"h\",\"showlegend\":true,\"text\":[1.0],\"textposition\":\"auto\",\"x\":[1],\"xaxis\":\"x\",\"y\":[\"CHEVROLET\"],\"yaxis\":\"y\",\"type\":\"bar\"},{\"alignmentgroup\":\"True\",\"hovertemplate\":\"State=CT<br>Model Year=2014<br>EV Count=%{text}<br>Make=%{y}<extra></extra>\",\"ids\":[\"CHEVROLET\",\"FORD\"],\"legendgroup\":\"CT\",\"marker\":{\"color\":\"#FF97FF\",\"pattern\":{\"shape\":\"\"}},\"name\":\"CT\",\"offsetgroup\":\"CT\",\"orientation\":\"h\",\"showlegend\":true,\"text\":[1.0,1.0],\"textposition\":\"auto\",\"x\":[1,1],\"xaxis\":\"x\",\"y\":[\"CHEVROLET\",\"FORD\"],\"yaxis\":\"y\",\"type\":\"bar\"},{\"alignmentgroup\":\"True\",\"hovertemplate\":\"State=TX<br>Model Year=2014<br>EV Count=%{text}<br>Make=%{y}<extra></extra>\",\"ids\":[\"FORD\"],\"legendgroup\":\"TX\",\"marker\":{\"color\":\"#FECB52\",\"pattern\":{\"shape\":\"\"}},\"name\":\"TX\",\"offsetgroup\":\"TX\",\"orientation\":\"h\",\"showlegend\":true,\"text\":[1.0],\"textposition\":\"auto\",\"x\":[1],\"xaxis\":\"x\",\"y\":[\"FORD\"],\"yaxis\":\"y\",\"type\":\"bar\"},{\"alignmentgroup\":\"True\",\"hovertemplate\":\"State=RI<br>Model Year=2014<br>EV Count=%{text}<br>Make=%{y}<extra></extra>\",\"ids\":[\"NISSAN\"],\"legendgroup\":\"RI\",\"marker\":{\"color\":\"#636efa\",\"pattern\":{\"shape\":\"\"}},\"name\":\"RI\",\"offsetgroup\":\"RI\",\"orientation\":\"h\",\"showlegend\":true,\"text\":[1.0],\"textposition\":\"auto\",\"x\":[1],\"xaxis\":\"x\",\"y\":[\"NISSAN\"],\"yaxis\":\"y\",\"type\":\"bar\"}],\"name\":\"2014\"},{\"data\":[{\"alignmentgroup\":\"True\",\"hovertemplate\":\"State=WA<br>Model Year=2015<br>EV Count=%{text}<br>Make=%{y}<extra></extra>\",\"ids\":[\"BMW\",\"CHEVROLET\",\"FIAT\",\"FORD\",\"KIA\",\"MERCEDES-BENZ\",\"NISSAN\",\"PORSCHE\",\"SMART\",\"TESLA\",\"TOYOTA\",\"VOLKSWAGEN\"],\"legendgroup\":\"WA\",\"marker\":{\"color\":\"#636efa\",\"pattern\":{\"shape\":\"\"}},\"name\":\"WA\",\"offsetgroup\":\"WA\",\"orientation\":\"h\",\"showlegend\":true,\"text\":[402.0,465.0,242.0,550.0,22.0,24.0,1837.0,33.0,52.0,1086.0,87.0,124.0],\"textposition\":\"auto\",\"x\":[402,465,242,550,22,24,1837,33,52,1086,87,124],\"xaxis\":\"x\",\"y\":[\"BMW\",\"CHEVROLET\",\"FIAT\",\"FORD\",\"KIA\",\"MERCEDES-BENZ\",\"NISSAN\",\"PORSCHE\",\"SMART\",\"TESLA\",\"TOYOTA\",\"VOLKSWAGEN\"],\"yaxis\":\"y\",\"type\":\"bar\"},{\"alignmentgroup\":\"True\",\"hovertemplate\":\"State=VA<br>Model Year=2015<br>EV Count=%{text}<br>Make=%{y}<extra></extra>\",\"ids\":[\"TESLA\"],\"legendgroup\":\"VA\",\"marker\":{\"color\":\"#EF553B\",\"pattern\":{\"shape\":\"\"}},\"name\":\"VA\",\"offsetgroup\":\"VA\",\"orientation\":\"h\",\"showlegend\":true,\"text\":[1.0],\"textposition\":\"auto\",\"x\":[1],\"xaxis\":\"x\",\"y\":[\"TESLA\"],\"yaxis\":\"y\",\"type\":\"bar\"},{\"alignmentgroup\":\"True\",\"hovertemplate\":\"State=CA<br>Model Year=2015<br>EV Count=%{text}<br>Make=%{y}<extra></extra>\",\"ids\":[\"FORD\",\"NISSAN\",\"TESLA\",\"TOYOTA\"],\"legendgroup\":\"CA\",\"marker\":{\"color\":\"#00cc96\",\"pattern\":{\"shape\":\"\"}},\"name\":\"CA\",\"offsetgroup\":\"CA\",\"orientation\":\"h\",\"showlegend\":true,\"text\":[2.0,1.0,1.0,1.0],\"textposition\":\"auto\",\"x\":[2,1,1,1],\"xaxis\":\"x\",\"y\":[\"FORD\",\"NISSAN\",\"TESLA\",\"TOYOTA\"],\"yaxis\":\"y\",\"type\":\"bar\"},{\"alignmentgroup\":\"True\",\"hovertemplate\":\"State=MD<br>Model Year=2015<br>EV Count=%{text}<br>Make=%{y}<extra></extra>\",\"ids\":[\"FORD\"],\"legendgroup\":\"MD\",\"marker\":{\"color\":\"#ab63fa\",\"pattern\":{\"shape\":\"\"}},\"name\":\"MD\",\"offsetgroup\":\"MD\",\"orientation\":\"h\",\"showlegend\":true,\"text\":[1.0],\"textposition\":\"auto\",\"x\":[1],\"xaxis\":\"x\",\"y\":[\"FORD\"],\"yaxis\":\"y\",\"type\":\"bar\"},{\"alignmentgroup\":\"True\",\"hovertemplate\":\"State=GA<br>Model Year=2015<br>EV Count=%{text}<br>Make=%{y}<extra></extra>\",\"ids\":[\"NISSAN\"],\"legendgroup\":\"GA\",\"marker\":{\"color\":\"#19d3f3\",\"pattern\":{\"shape\":\"\"}},\"name\":\"GA\",\"offsetgroup\":\"GA\",\"orientation\":\"h\",\"showlegend\":true,\"text\":[1.0],\"textposition\":\"auto\",\"x\":[1],\"xaxis\":\"x\",\"y\":[\"NISSAN\"],\"yaxis\":\"y\",\"type\":\"bar\"},{\"alignmentgroup\":\"True\",\"hovertemplate\":\"State=AZ<br>Model Year=2015<br>EV Count=%{text}<br>Make=%{y}<extra></extra>\",\"ids\":[\"TESLA\"],\"legendgroup\":\"AZ\",\"marker\":{\"color\":\"#FF6692\",\"pattern\":{\"shape\":\"\"}},\"name\":\"AZ\",\"offsetgroup\":\"AZ\",\"orientation\":\"h\",\"showlegend\":true,\"text\":[1.0],\"textposition\":\"auto\",\"x\":[1],\"xaxis\":\"x\",\"y\":[\"TESLA\"],\"yaxis\":\"y\",\"type\":\"bar\"},{\"alignmentgroup\":\"True\",\"hovertemplate\":\"State=CT<br>Model Year=2015<br>EV Count=%{text}<br>Make=%{y}<extra></extra>\",\"ids\":[\"CHEVROLET\"],\"legendgroup\":\"CT\",\"marker\":{\"color\":\"#FF97FF\",\"pattern\":{\"shape\":\"\"}},\"name\":\"CT\",\"offsetgroup\":\"CT\",\"orientation\":\"h\",\"showlegend\":true,\"text\":[1.0],\"textposition\":\"auto\",\"x\":[1],\"xaxis\":\"x\",\"y\":[\"CHEVROLET\"],\"yaxis\":\"y\",\"type\":\"bar\"},{\"alignmentgroup\":\"True\",\"hovertemplate\":\"State=LA<br>Model Year=2015<br>EV Count=%{text}<br>Make=%{y}<extra></extra>\",\"ids\":[\"BMW\"],\"legendgroup\":\"LA\",\"marker\":{\"color\":\"#EF553B\",\"pattern\":{\"shape\":\"\"}},\"name\":\"LA\",\"offsetgroup\":\"LA\",\"orientation\":\"h\",\"showlegend\":true,\"text\":[1.0],\"textposition\":\"auto\",\"x\":[1],\"xaxis\":\"x\",\"y\":[\"BMW\"],\"yaxis\":\"y\",\"type\":\"bar\"},{\"alignmentgroup\":\"True\",\"hovertemplate\":\"State=NH<br>Model Year=2015<br>EV Count=%{text}<br>Make=%{y}<extra></extra>\",\"ids\":[\"CHEVROLET\"],\"legendgroup\":\"NH\",\"marker\":{\"color\":\"#00cc96\",\"pattern\":{\"shape\":\"\"}},\"name\":\"NH\",\"offsetgroup\":\"NH\",\"orientation\":\"h\",\"showlegend\":true,\"text\":[1.0],\"textposition\":\"auto\",\"x\":[1],\"xaxis\":\"x\",\"y\":[\"CHEVROLET\"],\"yaxis\":\"y\",\"type\":\"bar\"},{\"alignmentgroup\":\"True\",\"hovertemplate\":\"State=DC<br>Model Year=2015<br>EV Count=%{text}<br>Make=%{y}<extra></extra>\",\"ids\":[\"FORD\"],\"legendgroup\":\"DC\",\"marker\":{\"color\":\"#ab63fa\",\"pattern\":{\"shape\":\"\"}},\"name\":\"DC\",\"offsetgroup\":\"DC\",\"orientation\":\"h\",\"showlegend\":true,\"text\":[1.0],\"textposition\":\"auto\",\"x\":[1],\"xaxis\":\"x\",\"y\":[\"FORD\"],\"yaxis\":\"y\",\"type\":\"bar\"},{\"alignmentgroup\":\"True\",\"hovertemplate\":\"State=FL<br>Model Year=2015<br>EV Count=%{text}<br>Make=%{y}<extra></extra>\",\"ids\":[\"FORD\"],\"legendgroup\":\"FL\",\"marker\":{\"color\":\"#FFA15A\",\"pattern\":{\"shape\":\"\"}},\"name\":\"FL\",\"offsetgroup\":\"FL\",\"orientation\":\"h\",\"showlegend\":true,\"text\":[1.0],\"textposition\":\"auto\",\"x\":[1],\"xaxis\":\"x\",\"y\":[\"FORD\"],\"yaxis\":\"y\",\"type\":\"bar\"},{\"alignmentgroup\":\"True\",\"hovertemplate\":\"State=NY<br>Model Year=2015<br>EV Count=%{text}<br>Make=%{y}<extra></extra>\",\"ids\":[\"FORD\"],\"legendgroup\":\"NY\",\"marker\":{\"color\":\"#19d3f3\",\"pattern\":{\"shape\":\"\"}},\"name\":\"NY\",\"offsetgroup\":\"NY\",\"orientation\":\"h\",\"showlegend\":true,\"text\":[1.0],\"textposition\":\"auto\",\"x\":[1],\"xaxis\":\"x\",\"y\":[\"FORD\"],\"yaxis\":\"y\",\"type\":\"bar\"},{\"alignmentgroup\":\"True\",\"hovertemplate\":\"State=UT<br>Model Year=2015<br>EV Count=%{text}<br>Make=%{y}<extra></extra>\",\"ids\":[\"TOYOTA\"],\"legendgroup\":\"UT\",\"marker\":{\"color\":\"#FF6692\",\"pattern\":{\"shape\":\"\"}},\"name\":\"UT\",\"offsetgroup\":\"UT\",\"orientation\":\"h\",\"showlegend\":true,\"text\":[1.0],\"textposition\":\"auto\",\"x\":[1],\"xaxis\":\"x\",\"y\":[\"TOYOTA\"],\"yaxis\":\"y\",\"type\":\"bar\"}],\"name\":\"2015\"},{\"data\":[{\"alignmentgroup\":\"True\",\"hovertemplate\":\"State=WA<br>Model Year=2016<br>EV Count=%{text}<br>Make=%{y}<extra></extra>\",\"ids\":[\"AUDI\",\"BMW\",\"CADILLAC\",\"CHEVROLET\",\"FIAT\",\"FORD\",\"HYUNDAI\",\"KIA\",\"MERCEDES-BENZ\",\"MITSUBISHI\",\"NISSAN\",\"PORSCHE\",\"SMART\",\"TESLA\",\"VOLKSWAGEN\",\"VOLVO\"],\"legendgroup\":\"WA\",\"marker\":{\"color\":\"#636efa\",\"pattern\":{\"shape\":\"\"}},\"name\":\"WA\",\"offsetgroup\":\"WA\",\"orientation\":\"h\",\"showlegend\":true,\"text\":[214.0,381.0,18.0,309.0,147.0,774.0,44.0,407.0,35.0,12.0,1208.0,78.0,31.0,1632.0,319.0,112.0],\"textposition\":\"auto\",\"x\":[214,381,18,309,147,774,44,407,35,12,1208,78,31,1632,319,112],\"xaxis\":\"x\",\"y\":[\"AUDI\",\"BMW\",\"CADILLAC\",\"CHEVROLET\",\"FIAT\",\"FORD\",\"HYUNDAI\",\"KIA\",\"MERCEDES-BENZ\",\"MITSUBISHI\",\"NISSAN\",\"PORSCHE\",\"SMART\",\"TESLA\",\"VOLKSWAGEN\",\"VOLVO\"],\"yaxis\":\"y\",\"type\":\"bar\"},{\"alignmentgroup\":\"True\",\"hovertemplate\":\"State=VA<br>Model Year=2016<br>EV Count=%{text}<br>Make=%{y}<extra></extra>\",\"ids\":[\"BMW\",\"TESLA\"],\"legendgroup\":\"VA\",\"marker\":{\"color\":\"#EF553B\",\"pattern\":{\"shape\":\"\"}},\"name\":\"VA\",\"offsetgroup\":\"VA\",\"orientation\":\"h\",\"showlegend\":true,\"text\":[1.0,1.0],\"textposition\":\"auto\",\"x\":[1,1],\"xaxis\":\"x\",\"y\":[\"BMW\",\"TESLA\"],\"yaxis\":\"y\",\"type\":\"bar\"},{\"alignmentgroup\":\"True\",\"hovertemplate\":\"State=CA<br>Model Year=2016<br>EV Count=%{text}<br>Make=%{y}<extra></extra>\",\"ids\":[\"FORD\",\"TESLA\"],\"legendgroup\":\"CA\",\"marker\":{\"color\":\"#00cc96\",\"pattern\":{\"shape\":\"\"}},\"name\":\"CA\",\"offsetgroup\":\"CA\",\"orientation\":\"h\",\"showlegend\":true,\"text\":[2.0,2.0],\"textposition\":\"auto\",\"x\":[2,2],\"xaxis\":\"x\",\"y\":[\"FORD\",\"TESLA\"],\"yaxis\":\"y\",\"type\":\"bar\"},{\"alignmentgroup\":\"True\",\"hovertemplate\":\"State=MD<br>Model Year=2016<br>EV Count=%{text}<br>Make=%{y}<extra></extra>\",\"ids\":[\"TESLA\"],\"legendgroup\":\"MD\",\"marker\":{\"color\":\"#ab63fa\",\"pattern\":{\"shape\":\"\"}},\"name\":\"MD\",\"offsetgroup\":\"MD\",\"orientation\":\"h\",\"showlegend\":true,\"text\":[1.0],\"textposition\":\"auto\",\"x\":[1],\"xaxis\":\"x\",\"y\":[\"TESLA\"],\"yaxis\":\"y\",\"type\":\"bar\"},{\"alignmentgroup\":\"True\",\"hovertemplate\":\"State=TX<br>Model Year=2016<br>EV Count=%{text}<br>Make=%{y}<extra></extra>\",\"ids\":[\"FORD\",\"TESLA\"],\"legendgroup\":\"TX\",\"marker\":{\"color\":\"#FECB52\",\"pattern\":{\"shape\":\"\"}},\"name\":\"TX\",\"offsetgroup\":\"TX\",\"orientation\":\"h\",\"showlegend\":true,\"text\":[1.0,1.0],\"textposition\":\"auto\",\"x\":[1,1],\"xaxis\":\"x\",\"y\":[\"FORD\",\"TESLA\"],\"yaxis\":\"y\",\"type\":\"bar\"},{\"alignmentgroup\":\"True\",\"hovertemplate\":\"State=NY<br>Model Year=2016<br>EV Count=%{text}<br>Make=%{y}<extra></extra>\",\"ids\":[\"TESLA\"],\"legendgroup\":\"NY\",\"marker\":{\"color\":\"#19d3f3\",\"pattern\":{\"shape\":\"\"}},\"name\":\"NY\",\"offsetgroup\":\"NY\",\"orientation\":\"h\",\"showlegend\":true,\"text\":[1.0],\"textposition\":\"auto\",\"x\":[1],\"xaxis\":\"x\",\"y\":[\"TESLA\"],\"yaxis\":\"y\",\"type\":\"bar\"},{\"alignmentgroup\":\"True\",\"hovertemplate\":\"State=OK<br>Model Year=2016<br>EV Count=%{text}<br>Make=%{y}<extra></extra>\",\"ids\":[\"BMW\"],\"legendgroup\":\"OK\",\"marker\":{\"color\":\"#B6E880\",\"pattern\":{\"shape\":\"\"}},\"name\":\"OK\",\"offsetgroup\":\"OK\",\"orientation\":\"h\",\"showlegend\":true,\"text\":[1.0],\"textposition\":\"auto\",\"x\":[1],\"xaxis\":\"x\",\"y\":[\"BMW\"],\"yaxis\":\"y\",\"type\":\"bar\"},{\"alignmentgroup\":\"True\",\"hovertemplate\":\"State=IL<br>Model Year=2016<br>EV Count=%{text}<br>Make=%{y}<extra></extra>\",\"ids\":[\"FIAT\"],\"legendgroup\":\"IL\",\"marker\":{\"color\":\"#FF97FF\",\"pattern\":{\"shape\":\"\"}},\"name\":\"IL\",\"offsetgroup\":\"IL\",\"orientation\":\"h\",\"showlegend\":true,\"text\":[1.0],\"textposition\":\"auto\",\"x\":[1],\"xaxis\":\"x\",\"y\":[\"FIAT\"],\"yaxis\":\"y\",\"type\":\"bar\"},{\"alignmentgroup\":\"True\",\"hovertemplate\":\"State=AK<br>Model Year=2016<br>EV Count=%{text}<br>Make=%{y}<extra></extra>\",\"ids\":[\"FORD\"],\"legendgroup\":\"AK\",\"marker\":{\"color\":\"#FECB52\",\"pattern\":{\"shape\":\"\"}},\"name\":\"AK\",\"offsetgroup\":\"AK\",\"orientation\":\"h\",\"showlegend\":true,\"text\":[1.0],\"textposition\":\"auto\",\"x\":[1],\"xaxis\":\"x\",\"y\":[\"FORD\"],\"yaxis\":\"y\",\"type\":\"bar\"},{\"alignmentgroup\":\"True\",\"hovertemplate\":\"State=PA<br>Model Year=2016<br>EV Count=%{text}<br>Make=%{y}<extra></extra>\",\"ids\":[\"TESLA\"],\"legendgroup\":\"PA\",\"marker\":{\"color\":\"#636efa\",\"pattern\":{\"shape\":\"\"}},\"name\":\"PA\",\"offsetgroup\":\"PA\",\"orientation\":\"h\",\"showlegend\":true,\"text\":[1.0],\"textposition\":\"auto\",\"x\":[1],\"xaxis\":\"x\",\"y\":[\"TESLA\"],\"yaxis\":\"y\",\"type\":\"bar\"}],\"name\":\"2016\"},{\"data\":[{\"alignmentgroup\":\"True\",\"hovertemplate\":\"State=WA<br>Model Year=2017<br>EV Count=%{text}<br>Make=%{y}<extra></extra>\",\"ids\":[\"AUDI\",\"BMW\",\"CADILLAC\",\"CHEVROLET\",\"CHRYSLER\",\"FIAT\",\"FORD\",\"HYUNDAI\",\"KIA\",\"MERCEDES-BENZ\",\"MITSUBISHI\",\"NISSAN\",\"PORSCHE\",\"SMART\",\"TESLA\",\"TOYOTA\",\"VOLKSWAGEN\",\"VOLVO\"],\"legendgroup\":\"WA\",\"marker\":{\"color\":\"#636efa\",\"pattern\":{\"shape\":\"\"}},\"name\":\"WA\",\"offsetgroup\":\"WA\",\"orientation\":\"h\",\"showlegend\":true,\"text\":[185.0,686.0,15.0,2741.0,94.0,167.0,657.0,46.0,210.0,45.0,1.0,933.0,71.0,34.0,1673.0,895.0,52.0,115.0],\"textposition\":\"auto\",\"x\":[185,686,15,2741,94,167,657,46,210,45,1,933,71,34,1673,895,52,115],\"xaxis\":\"x\",\"y\":[\"AUDI\",\"BMW\",\"CADILLAC\",\"CHEVROLET\",\"CHRYSLER\",\"FIAT\",\"FORD\",\"HYUNDAI\",\"KIA\",\"MERCEDES-BENZ\",\"MITSUBISHI\",\"NISSAN\",\"PORSCHE\",\"SMART\",\"TESLA\",\"TOYOTA\",\"VOLKSWAGEN\",\"VOLVO\"],\"yaxis\":\"y\",\"type\":\"bar\"},{\"alignmentgroup\":\"True\",\"hovertemplate\":\"State=VA<br>Model Year=2017<br>EV Count=%{text}<br>Make=%{y}<extra></extra>\",\"ids\":[\"TOYOTA\"],\"legendgroup\":\"VA\",\"marker\":{\"color\":\"#EF553B\",\"pattern\":{\"shape\":\"\"}},\"name\":\"VA\",\"offsetgroup\":\"VA\",\"orientation\":\"h\",\"showlegend\":true,\"text\":[2.0],\"textposition\":\"auto\",\"x\":[2],\"xaxis\":\"x\",\"y\":[\"TOYOTA\"],\"yaxis\":\"y\",\"type\":\"bar\"},{\"alignmentgroup\":\"True\",\"hovertemplate\":\"State=CA<br>Model Year=2017<br>EV Count=%{text}<br>Make=%{y}<extra></extra>\",\"ids\":[\"AUDI\",\"BMW\",\"CHEVROLET\",\"FORD\",\"TESLA\"],\"legendgroup\":\"CA\",\"marker\":{\"color\":\"#00cc96\",\"pattern\":{\"shape\":\"\"}},\"name\":\"CA\",\"offsetgroup\":\"CA\",\"orientation\":\"h\",\"showlegend\":true,\"text\":[1.0,1.0,1.0,1.0,2.0],\"textposition\":\"auto\",\"x\":[1,1,1,1,2],\"xaxis\":\"x\",\"y\":[\"AUDI\",\"BMW\",\"CHEVROLET\",\"FORD\",\"TESLA\"],\"yaxis\":\"y\",\"type\":\"bar\"},{\"alignmentgroup\":\"True\",\"hovertemplate\":\"State=MD<br>Model Year=2017<br>EV Count=%{text}<br>Make=%{y}<extra></extra>\",\"ids\":[\"CHEVROLET\",\"TESLA\"],\"legendgroup\":\"MD\",\"marker\":{\"color\":\"#ab63fa\",\"pattern\":{\"shape\":\"\"}},\"name\":\"MD\",\"offsetgroup\":\"MD\",\"orientation\":\"h\",\"showlegend\":true,\"text\":[1.0,1.0],\"textposition\":\"auto\",\"x\":[1,1],\"xaxis\":\"x\",\"y\":[\"CHEVROLET\",\"TESLA\"],\"yaxis\":\"y\",\"type\":\"bar\"},{\"alignmentgroup\":\"True\",\"hovertemplate\":\"State=GA<br>Model Year=2017<br>EV Count=%{text}<br>Make=%{y}<extra></extra>\",\"ids\":[\"BMW\"],\"legendgroup\":\"GA\",\"marker\":{\"color\":\"#19d3f3\",\"pattern\":{\"shape\":\"\"}},\"name\":\"GA\",\"offsetgroup\":\"GA\",\"orientation\":\"h\",\"showlegend\":true,\"text\":[1.0],\"textposition\":\"auto\",\"x\":[1],\"xaxis\":\"x\",\"y\":[\"BMW\"],\"yaxis\":\"y\",\"type\":\"bar\"},{\"alignmentgroup\":\"True\",\"hovertemplate\":\"State=TX<br>Model Year=2017<br>EV Count=%{text}<br>Make=%{y}<extra></extra>\",\"ids\":[\"FORD\",\"TESLA\",\"TOYOTA\"],\"legendgroup\":\"TX\",\"marker\":{\"color\":\"#FECB52\",\"pattern\":{\"shape\":\"\"}},\"name\":\"TX\",\"offsetgroup\":\"TX\",\"orientation\":\"h\",\"showlegend\":true,\"text\":[1.0,2.0,1.0],\"textposition\":\"auto\",\"x\":[1,2,1],\"xaxis\":\"x\",\"y\":[\"FORD\",\"TESLA\",\"TOYOTA\"],\"yaxis\":\"y\",\"type\":\"bar\"},{\"alignmentgroup\":\"True\",\"hovertemplate\":\"State=DC<br>Model Year=2017<br>EV Count=%{text}<br>Make=%{y}<extra></extra>\",\"ids\":[\"BMW\"],\"legendgroup\":\"DC\",\"marker\":{\"color\":\"#ab63fa\",\"pattern\":{\"shape\":\"\"}},\"name\":\"DC\",\"offsetgroup\":\"DC\",\"orientation\":\"h\",\"showlegend\":true,\"text\":[1.0],\"textposition\":\"auto\",\"x\":[1],\"xaxis\":\"x\",\"y\":[\"BMW\"],\"yaxis\":\"y\",\"type\":\"bar\"},{\"alignmentgroup\":\"True\",\"hovertemplate\":\"State=FL<br>Model Year=2017<br>EV Count=%{text}<br>Make=%{y}<extra></extra>\",\"ids\":[\"TESLA\"],\"legendgroup\":\"FL\",\"marker\":{\"color\":\"#FFA15A\",\"pattern\":{\"shape\":\"\"}},\"name\":\"FL\",\"offsetgroup\":\"FL\",\"orientation\":\"h\",\"showlegend\":true,\"text\":[1.0],\"textposition\":\"auto\",\"x\":[1],\"xaxis\":\"x\",\"y\":[\"TESLA\"],\"yaxis\":\"y\",\"type\":\"bar\"},{\"alignmentgroup\":\"True\",\"hovertemplate\":\"State=NY<br>Model Year=2017<br>EV Count=%{text}<br>Make=%{y}<extra></extra>\",\"ids\":[\"NISSAN\"],\"legendgroup\":\"NY\",\"marker\":{\"color\":\"#19d3f3\",\"pattern\":{\"shape\":\"\"}},\"name\":\"NY\",\"offsetgroup\":\"NY\",\"orientation\":\"h\",\"showlegend\":true,\"text\":[1.0],\"textposition\":\"auto\",\"x\":[1],\"xaxis\":\"x\",\"y\":[\"NISSAN\"],\"yaxis\":\"y\",\"type\":\"bar\"},{\"alignmentgroup\":\"True\",\"hovertemplate\":\"State=MO<br>Model Year=2017<br>EV Count=%{text}<br>Make=%{y}<extra></extra>\",\"ids\":[\"AUDI\"],\"legendgroup\":\"MO\",\"marker\":{\"color\":\"#EF553B\",\"pattern\":{\"shape\":\"\"}},\"name\":\"MO\",\"offsetgroup\":\"MO\",\"orientation\":\"h\",\"showlegend\":true,\"text\":[1.0],\"textposition\":\"auto\",\"x\":[1],\"xaxis\":\"x\",\"y\":[\"AUDI\"],\"yaxis\":\"y\",\"type\":\"bar\"},{\"alignmentgroup\":\"True\",\"hovertemplate\":\"State=AR<br>Model Year=2017<br>EV Count=%{text}<br>Make=%{y}<extra></extra>\",\"ids\":[\"BMW\"],\"legendgroup\":\"AR\",\"marker\":{\"color\":\"#00cc96\",\"pattern\":{\"shape\":\"\"}},\"name\":\"AR\",\"offsetgroup\":\"AR\",\"orientation\":\"h\",\"showlegend\":true,\"text\":[1.0],\"textposition\":\"auto\",\"x\":[1],\"xaxis\":\"x\",\"y\":[\"BMW\"],\"yaxis\":\"y\",\"type\":\"bar\"},{\"alignmentgroup\":\"True\",\"hovertemplate\":\"State=KS<br>Model Year=2017<br>EV Count=%{text}<br>Make=%{y}<extra></extra>\",\"ids\":[\"BMW\"],\"legendgroup\":\"KS\",\"marker\":{\"color\":\"#ab63fa\",\"pattern\":{\"shape\":\"\"}},\"name\":\"KS\",\"offsetgroup\":\"KS\",\"orientation\":\"h\",\"showlegend\":true,\"text\":[1.0],\"textposition\":\"auto\",\"x\":[1],\"xaxis\":\"x\",\"y\":[\"BMW\"],\"yaxis\":\"y\",\"type\":\"bar\"},{\"alignmentgroup\":\"True\",\"hovertemplate\":\"State=NC<br>Model Year=2017<br>EV Count=%{text}<br>Make=%{y}<extra></extra>\",\"ids\":[\"BMW\"],\"legendgroup\":\"NC\",\"marker\":{\"color\":\"#FFA15A\",\"pattern\":{\"shape\":\"\"}},\"name\":\"NC\",\"offsetgroup\":\"NC\",\"orientation\":\"h\",\"showlegend\":true,\"text\":[1.0],\"textposition\":\"auto\",\"x\":[1],\"xaxis\":\"x\",\"y\":[\"BMW\"],\"yaxis\":\"y\",\"type\":\"bar\"},{\"alignmentgroup\":\"True\",\"hovertemplate\":\"State=OR<br>Model Year=2017<br>EV Count=%{text}<br>Make=%{y}<extra></extra>\",\"ids\":[\"CHEVROLET\"],\"legendgroup\":\"OR\",\"marker\":{\"color\":\"#19d3f3\",\"pattern\":{\"shape\":\"\"}},\"name\":\"OR\",\"offsetgroup\":\"OR\",\"orientation\":\"h\",\"showlegend\":true,\"text\":[1.0],\"textposition\":\"auto\",\"x\":[1],\"xaxis\":\"x\",\"y\":[\"CHEVROLET\"],\"yaxis\":\"y\",\"type\":\"bar\"},{\"alignmentgroup\":\"True\",\"hovertemplate\":\"State=SC<br>Model Year=2017<br>EV Count=%{text}<br>Make=%{y}<extra></extra>\",\"ids\":[\"TOYOTA\"],\"legendgroup\":\"SC\",\"marker\":{\"color\":\"#FF6692\",\"pattern\":{\"shape\":\"\"}},\"name\":\"SC\",\"offsetgroup\":\"SC\",\"orientation\":\"h\",\"showlegend\":true,\"text\":[1.0],\"textposition\":\"auto\",\"x\":[1],\"xaxis\":\"x\",\"y\":[\"TOYOTA\"],\"yaxis\":\"y\",\"type\":\"bar\"}],\"name\":\"2017\"},{\"data\":[{\"alignmentgroup\":\"True\",\"hovertemplate\":\"State=WA<br>Model Year=2018<br>EV Count=%{text}<br>Make=%{y}<extra></extra>\",\"ids\":[\"AUDI\",\"BMW\",\"CADILLAC\",\"CHEVROLET\",\"CHRYSLER\",\"FIAT\",\"FORD\",\"HONDA\",\"HYUNDAI\",\"KIA\",\"MERCEDES-BENZ\",\"MINI\",\"MITSUBISHI\",\"NISSAN\",\"PORSCHE\",\"SMART\",\"TESLA\",\"TOYOTA\",\"VOLKSWAGEN\",\"VOLVO\"],\"legendgroup\":\"WA\",\"marker\":{\"color\":\"#636efa\",\"pattern\":{\"shape\":\"\"}},\"name\":\"WA\",\"offsetgroup\":\"WA\",\"orientation\":\"h\",\"showlegend\":true,\"text\":[174.0,709.0,17.0,1122.0,548.0,53.0,170.0,612.0,20.0,322.0,53.0,50.0,181.0,1230.0,77.0,47.0,7900.0,659.0,39.0,226.0],\"textposition\":\"auto\",\"x\":[174,709,17,1122,548,53,170,612,20,322,53,50,181,1230,77,47,7900,659,39,226],\"xaxis\":\"x\",\"y\":[\"AUDI\",\"BMW\",\"CADILLAC\",\"CHEVROLET\",\"CHRYSLER\",\"FIAT\",\"FORD\",\"HONDA\",\"HYUNDAI\",\"KIA\",\"MERCEDES-BENZ\",\"MINI\",\"MITSUBISHI\",\"NISSAN\",\"PORSCHE\",\"SMART\",\"TESLA\",\"TOYOTA\",\"VOLKSWAGEN\",\"VOLVO\"],\"yaxis\":\"y\",\"type\":\"bar\"},{\"alignmentgroup\":\"True\",\"hovertemplate\":\"State=VA<br>Model Year=2018<br>EV Count=%{text}<br>Make=%{y}<extra></extra>\",\"ids\":[\"TESLA\"],\"legendgroup\":\"VA\",\"marker\":{\"color\":\"#EF553B\",\"pattern\":{\"shape\":\"\"}},\"name\":\"VA\",\"offsetgroup\":\"VA\",\"orientation\":\"h\",\"showlegend\":true,\"text\":[3.0],\"textposition\":\"auto\",\"x\":[3],\"xaxis\":\"x\",\"y\":[\"TESLA\"],\"yaxis\":\"y\",\"type\":\"bar\"},{\"alignmentgroup\":\"True\",\"hovertemplate\":\"State=CA<br>Model Year=2018<br>EV Count=%{text}<br>Make=%{y}<extra></extra>\",\"ids\":[\"HONDA\",\"MITSUBISHI\",\"PORSCHE\",\"TESLA\"],\"legendgroup\":\"CA\",\"marker\":{\"color\":\"#00cc96\",\"pattern\":{\"shape\":\"\"}},\"name\":\"CA\",\"offsetgroup\":\"CA\",\"orientation\":\"h\",\"showlegend\":true,\"text\":[1.0,1.0,1.0,9.0],\"textposition\":\"auto\",\"x\":[1,1,1,9],\"xaxis\":\"x\",\"y\":[\"HONDA\",\"MITSUBISHI\",\"PORSCHE\",\"TESLA\"],\"yaxis\":\"y\",\"type\":\"bar\"},{\"alignmentgroup\":\"True\",\"hovertemplate\":\"State=MD<br>Model Year=2018<br>EV Count=%{text}<br>Make=%{y}<extra></extra>\",\"ids\":[\"CHEVROLET\",\"CHRYSLER\",\"HONDA\",\"TESLA\"],\"legendgroup\":\"MD\",\"marker\":{\"color\":\"#ab63fa\",\"pattern\":{\"shape\":\"\"}},\"name\":\"MD\",\"offsetgroup\":\"MD\",\"orientation\":\"h\",\"showlegend\":true,\"text\":[1.0,1.0,1.0,1.0],\"textposition\":\"auto\",\"x\":[1,1,1,1],\"xaxis\":\"x\",\"y\":[\"CHEVROLET\",\"CHRYSLER\",\"HONDA\",\"TESLA\"],\"yaxis\":\"y\",\"type\":\"bar\"},{\"alignmentgroup\":\"True\",\"hovertemplate\":\"State=GA<br>Model Year=2018<br>EV Count=%{text}<br>Make=%{y}<extra></extra>\",\"ids\":[\"TESLA\"],\"legendgroup\":\"GA\",\"marker\":{\"color\":\"#19d3f3\",\"pattern\":{\"shape\":\"\"}},\"name\":\"GA\",\"offsetgroup\":\"GA\",\"orientation\":\"h\",\"showlegend\":true,\"text\":[1.0],\"textposition\":\"auto\",\"x\":[1],\"xaxis\":\"x\",\"y\":[\"TESLA\"],\"yaxis\":\"y\",\"type\":\"bar\"},{\"alignmentgroup\":\"True\",\"hovertemplate\":\"State=CO<br>Model Year=2018<br>EV Count=%{text}<br>Make=%{y}<extra></extra>\",\"ids\":[\"TESLA\"],\"legendgroup\":\"CO\",\"marker\":{\"color\":\"#B6E880\",\"pattern\":{\"shape\":\"\"}},\"name\":\"CO\",\"offsetgroup\":\"CO\",\"orientation\":\"h\",\"showlegend\":true,\"text\":[1.0],\"textposition\":\"auto\",\"x\":[1],\"xaxis\":\"x\",\"y\":[\"TESLA\"],\"yaxis\":\"y\",\"type\":\"bar\"},{\"alignmentgroup\":\"True\",\"hovertemplate\":\"State=CT<br>Model Year=2018<br>EV Count=%{text}<br>Make=%{y}<extra></extra>\",\"ids\":[\"CHRYSLER\"],\"legendgroup\":\"CT\",\"marker\":{\"color\":\"#FF97FF\",\"pattern\":{\"shape\":\"\"}},\"name\":\"CT\",\"offsetgroup\":\"CT\",\"orientation\":\"h\",\"showlegend\":true,\"text\":[1.0],\"textposition\":\"auto\",\"x\":[1],\"xaxis\":\"x\",\"y\":[\"CHRYSLER\"],\"yaxis\":\"y\",\"type\":\"bar\"},{\"alignmentgroup\":\"True\",\"hovertemplate\":\"State=TX<br>Model Year=2018<br>EV Count=%{text}<br>Make=%{y}<extra></extra>\",\"ids\":[\"TESLA\"],\"legendgroup\":\"TX\",\"marker\":{\"color\":\"#FECB52\",\"pattern\":{\"shape\":\"\"}},\"name\":\"TX\",\"offsetgroup\":\"TX\",\"orientation\":\"h\",\"showlegend\":true,\"text\":[1.0],\"textposition\":\"auto\",\"x\":[1],\"xaxis\":\"x\",\"y\":[\"TESLA\"],\"yaxis\":\"y\",\"type\":\"bar\"},{\"alignmentgroup\":\"True\",\"hovertemplate\":\"State=DC<br>Model Year=2018<br>EV Count=%{text}<br>Make=%{y}<extra></extra>\",\"ids\":[\"NISSAN\"],\"legendgroup\":\"DC\",\"marker\":{\"color\":\"#ab63fa\",\"pattern\":{\"shape\":\"\"}},\"name\":\"DC\",\"offsetgroup\":\"DC\",\"orientation\":\"h\",\"showlegend\":true,\"text\":[1.0],\"textposition\":\"auto\",\"x\":[1],\"xaxis\":\"x\",\"y\":[\"NISSAN\"],\"yaxis\":\"y\",\"type\":\"bar\"},{\"alignmentgroup\":\"True\",\"hovertemplate\":\"State=UT<br>Model Year=2018<br>EV Count=%{text}<br>Make=%{y}<extra></extra>\",\"ids\":[\"TESLA\"],\"legendgroup\":\"UT\",\"marker\":{\"color\":\"#FF6692\",\"pattern\":{\"shape\":\"\"}},\"name\":\"UT\",\"offsetgroup\":\"UT\",\"orientation\":\"h\",\"showlegend\":true,\"text\":[1.0],\"textposition\":\"auto\",\"x\":[1],\"xaxis\":\"x\",\"y\":[\"TESLA\"],\"yaxis\":\"y\",\"type\":\"bar\"},{\"alignmentgroup\":\"True\",\"hovertemplate\":\"State=IL<br>Model Year=2018<br>EV Count=%{text}<br>Make=%{y}<extra></extra>\",\"ids\":[\"TESLA\"],\"legendgroup\":\"IL\",\"marker\":{\"color\":\"#FF97FF\",\"pattern\":{\"shape\":\"\"}},\"name\":\"IL\",\"offsetgroup\":\"IL\",\"orientation\":\"h\",\"showlegend\":true,\"text\":[1.0],\"textposition\":\"auto\",\"x\":[1],\"xaxis\":\"x\",\"y\":[\"TESLA\"],\"yaxis\":\"y\",\"type\":\"bar\"},{\"alignmentgroup\":\"True\",\"hovertemplate\":\"State=PA<br>Model Year=2018<br>EV Count=%{text}<br>Make=%{y}<extra></extra>\",\"ids\":[\"NISSAN\"],\"legendgroup\":\"PA\",\"marker\":{\"color\":\"#636efa\",\"pattern\":{\"shape\":\"\"}},\"name\":\"PA\",\"offsetgroup\":\"PA\",\"orientation\":\"h\",\"showlegend\":true,\"text\":[1.0],\"textposition\":\"auto\",\"x\":[1],\"xaxis\":\"x\",\"y\":[\"NISSAN\"],\"yaxis\":\"y\",\"type\":\"bar\"},{\"alignmentgroup\":\"True\",\"hovertemplate\":\"State=NC<br>Model Year=2018<br>EV Count=%{text}<br>Make=%{y}<extra></extra>\",\"ids\":[\"CHEVROLET\",\"CHRYSLER\"],\"legendgroup\":\"NC\",\"marker\":{\"color\":\"#FFA15A\",\"pattern\":{\"shape\":\"\"}},\"name\":\"NC\",\"offsetgroup\":\"NC\",\"orientation\":\"h\",\"showlegend\":true,\"text\":[1.0,1.0],\"textposition\":\"auto\",\"x\":[1,1],\"xaxis\":\"x\",\"y\":[\"CHEVROLET\",\"CHRYSLER\"],\"yaxis\":\"y\",\"type\":\"bar\"},{\"alignmentgroup\":\"True\",\"hovertemplate\":\"State=OR<br>Model Year=2018<br>EV Count=%{text}<br>Make=%{y}<extra></extra>\",\"ids\":[\"BMW\"],\"legendgroup\":\"OR\",\"marker\":{\"color\":\"#19d3f3\",\"pattern\":{\"shape\":\"\"}},\"name\":\"OR\",\"offsetgroup\":\"OR\",\"orientation\":\"h\",\"showlegend\":true,\"text\":[1.0],\"textposition\":\"auto\",\"x\":[1],\"xaxis\":\"x\",\"y\":[\"BMW\"],\"yaxis\":\"y\",\"type\":\"bar\"},{\"alignmentgroup\":\"True\",\"hovertemplate\":\"State=MA<br>Model Year=2018<br>EV Count=%{text}<br>Make=%{y}<extra></extra>\",\"ids\":[\"CHEVROLET\"],\"legendgroup\":\"MA\",\"marker\":{\"color\":\"#B6E880\",\"pattern\":{\"shape\":\"\"}},\"name\":\"MA\",\"offsetgroup\":\"MA\",\"orientation\":\"h\",\"showlegend\":true,\"text\":[1.0],\"textposition\":\"auto\",\"x\":[1],\"xaxis\":\"x\",\"y\":[\"CHEVROLET\"],\"yaxis\":\"y\",\"type\":\"bar\"},{\"alignmentgroup\":\"True\",\"hovertemplate\":\"State=NM<br>Model Year=2018<br>EV Count=%{text}<br>Make=%{y}<extra></extra>\",\"ids\":[\"CHEVROLET\"],\"legendgroup\":\"NM\",\"marker\":{\"color\":\"#FF97FF\",\"pattern\":{\"shape\":\"\"}},\"name\":\"NM\",\"offsetgroup\":\"NM\",\"orientation\":\"h\",\"showlegend\":true,\"text\":[1.0],\"textposition\":\"auto\",\"x\":[1],\"xaxis\":\"x\",\"y\":[\"CHEVROLET\"],\"yaxis\":\"y\",\"type\":\"bar\"},{\"alignmentgroup\":\"True\",\"hovertemplate\":\"State=KY<br>Model Year=2018<br>EV Count=%{text}<br>Make=%{y}<extra></extra>\",\"ids\":[\"CHRYSLER\"],\"legendgroup\":\"KY\",\"marker\":{\"color\":\"#FECB52\",\"pattern\":{\"shape\":\"\"}},\"name\":\"KY\",\"offsetgroup\":\"KY\",\"orientation\":\"h\",\"showlegend\":true,\"text\":[1.0],\"textposition\":\"auto\",\"x\":[1],\"xaxis\":\"x\",\"y\":[\"CHRYSLER\"],\"yaxis\":\"y\",\"type\":\"bar\"},{\"alignmentgroup\":\"True\",\"hovertemplate\":\"State=ME<br>Model Year=2018<br>EV Count=%{text}<br>Make=%{y}<extra></extra>\",\"ids\":[\"CHRYSLER\"],\"legendgroup\":\"ME\",\"marker\":{\"color\":\"#636efa\",\"pattern\":{\"shape\":\"\"}},\"name\":\"ME\",\"offsetgroup\":\"ME\",\"orientation\":\"h\",\"showlegend\":true,\"text\":[1.0],\"textposition\":\"auto\",\"x\":[1],\"xaxis\":\"x\",\"y\":[\"CHRYSLER\"],\"yaxis\":\"y\",\"type\":\"bar\"},{\"alignmentgroup\":\"True\",\"hovertemplate\":\"State=NE<br>Model Year=2018<br>EV Count=%{text}<br>Make=%{y}<extra></extra>\",\"ids\":[\"CHRYSLER\"],\"legendgroup\":\"NE\",\"marker\":{\"color\":\"#EF553B\",\"pattern\":{\"shape\":\"\"}},\"name\":\"NE\",\"offsetgroup\":\"NE\",\"orientation\":\"h\",\"showlegend\":true,\"text\":[1.0],\"textposition\":\"auto\",\"x\":[1],\"xaxis\":\"x\",\"y\":[\"CHRYSLER\"],\"yaxis\":\"y\",\"type\":\"bar\"},{\"alignmentgroup\":\"True\",\"hovertemplate\":\"State=ND<br>Model Year=2018<br>EV Count=%{text}<br>Make=%{y}<extra></extra>\",\"ids\":[\"MITSUBISHI\"],\"legendgroup\":\"ND\",\"marker\":{\"color\":\"#00cc96\",\"pattern\":{\"shape\":\"\"}},\"name\":\"ND\",\"offsetgroup\":\"ND\",\"orientation\":\"h\",\"showlegend\":true,\"text\":[1.0],\"textposition\":\"auto\",\"x\":[1],\"xaxis\":\"x\",\"y\":[\"MITSUBISHI\"],\"yaxis\":\"y\",\"type\":\"bar\"},{\"alignmentgroup\":\"True\",\"hovertemplate\":\"State=HI<br>Model Year=2018<br>EV Count=%{text}<br>Make=%{y}<extra></extra>\",\"ids\":[\"TESLA\"],\"legendgroup\":\"HI\",\"marker\":{\"color\":\"#ab63fa\",\"pattern\":{\"shape\":\"\"}},\"name\":\"HI\",\"offsetgroup\":\"HI\",\"orientation\":\"h\",\"showlegend\":true,\"text\":[1.0],\"textposition\":\"auto\",\"x\":[1],\"xaxis\":\"x\",\"y\":[\"TESLA\"],\"yaxis\":\"y\",\"type\":\"bar\"}],\"name\":\"2018\"},{\"data\":[{\"alignmentgroup\":\"True\",\"hovertemplate\":\"State=WA<br>Model Year=2019<br>EV Count=%{text}<br>Make=%{y}<extra></extra>\",\"ids\":[\"AUDI\",\"BMW\",\"CHEVROLET\",\"CHRYSLER\",\"FIAT\",\"FORD\",\"HONDA\",\"HYUNDAI\",\"JAGUAR\",\"KIA\",\"MERCEDES-BENZ\",\"MINI\",\"MITSUBISHI\",\"NISSAN\",\"PORSCHE\",\"SMART\",\"SUBARU\",\"TESLA\",\"TOYOTA\",\"VOLKSWAGEN\",\"VOLVO\"],\"legendgroup\":\"WA\",\"marker\":{\"color\":\"#636efa\",\"pattern\":{\"shape\":\"\"}},\"name\":\"WA\",\"offsetgroup\":\"WA\",\"orientation\":\"h\",\"showlegend\":true,\"text\":[391.0,279.0,966.0,118.0,9.0,135.0,73.0,115.0,119.0,680.0,132.0,100.0,146.0,1407.0,62.0,9.0,58.0,4569.0,189.0,494.0,190.0],\"textposition\":\"auto\",\"x\":[391,279,966,118,9,135,73,115,119,680,132,100,146,1407,62,9,58,4569,189,494,190],\"xaxis\":\"x\",\"y\":[\"AUDI\",\"BMW\",\"CHEVROLET\",\"CHRYSLER\",\"FIAT\",\"FORD\",\"HONDA\",\"HYUNDAI\",\"JAGUAR\",\"KIA\",\"MERCEDES-BENZ\",\"MINI\",\"MITSUBISHI\",\"NISSAN\",\"PORSCHE\",\"SMART\",\"SUBARU\",\"TESLA\",\"TOYOTA\",\"VOLKSWAGEN\",\"VOLVO\"],\"yaxis\":\"y\",\"type\":\"bar\"},{\"alignmentgroup\":\"True\",\"hovertemplate\":\"State=VA<br>Model Year=2019<br>EV Count=%{text}<br>Make=%{y}<extra></extra>\",\"ids\":[\"MERCEDES-BENZ\",\"TESLA\"],\"legendgroup\":\"VA\",\"marker\":{\"color\":\"#EF553B\",\"pattern\":{\"shape\":\"\"}},\"name\":\"VA\",\"offsetgroup\":\"VA\",\"orientation\":\"h\",\"showlegend\":true,\"text\":[1.0,4.0],\"textposition\":\"auto\",\"x\":[1,4],\"xaxis\":\"x\",\"y\":[\"MERCEDES-BENZ\",\"TESLA\"],\"yaxis\":\"y\",\"type\":\"bar\"},{\"alignmentgroup\":\"True\",\"hovertemplate\":\"State=CA<br>Model Year=2019<br>EV Count=%{text}<br>Make=%{y}<extra></extra>\",\"ids\":[\"JAGUAR\",\"TESLA\",\"TOYOTA\",\"VOLKSWAGEN\"],\"legendgroup\":\"CA\",\"marker\":{\"color\":\"#00cc96\",\"pattern\":{\"shape\":\"\"}},\"name\":\"CA\",\"offsetgroup\":\"CA\",\"orientation\":\"h\",\"showlegend\":true,\"text\":[1.0,4.0,1.0,1.0],\"textposition\":\"auto\",\"x\":[1,4,1,1],\"xaxis\":\"x\",\"y\":[\"JAGUAR\",\"TESLA\",\"TOYOTA\",\"VOLKSWAGEN\"],\"yaxis\":\"y\",\"type\":\"bar\"},{\"alignmentgroup\":\"True\",\"hovertemplate\":\"State=MD<br>Model Year=2019<br>EV Count=%{text}<br>Make=%{y}<extra></extra>\",\"ids\":[\"AUDI\",\"TESLA\"],\"legendgroup\":\"MD\",\"marker\":{\"color\":\"#ab63fa\",\"pattern\":{\"shape\":\"\"}},\"name\":\"MD\",\"offsetgroup\":\"MD\",\"orientation\":\"h\",\"showlegend\":true,\"text\":[1.0,1.0],\"textposition\":\"auto\",\"x\":[1,1],\"xaxis\":\"x\",\"y\":[\"AUDI\",\"TESLA\"],\"yaxis\":\"y\",\"type\":\"bar\"},{\"alignmentgroup\":\"True\",\"hovertemplate\":\"State=NV<br>Model Year=2019<br>EV Count=%{text}<br>Make=%{y}<extra></extra>\",\"ids\":[\"TESLA\"],\"legendgroup\":\"NV\",\"marker\":{\"color\":\"#FFA15A\",\"pattern\":{\"shape\":\"\"}},\"name\":\"NV\",\"offsetgroup\":\"NV\",\"orientation\":\"h\",\"showlegend\":true,\"text\":[1.0],\"textposition\":\"auto\",\"x\":[1],\"xaxis\":\"x\",\"y\":[\"TESLA\"],\"yaxis\":\"y\",\"type\":\"bar\"},{\"alignmentgroup\":\"True\",\"hovertemplate\":\"State=TX<br>Model Year=2019<br>EV Count=%{text}<br>Make=%{y}<extra></extra>\",\"ids\":[\"FORD\"],\"legendgroup\":\"TX\",\"marker\":{\"color\":\"#FECB52\",\"pattern\":{\"shape\":\"\"}},\"name\":\"TX\",\"offsetgroup\":\"TX\",\"orientation\":\"h\",\"showlegend\":true,\"text\":[1.0],\"textposition\":\"auto\",\"x\":[1],\"xaxis\":\"x\",\"y\":[\"FORD\"],\"yaxis\":\"y\",\"type\":\"bar\"},{\"alignmentgroup\":\"True\",\"hovertemplate\":\"State=FL<br>Model Year=2019<br>EV Count=%{text}<br>Make=%{y}<extra></extra>\",\"ids\":[\"TESLA\"],\"legendgroup\":\"FL\",\"marker\":{\"color\":\"#FFA15A\",\"pattern\":{\"shape\":\"\"}},\"name\":\"FL\",\"offsetgroup\":\"FL\",\"orientation\":\"h\",\"showlegend\":true,\"text\":[2.0],\"textposition\":\"auto\",\"x\":[2],\"xaxis\":\"x\",\"y\":[\"TESLA\"],\"yaxis\":\"y\",\"type\":\"bar\"},{\"alignmentgroup\":\"True\",\"hovertemplate\":\"State=UT<br>Model Year=2019<br>EV Count=%{text}<br>Make=%{y}<extra></extra>\",\"ids\":[\"KIA\"],\"legendgroup\":\"UT\",\"marker\":{\"color\":\"#FF6692\",\"pattern\":{\"shape\":\"\"}},\"name\":\"UT\",\"offsetgroup\":\"UT\",\"orientation\":\"h\",\"showlegend\":true,\"text\":[1.0],\"textposition\":\"auto\",\"x\":[1],\"xaxis\":\"x\",\"y\":[\"KIA\"],\"yaxis\":\"y\",\"type\":\"bar\"},{\"alignmentgroup\":\"True\",\"hovertemplate\":\"State=IL<br>Model Year=2019<br>EV Count=%{text}<br>Make=%{y}<extra></extra>\",\"ids\":[\"CHRYSLER\"],\"legendgroup\":\"IL\",\"marker\":{\"color\":\"#FF97FF\",\"pattern\":{\"shape\":\"\"}},\"name\":\"IL\",\"offsetgroup\":\"IL\",\"orientation\":\"h\",\"showlegend\":true,\"text\":[1.0],\"textposition\":\"auto\",\"x\":[1],\"xaxis\":\"x\",\"y\":[\"CHRYSLER\"],\"yaxis\":\"y\",\"type\":\"bar\"},{\"alignmentgroup\":\"True\",\"hovertemplate\":\"State=AR<br>Model Year=2019<br>EV Count=%{text}<br>Make=%{y}<extra></extra>\",\"ids\":[\"NISSAN\"],\"legendgroup\":\"AR\",\"marker\":{\"color\":\"#00cc96\",\"pattern\":{\"shape\":\"\"}},\"name\":\"AR\",\"offsetgroup\":\"AR\",\"orientation\":\"h\",\"showlegend\":true,\"text\":[1.0],\"textposition\":\"auto\",\"x\":[1],\"xaxis\":\"x\",\"y\":[\"NISSAN\"],\"yaxis\":\"y\",\"type\":\"bar\"},{\"alignmentgroup\":\"True\",\"hovertemplate\":\"State=OR<br>Model Year=2019<br>EV Count=%{text}<br>Make=%{y}<extra></extra>\",\"ids\":[\"NISSAN\"],\"legendgroup\":\"OR\",\"marker\":{\"color\":\"#19d3f3\",\"pattern\":{\"shape\":\"\"}},\"name\":\"OR\",\"offsetgroup\":\"OR\",\"orientation\":\"h\",\"showlegend\":true,\"text\":[1.0],\"textposition\":\"auto\",\"x\":[1],\"xaxis\":\"x\",\"y\":[\"NISSAN\"],\"yaxis\":\"y\",\"type\":\"bar\"},{\"alignmentgroup\":\"True\",\"hovertemplate\":\"State=HI<br>Model Year=2019<br>EV Count=%{text}<br>Make=%{y}<extra></extra>\",\"ids\":[\"TESLA\"],\"legendgroup\":\"HI\",\"marker\":{\"color\":\"#ab63fa\",\"pattern\":{\"shape\":\"\"}},\"name\":\"HI\",\"offsetgroup\":\"HI\",\"orientation\":\"h\",\"showlegend\":true,\"text\":[1.0],\"textposition\":\"auto\",\"x\":[1],\"xaxis\":\"x\",\"y\":[\"TESLA\"],\"yaxis\":\"y\",\"type\":\"bar\"},{\"alignmentgroup\":\"True\",\"hovertemplate\":\"State=NJ<br>Model Year=2019<br>EV Count=%{text}<br>Make=%{y}<extra></extra>\",\"ids\":[\"HYUNDAI\"],\"legendgroup\":\"NJ\",\"marker\":{\"color\":\"#FFA15A\",\"pattern\":{\"shape\":\"\"}},\"name\":\"NJ\",\"offsetgroup\":\"NJ\",\"orientation\":\"h\",\"showlegend\":true,\"text\":[1.0],\"textposition\":\"auto\",\"x\":[1],\"xaxis\":\"x\",\"y\":[\"HYUNDAI\"],\"yaxis\":\"y\",\"type\":\"bar\"},{\"alignmentgroup\":\"True\",\"hovertemplate\":\"State=MN<br>Model Year=2019<br>EV Count=%{text}<br>Make=%{y}<extra></extra>\",\"ids\":[\"TESLA\"],\"legendgroup\":\"MN\",\"marker\":{\"color\":\"#19d3f3\",\"pattern\":{\"shape\":\"\"}},\"name\":\"MN\",\"offsetgroup\":\"MN\",\"orientation\":\"h\",\"showlegend\":true,\"text\":[1.0],\"textposition\":\"auto\",\"x\":[1],\"xaxis\":\"x\",\"y\":[\"TESLA\"],\"yaxis\":\"y\",\"type\":\"bar\"}],\"name\":\"2019\"},{\"data\":[{\"alignmentgroup\":\"True\",\"hovertemplate\":\"State=WA<br>Model Year=2020<br>EV Count=%{text}<br>Make=%{y}<extra></extra>\",\"ids\":[\"AUDI\",\"BENTLEY\",\"BMW\",\"CHEVROLET\",\"CHRYSLER\",\"FORD\",\"HONDA\",\"HYUNDAI\",\"JAGUAR\",\"KIA\",\"LAND ROVER\",\"LINCOLN\",\"MERCEDES-BENZ\",\"MINI\",\"MITSUBISHI\",\"NISSAN\",\"PORSCHE\",\"TESLA\",\"TOYOTA\",\"VOLVO\"],\"legendgroup\":\"WA\",\"marker\":{\"color\":\"#636efa\",\"pattern\":{\"shape\":\"\"}},\"name\":\"WA\",\"offsetgroup\":\"WA\",\"orientation\":\"h\",\"showlegend\":true,\"text\":[224.0,1.0,143.0,1013.0,283.0,65.0,79.0,212.0,74.0,534.0,30.0,29.0,31.0,3.0,97.0,580.0,143.0,6996.0,310.0,162.0],\"textposition\":\"auto\",\"x\":[224,1,143,1013,283,65,79,212,74,534,30,29,31,3,97,580,143,6996,310,162],\"xaxis\":\"x\",\"y\":[\"AUDI\",\"BENTLEY\",\"BMW\",\"CHEVROLET\",\"CHRYSLER\",\"FORD\",\"HONDA\",\"HYUNDAI\",\"JAGUAR\",\"KIA\",\"LAND ROVER\",\"LINCOLN\",\"MERCEDES-BENZ\",\"MINI\",\"MITSUBISHI\",\"NISSAN\",\"PORSCHE\",\"TESLA\",\"TOYOTA\",\"VOLVO\"],\"yaxis\":\"y\",\"type\":\"bar\"},{\"alignmentgroup\":\"True\",\"hovertemplate\":\"State=VA<br>Model Year=2020<br>EV Count=%{text}<br>Make=%{y}<extra></extra>\",\"ids\":[\"CHEVROLET\",\"CHRYSLER\",\"TESLA\"],\"legendgroup\":\"VA\",\"marker\":{\"color\":\"#EF553B\",\"pattern\":{\"shape\":\"\"}},\"name\":\"VA\",\"offsetgroup\":\"VA\",\"orientation\":\"h\",\"showlegend\":true,\"text\":[1.0,1.0,2.0],\"textposition\":\"auto\",\"x\":[1,1,2],\"xaxis\":\"x\",\"y\":[\"CHEVROLET\",\"CHRYSLER\",\"TESLA\"],\"yaxis\":\"y\",\"type\":\"bar\"},{\"alignmentgroup\":\"True\",\"hovertemplate\":\"State=CA<br>Model Year=2020<br>EV Count=%{text}<br>Make=%{y}<extra></extra>\",\"ids\":[\"CHRYSLER\",\"TESLA\"],\"legendgroup\":\"CA\",\"marker\":{\"color\":\"#00cc96\",\"pattern\":{\"shape\":\"\"}},\"name\":\"CA\",\"offsetgroup\":\"CA\",\"orientation\":\"h\",\"showlegend\":true,\"text\":[2.0,5.0],\"textposition\":\"auto\",\"x\":[2,5],\"xaxis\":\"x\",\"y\":[\"CHRYSLER\",\"TESLA\"],\"yaxis\":\"y\",\"type\":\"bar\"},{\"alignmentgroup\":\"True\",\"hovertemplate\":\"State=MD<br>Model Year=2020<br>EV Count=%{text}<br>Make=%{y}<extra></extra>\",\"ids\":[\"MERCEDES-BENZ\",\"TESLA\"],\"legendgroup\":\"MD\",\"marker\":{\"color\":\"#ab63fa\",\"pattern\":{\"shape\":\"\"}},\"name\":\"MD\",\"offsetgroup\":\"MD\",\"orientation\":\"h\",\"showlegend\":true,\"text\":[1.0,1.0],\"textposition\":\"auto\",\"x\":[1,1],\"xaxis\":\"x\",\"y\":[\"MERCEDES-BENZ\",\"TESLA\"],\"yaxis\":\"y\",\"type\":\"bar\"},{\"alignmentgroup\":\"True\",\"hovertemplate\":\"State=NV<br>Model Year=2020<br>EV Count=%{text}<br>Make=%{y}<extra></extra>\",\"ids\":[\"TESLA\"],\"legendgroup\":\"NV\",\"marker\":{\"color\":\"#FFA15A\",\"pattern\":{\"shape\":\"\"}},\"name\":\"NV\",\"offsetgroup\":\"NV\",\"orientation\":\"h\",\"showlegend\":true,\"text\":[1.0],\"textposition\":\"auto\",\"x\":[1],\"xaxis\":\"x\",\"y\":[\"TESLA\"],\"yaxis\":\"y\",\"type\":\"bar\"},{\"alignmentgroup\":\"True\",\"hovertemplate\":\"State=CO<br>Model Year=2020<br>EV Count=%{text}<br>Make=%{y}<extra></extra>\",\"ids\":[\"TESLA\"],\"legendgroup\":\"CO\",\"marker\":{\"color\":\"#B6E880\",\"pattern\":{\"shape\":\"\"}},\"name\":\"CO\",\"offsetgroup\":\"CO\",\"orientation\":\"h\",\"showlegend\":true,\"text\":[1.0],\"textposition\":\"auto\",\"x\":[1],\"xaxis\":\"x\",\"y\":[\"TESLA\"],\"yaxis\":\"y\",\"type\":\"bar\"},{\"alignmentgroup\":\"True\",\"hovertemplate\":\"State=TX<br>Model Year=2020<br>EV Count=%{text}<br>Make=%{y}<extra></extra>\",\"ids\":[\"TESLA\"],\"legendgroup\":\"TX\",\"marker\":{\"color\":\"#FECB52\",\"pattern\":{\"shape\":\"\"}},\"name\":\"TX\",\"offsetgroup\":\"TX\",\"orientation\":\"h\",\"showlegend\":true,\"text\":[1.0],\"textposition\":\"auto\",\"x\":[1],\"xaxis\":\"x\",\"y\":[\"TESLA\"],\"yaxis\":\"y\",\"type\":\"bar\"},{\"alignmentgroup\":\"True\",\"hovertemplate\":\"State=NH<br>Model Year=2020<br>EV Count=%{text}<br>Make=%{y}<extra></extra>\",\"ids\":[\"TESLA\"],\"legendgroup\":\"NH\",\"marker\":{\"color\":\"#00cc96\",\"pattern\":{\"shape\":\"\"}},\"name\":\"NH\",\"offsetgroup\":\"NH\",\"orientation\":\"h\",\"showlegend\":true,\"text\":[1.0],\"textposition\":\"auto\",\"x\":[1],\"xaxis\":\"x\",\"y\":[\"TESLA\"],\"yaxis\":\"y\",\"type\":\"bar\"},{\"alignmentgroup\":\"True\",\"hovertemplate\":\"State=DC<br>Model Year=2020<br>EV Count=%{text}<br>Make=%{y}<extra></extra>\",\"ids\":[\"TESLA\"],\"legendgroup\":\"DC\",\"marker\":{\"color\":\"#ab63fa\",\"pattern\":{\"shape\":\"\"}},\"name\":\"DC\",\"offsetgroup\":\"DC\",\"orientation\":\"h\",\"showlegend\":true,\"text\":[2.0],\"textposition\":\"auto\",\"x\":[2],\"xaxis\":\"x\",\"y\":[\"TESLA\"],\"yaxis\":\"y\",\"type\":\"bar\"},{\"alignmentgroup\":\"True\",\"hovertemplate\":\"State=IL<br>Model Year=2020<br>EV Count=%{text}<br>Make=%{y}<extra></extra>\",\"ids\":[\"TESLA\"],\"legendgroup\":\"IL\",\"marker\":{\"color\":\"#FF97FF\",\"pattern\":{\"shape\":\"\"}},\"name\":\"IL\",\"offsetgroup\":\"IL\",\"orientation\":\"h\",\"showlegend\":true,\"text\":[2.0],\"textposition\":\"auto\",\"x\":[2],\"xaxis\":\"x\",\"y\":[\"TESLA\"],\"yaxis\":\"y\",\"type\":\"bar\"},{\"alignmentgroup\":\"True\",\"hovertemplate\":\"State=MO<br>Model Year=2020<br>EV Count=%{text}<br>Make=%{y}<extra></extra>\",\"ids\":[\"TESLA\"],\"legendgroup\":\"MO\",\"marker\":{\"color\":\"#EF553B\",\"pattern\":{\"shape\":\"\"}},\"name\":\"MO\",\"offsetgroup\":\"MO\",\"orientation\":\"h\",\"showlegend\":true,\"text\":[2.0],\"textposition\":\"auto\",\"x\":[2],\"xaxis\":\"x\",\"y\":[\"TESLA\"],\"yaxis\":\"y\",\"type\":\"bar\"},{\"alignmentgroup\":\"True\",\"hovertemplate\":\"State=AR<br>Model Year=2020<br>EV Count=%{text}<br>Make=%{y}<extra></extra>\",\"ids\":[\"TESLA\"],\"legendgroup\":\"AR\",\"marker\":{\"color\":\"#00cc96\",\"pattern\":{\"shape\":\"\"}},\"name\":\"AR\",\"offsetgroup\":\"AR\",\"orientation\":\"h\",\"showlegend\":true,\"text\":[1.0],\"textposition\":\"auto\",\"x\":[1],\"xaxis\":\"x\",\"y\":[\"TESLA\"],\"yaxis\":\"y\",\"type\":\"bar\"},{\"alignmentgroup\":\"True\",\"hovertemplate\":\"State=NC<br>Model Year=2020<br>EV Count=%{text}<br>Make=%{y}<extra></extra>\",\"ids\":[\"KIA\"],\"legendgroup\":\"NC\",\"marker\":{\"color\":\"#FFA15A\",\"pattern\":{\"shape\":\"\"}},\"name\":\"NC\",\"offsetgroup\":\"NC\",\"orientation\":\"h\",\"showlegend\":true,\"text\":[1.0],\"textposition\":\"auto\",\"x\":[1],\"xaxis\":\"x\",\"y\":[\"KIA\"],\"yaxis\":\"y\",\"type\":\"bar\"},{\"alignmentgroup\":\"True\",\"hovertemplate\":\"State=NE<br>Model Year=2020<br>EV Count=%{text}<br>Make=%{y}<extra></extra>\",\"ids\":[\"TESLA\"],\"legendgroup\":\"NE\",\"marker\":{\"color\":\"#EF553B\",\"pattern\":{\"shape\":\"\"}},\"name\":\"NE\",\"offsetgroup\":\"NE\",\"orientation\":\"h\",\"showlegend\":true,\"text\":[1.0],\"textposition\":\"auto\",\"x\":[1],\"xaxis\":\"x\",\"y\":[\"TESLA\"],\"yaxis\":\"y\",\"type\":\"bar\"},{\"alignmentgroup\":\"True\",\"hovertemplate\":\"State=NJ<br>Model Year=2020<br>EV Count=%{text}<br>Make=%{y}<extra></extra>\",\"ids\":[\"TOYOTA\"],\"legendgroup\":\"NJ\",\"marker\":{\"color\":\"#FFA15A\",\"pattern\":{\"shape\":\"\"}},\"name\":\"NJ\",\"offsetgroup\":\"NJ\",\"orientation\":\"h\",\"showlegend\":true,\"text\":[1.0],\"textposition\":\"auto\",\"x\":[1],\"xaxis\":\"x\",\"y\":[\"TOYOTA\"],\"yaxis\":\"y\",\"type\":\"bar\"},{\"alignmentgroup\":\"True\",\"hovertemplate\":\"State=TN<br>Model Year=2020<br>EV Count=%{text}<br>Make=%{y}<extra></extra>\",\"ids\":[\"TESLA\"],\"legendgroup\":\"TN\",\"marker\":{\"color\":\"#FF6692\",\"pattern\":{\"shape\":\"\"}},\"name\":\"TN\",\"offsetgroup\":\"TN\",\"orientation\":\"h\",\"showlegend\":true,\"text\":[1.0],\"textposition\":\"auto\",\"x\":[1],\"xaxis\":\"x\",\"y\":[\"TESLA\"],\"yaxis\":\"y\",\"type\":\"bar\"},{\"alignmentgroup\":\"True\",\"hovertemplate\":\"State=WY<br>Model Year=2020<br>EV Count=%{text}<br>Make=%{y}<extra></extra>\",\"ids\":[\"TESLA\"],\"legendgroup\":\"WY\",\"marker\":{\"color\":\"#B6E880\",\"pattern\":{\"shape\":\"\"}},\"name\":\"WY\",\"offsetgroup\":\"WY\",\"orientation\":\"h\",\"showlegend\":true,\"text\":[1.0],\"textposition\":\"auto\",\"x\":[1],\"xaxis\":\"x\",\"y\":[\"TESLA\"],\"yaxis\":\"y\",\"type\":\"bar\"}],\"name\":\"2020\"},{\"data\":[{\"alignmentgroup\":\"True\",\"hovertemplate\":\"State=WA<br>Model Year=2021<br>EV Count=%{text}<br>Make=%{y}<extra></extra>\",\"ids\":[\"AUDI\",\"BENTLEY\",\"BMW\",\"CHEVROLET\",\"CHRYSLER\",\"FORD\",\"HONDA\",\"HYUNDAI\",\"JAGUAR\",\"JEEP\",\"KIA\",\"LAND ROVER\",\"LINCOLN\",\"MINI\",\"MITSUBISHI\",\"NISSAN\",\"POLESTAR\",\"PORSCHE\",\"TESLA\",\"TOYOTA\",\"VOLKSWAGEN\",\"VOLVO\"],\"legendgroup\":\"WA\",\"marker\":{\"color\":\"#636efa\",\"pattern\":{\"shape\":\"\"}},\"name\":\"WA\",\"offsetgroup\":\"WA\",\"orientation\":\"h\",\"showlegend\":true,\"text\":[543.0,1.0,634.0,376.0,501.0,880.0,17.0,187.0,6.0,625.0,73.0,8.0,41.0,143.0,8.0,533.0,97.0,145.0,10990.0,930.0,984.0,577.0],\"textposition\":\"auto\",\"x\":[543,1,634,376,501,880,17,187,6,625,73,8,41,143,8,533,97,145,10990,930,984,577],\"xaxis\":\"x\",\"y\":[\"AUDI\",\"BENTLEY\",\"BMW\",\"CHEVROLET\",\"CHRYSLER\",\"FORD\",\"HONDA\",\"HYUNDAI\",\"JAGUAR\",\"JEEP\",\"KIA\",\"LAND ROVER\",\"LINCOLN\",\"MINI\",\"MITSUBISHI\",\"NISSAN\",\"POLESTAR\",\"PORSCHE\",\"TESLA\",\"TOYOTA\",\"VOLKSWAGEN\",\"VOLVO\"],\"yaxis\":\"y\",\"type\":\"bar\"},{\"alignmentgroup\":\"True\",\"hovertemplate\":\"State=VA<br>Model Year=2021<br>EV Count=%{text}<br>Make=%{y}<extra></extra>\",\"ids\":[\"BMW\",\"TESLA\",\"VOLKSWAGEN\"],\"legendgroup\":\"VA\",\"marker\":{\"color\":\"#EF553B\",\"pattern\":{\"shape\":\"\"}},\"name\":\"VA\",\"offsetgroup\":\"VA\",\"orientation\":\"h\",\"showlegend\":true,\"text\":[1.0,4.0,1.0],\"textposition\":\"auto\",\"x\":[1,4,1],\"xaxis\":\"x\",\"y\":[\"BMW\",\"TESLA\",\"VOLKSWAGEN\"],\"yaxis\":\"y\",\"type\":\"bar\"},{\"alignmentgroup\":\"True\",\"hovertemplate\":\"State=CA<br>Model Year=2021<br>EV Count=%{text}<br>Make=%{y}<extra></extra>\",\"ids\":[\"FORD\",\"JEEP\",\"NISSAN\",\"TESLA\",\"TOYOTA\",\"VOLKSWAGEN\",\"VOLVO\"],\"legendgroup\":\"CA\",\"marker\":{\"color\":\"#00cc96\",\"pattern\":{\"shape\":\"\"}},\"name\":\"CA\",\"offsetgroup\":\"CA\",\"orientation\":\"h\",\"showlegend\":true,\"text\":[1.0,1.0,1.0,10.0,2.0,1.0,3.0],\"textposition\":\"auto\",\"x\":[1,1,1,10,2,1,3],\"xaxis\":\"x\",\"y\":[\"FORD\",\"JEEP\",\"NISSAN\",\"TESLA\",\"TOYOTA\",\"VOLKSWAGEN\",\"VOLVO\"],\"yaxis\":\"y\",\"type\":\"bar\"},{\"alignmentgroup\":\"True\",\"hovertemplate\":\"State=MD<br>Model Year=2021<br>EV Count=%{text}<br>Make=%{y}<extra></extra>\",\"ids\":[\"CHRYSLER\",\"TESLA\",\"TOYOTA\"],\"legendgroup\":\"MD\",\"marker\":{\"color\":\"#ab63fa\",\"pattern\":{\"shape\":\"\"}},\"name\":\"MD\",\"offsetgroup\":\"MD\",\"orientation\":\"h\",\"showlegend\":true,\"text\":[1.0,5.0,1.0],\"textposition\":\"auto\",\"x\":[1,5,1],\"xaxis\":\"x\",\"y\":[\"CHRYSLER\",\"TESLA\",\"TOYOTA\"],\"yaxis\":\"y\",\"type\":\"bar\"},{\"alignmentgroup\":\"True\",\"hovertemplate\":\"State=NV<br>Model Year=2021<br>EV Count=%{text}<br>Make=%{y}<extra></extra>\",\"ids\":[\"TESLA\"],\"legendgroup\":\"NV\",\"marker\":{\"color\":\"#FFA15A\",\"pattern\":{\"shape\":\"\"}},\"name\":\"NV\",\"offsetgroup\":\"NV\",\"orientation\":\"h\",\"showlegend\":true,\"text\":[3.0],\"textposition\":\"auto\",\"x\":[3],\"xaxis\":\"x\",\"y\":[\"TESLA\"],\"yaxis\":\"y\",\"type\":\"bar\"},{\"alignmentgroup\":\"True\",\"hovertemplate\":\"State=GA<br>Model Year=2021<br>EV Count=%{text}<br>Make=%{y}<extra></extra>\",\"ids\":[\"VOLKSWAGEN\"],\"legendgroup\":\"GA\",\"marker\":{\"color\":\"#19d3f3\",\"pattern\":{\"shape\":\"\"}},\"name\":\"GA\",\"offsetgroup\":\"GA\",\"orientation\":\"h\",\"showlegend\":true,\"text\":[1.0],\"textposition\":\"auto\",\"x\":[1],\"xaxis\":\"x\",\"y\":[\"VOLKSWAGEN\"],\"yaxis\":\"y\",\"type\":\"bar\"},{\"alignmentgroup\":\"True\",\"hovertemplate\":\"State=AZ<br>Model Year=2021<br>EV Count=%{text}<br>Make=%{y}<extra></extra>\",\"ids\":[\"TESLA\",\"TOYOTA\"],\"legendgroup\":\"AZ\",\"marker\":{\"color\":\"#FF6692\",\"pattern\":{\"shape\":\"\"}},\"name\":\"AZ\",\"offsetgroup\":\"AZ\",\"orientation\":\"h\",\"showlegend\":true,\"text\":[2.0,1.0],\"textposition\":\"auto\",\"x\":[2,1],\"xaxis\":\"x\",\"y\":[\"TESLA\",\"TOYOTA\"],\"yaxis\":\"y\",\"type\":\"bar\"},{\"alignmentgroup\":\"True\",\"hovertemplate\":\"State=CO<br>Model Year=2021<br>EV Count=%{text}<br>Make=%{y}<extra></extra>\",\"ids\":[\"CHEVROLET\",\"CHRYSLER\",\"POLESTAR\"],\"legendgroup\":\"CO\",\"marker\":{\"color\":\"#B6E880\",\"pattern\":{\"shape\":\"\"}},\"name\":\"CO\",\"offsetgroup\":\"CO\",\"orientation\":\"h\",\"showlegend\":true,\"text\":[1.0,1.0,1.0],\"textposition\":\"auto\",\"x\":[1,1,1],\"xaxis\":\"x\",\"y\":[\"CHEVROLET\",\"CHRYSLER\",\"POLESTAR\"],\"yaxis\":\"y\",\"type\":\"bar\"},{\"alignmentgroup\":\"True\",\"hovertemplate\":\"State=CT<br>Model Year=2021<br>EV Count=%{text}<br>Make=%{y}<extra></extra>\",\"ids\":[\"TOYOTA\"],\"legendgroup\":\"CT\",\"marker\":{\"color\":\"#FF97FF\",\"pattern\":{\"shape\":\"\"}},\"name\":\"CT\",\"offsetgroup\":\"CT\",\"orientation\":\"h\",\"showlegend\":true,\"text\":[1.0],\"textposition\":\"auto\",\"x\":[1],\"xaxis\":\"x\",\"y\":[\"TOYOTA\"],\"yaxis\":\"y\",\"type\":\"bar\"},{\"alignmentgroup\":\"True\",\"hovertemplate\":\"State=TX<br>Model Year=2021<br>EV Count=%{text}<br>Make=%{y}<extra></extra>\",\"ids\":[\"TESLA\"],\"legendgroup\":\"TX\",\"marker\":{\"color\":\"#FECB52\",\"pattern\":{\"shape\":\"\"}},\"name\":\"TX\",\"offsetgroup\":\"TX\",\"orientation\":\"h\",\"showlegend\":true,\"text\":[1.0],\"textposition\":\"auto\",\"x\":[1],\"xaxis\":\"x\",\"y\":[\"TESLA\"],\"yaxis\":\"y\",\"type\":\"bar\"},{\"alignmentgroup\":\"True\",\"hovertemplate\":\"State=NY<br>Model Year=2021<br>EV Count=%{text}<br>Make=%{y}<extra></extra>\",\"ids\":[\"TESLA\"],\"legendgroup\":\"NY\",\"marker\":{\"color\":\"#19d3f3\",\"pattern\":{\"shape\":\"\"}},\"name\":\"NY\",\"offsetgroup\":\"NY\",\"orientation\":\"h\",\"showlegend\":true,\"text\":[1.0],\"textposition\":\"auto\",\"x\":[1],\"xaxis\":\"x\",\"y\":[\"TESLA\"],\"yaxis\":\"y\",\"type\":\"bar\"},{\"alignmentgroup\":\"True\",\"hovertemplate\":\"State=UT<br>Model Year=2021<br>EV Count=%{text}<br>Make=%{y}<extra></extra>\",\"ids\":[\"VOLKSWAGEN\"],\"legendgroup\":\"UT\",\"marker\":{\"color\":\"#FF6692\",\"pattern\":{\"shape\":\"\"}},\"name\":\"UT\",\"offsetgroup\":\"UT\",\"orientation\":\"h\",\"showlegend\":true,\"text\":[1.0],\"textposition\":\"auto\",\"x\":[1],\"xaxis\":\"x\",\"y\":[\"VOLKSWAGEN\"],\"yaxis\":\"y\",\"type\":\"bar\"},{\"alignmentgroup\":\"True\",\"hovertemplate\":\"State=IL<br>Model Year=2021<br>EV Count=%{text}<br>Make=%{y}<extra></extra>\",\"ids\":[\"TESLA\"],\"legendgroup\":\"IL\",\"marker\":{\"color\":\"#FF97FF\",\"pattern\":{\"shape\":\"\"}},\"name\":\"IL\",\"offsetgroup\":\"IL\",\"orientation\":\"h\",\"showlegend\":true,\"text\":[1.0],\"textposition\":\"auto\",\"x\":[1],\"xaxis\":\"x\",\"y\":[\"TESLA\"],\"yaxis\":\"y\",\"type\":\"bar\"},{\"alignmentgroup\":\"True\",\"hovertemplate\":\"State=KS<br>Model Year=2021<br>EV Count=%{text}<br>Make=%{y}<extra></extra>\",\"ids\":[\"TESLA\"],\"legendgroup\":\"KS\",\"marker\":{\"color\":\"#ab63fa\",\"pattern\":{\"shape\":\"\"}},\"name\":\"KS\",\"offsetgroup\":\"KS\",\"orientation\":\"h\",\"showlegend\":true,\"text\":[2.0],\"textposition\":\"auto\",\"x\":[2],\"xaxis\":\"x\",\"y\":[\"TESLA\"],\"yaxis\":\"y\",\"type\":\"bar\"},{\"alignmentgroup\":\"True\",\"hovertemplate\":\"State=NC<br>Model Year=2021<br>EV Count=%{text}<br>Make=%{y}<extra></extra>\",\"ids\":[\"TESLA\"],\"legendgroup\":\"NC\",\"marker\":{\"color\":\"#FFA15A\",\"pattern\":{\"shape\":\"\"}},\"name\":\"NC\",\"offsetgroup\":\"NC\",\"orientation\":\"h\",\"showlegend\":true,\"text\":[2.0],\"textposition\":\"auto\",\"x\":[2],\"xaxis\":\"x\",\"y\":[\"TESLA\"],\"yaxis\":\"y\",\"type\":\"bar\"},{\"alignmentgroup\":\"True\",\"hovertemplate\":\"State=OR<br>Model Year=2021<br>EV Count=%{text}<br>Make=%{y}<extra></extra>\",\"ids\":[\"JEEP\"],\"legendgroup\":\"OR\",\"marker\":{\"color\":\"#19d3f3\",\"pattern\":{\"shape\":\"\"}},\"name\":\"OR\",\"offsetgroup\":\"OR\",\"orientation\":\"h\",\"showlegend\":true,\"text\":[1.0],\"textposition\":\"auto\",\"x\":[1],\"xaxis\":\"x\",\"y\":[\"JEEP\"],\"yaxis\":\"y\",\"type\":\"bar\"},{\"alignmentgroup\":\"True\",\"hovertemplate\":\"State=SC<br>Model Year=2021<br>EV Count=%{text}<br>Make=%{y}<extra></extra>\",\"ids\":[\"FORD\",\"TESLA\"],\"legendgroup\":\"SC\",\"marker\":{\"color\":\"#FF6692\",\"pattern\":{\"shape\":\"\"}},\"name\":\"SC\",\"offsetgroup\":\"SC\",\"orientation\":\"h\",\"showlegend\":true,\"text\":[1.0,2.0],\"textposition\":\"auto\",\"x\":[1,2],\"xaxis\":\"x\",\"y\":[\"FORD\",\"TESLA\"],\"yaxis\":\"y\",\"type\":\"bar\"},{\"alignmentgroup\":\"True\",\"hovertemplate\":\"State=NE<br>Model Year=2021<br>EV Count=%{text}<br>Make=%{y}<extra></extra>\",\"ids\":[\"AUDI\",\"CHRYSLER\",\"KIA\"],\"legendgroup\":\"NE\",\"marker\":{\"color\":\"#EF553B\",\"pattern\":{\"shape\":\"\"}},\"name\":\"NE\",\"offsetgroup\":\"NE\",\"orientation\":\"h\",\"showlegend\":true,\"text\":[1.0,1.0,1.0],\"textposition\":\"auto\",\"x\":[1,1,1],\"xaxis\":\"x\",\"y\":[\"AUDI\",\"CHRYSLER\",\"KIA\"],\"yaxis\":\"y\",\"type\":\"bar\"},{\"alignmentgroup\":\"True\",\"hovertemplate\":\"State=HI<br>Model Year=2021<br>EV Count=%{text}<br>Make=%{y}<extra></extra>\",\"ids\":[\"JEEP\"],\"legendgroup\":\"HI\",\"marker\":{\"color\":\"#ab63fa\",\"pattern\":{\"shape\":\"\"}},\"name\":\"HI\",\"offsetgroup\":\"HI\",\"orientation\":\"h\",\"showlegend\":true,\"text\":[1.0],\"textposition\":\"auto\",\"x\":[1],\"xaxis\":\"x\",\"y\":[\"JEEP\"],\"yaxis\":\"y\",\"type\":\"bar\"},{\"alignmentgroup\":\"True\",\"hovertemplate\":\"State=NJ<br>Model Year=2021<br>EV Count=%{text}<br>Make=%{y}<extra></extra>\",\"ids\":[\"JEEP\"],\"legendgroup\":\"NJ\",\"marker\":{\"color\":\"#FFA15A\",\"pattern\":{\"shape\":\"\"}},\"name\":\"NJ\",\"offsetgroup\":\"NJ\",\"orientation\":\"h\",\"showlegend\":true,\"text\":[1.0],\"textposition\":\"auto\",\"x\":[1],\"xaxis\":\"x\",\"y\":[\"JEEP\"],\"yaxis\":\"y\",\"type\":\"bar\"},{\"alignmentgroup\":\"True\",\"hovertemplate\":\"State=TN<br>Model Year=2021<br>EV Count=%{text}<br>Make=%{y}<extra></extra>\",\"ids\":[\"TESLA\"],\"legendgroup\":\"TN\",\"marker\":{\"color\":\"#FF6692\",\"pattern\":{\"shape\":\"\"}},\"name\":\"TN\",\"offsetgroup\":\"TN\",\"orientation\":\"h\",\"showlegend\":true,\"text\":[2.0],\"textposition\":\"auto\",\"x\":[2],\"xaxis\":\"x\",\"y\":[\"TESLA\"],\"yaxis\":\"y\",\"type\":\"bar\"},{\"alignmentgroup\":\"True\",\"hovertemplate\":\"State=MS<br>Model Year=2021<br>EV Count=%{text}<br>Make=%{y}<extra></extra>\",\"ids\":[\"TESLA\"],\"legendgroup\":\"MS\",\"marker\":{\"color\":\"#FF97FF\",\"pattern\":{\"shape\":\"\"}},\"name\":\"MS\",\"offsetgroup\":\"MS\",\"orientation\":\"h\",\"showlegend\":true,\"text\":[1.0],\"textposition\":\"auto\",\"x\":[1],\"xaxis\":\"x\",\"y\":[\"TESLA\"],\"yaxis\":\"y\",\"type\":\"bar\"},{\"alignmentgroup\":\"True\",\"hovertemplate\":\"State=SD<br>Model Year=2021<br>EV Count=%{text}<br>Make=%{y}<extra></extra>\",\"ids\":[\"TESLA\"],\"legendgroup\":\"SD\",\"marker\":{\"color\":\"#FECB52\",\"pattern\":{\"shape\":\"\"}},\"name\":\"SD\",\"offsetgroup\":\"SD\",\"orientation\":\"h\",\"showlegend\":true,\"text\":[1.0],\"textposition\":\"auto\",\"x\":[1],\"xaxis\":\"x\",\"y\":[\"TESLA\"],\"yaxis\":\"y\",\"type\":\"bar\"},{\"alignmentgroup\":\"True\",\"hovertemplate\":\"State=WI<br>Model Year=2021<br>EV Count=%{text}<br>Make=%{y}<extra></extra>\",\"ids\":[\"TESLA\"],\"legendgroup\":\"WI\",\"marker\":{\"color\":\"#636efa\",\"pattern\":{\"shape\":\"\"}},\"name\":\"WI\",\"offsetgroup\":\"WI\",\"orientation\":\"h\",\"showlegend\":true,\"text\":[1.0],\"textposition\":\"auto\",\"x\":[1],\"xaxis\":\"x\",\"y\":[\"TESLA\"],\"yaxis\":\"y\",\"type\":\"bar\"}],\"name\":\"2021\"},{\"data\":[{\"alignmentgroup\":\"True\",\"hovertemplate\":\"State=WA<br>Model Year=2022<br>EV Count=%{text}<br>Make=%{y}<extra></extra>\",\"ids\":[\"AUDI\",\"BENTLEY\",\"BMW\",\"CHEVROLET\",\"CHRYSLER\",\"FORD\",\"HYUNDAI\",\"JAGUAR\",\"JEEP\",\"KIA\",\"LEXUS\",\"LINCOLN\",\"LUCID MOTORS\",\"MERCEDES-BENZ\",\"MINI\",\"MITSUBISHI\",\"NISSAN\",\"POLESTAR\",\"PORSCHE\",\"RIVIAN\",\"TESLA\",\"TOYOTA\",\"VOLKSWAGEN\",\"VOLVO\"],\"legendgroup\":\"WA\",\"marker\":{\"color\":\"#636efa\",\"pattern\":{\"shape\":\"\"}},\"name\":\"WA\",\"offsetgroup\":\"WA\",\"orientation\":\"h\",\"showlegend\":true,\"text\":[585.0,1.0,901.0,891.0,237.0,1248.0,631.0,19.0,521.0,2150.0,33.0,94.0,65.0,130.0,212.0,89.0,969.0,372.0,200.0,884.0,14524.0,419.0,428.0,878.0],\"textposition\":\"auto\",\"x\":[585,1,901,891,237,1248,631,19,521,2150,33,94,65,130,212,89,969,372,200,884,14524,419,428,878],\"xaxis\":\"x\",\"y\":[\"AUDI\",\"BENTLEY\",\"BMW\",\"CHEVROLET\",\"CHRYSLER\",\"FORD\",\"HYUNDAI\",\"JAGUAR\",\"JEEP\",\"KIA\",\"LEXUS\",\"LINCOLN\",\"LUCID MOTORS\",\"MERCEDES-BENZ\",\"MINI\",\"MITSUBISHI\",\"NISSAN\",\"POLESTAR\",\"PORSCHE\",\"RIVIAN\",\"TESLA\",\"TOYOTA\",\"VOLKSWAGEN\",\"VOLVO\"],\"yaxis\":\"y\",\"type\":\"bar\"},{\"alignmentgroup\":\"True\",\"hovertemplate\":\"State=VA<br>Model Year=2022<br>EV Count=%{text}<br>Make=%{y}<extra></extra>\",\"ids\":[\"BMW\",\"CHEVROLET\",\"JEEP\",\"TESLA\",\"TOYOTA\"],\"legendgroup\":\"VA\",\"marker\":{\"color\":\"#EF553B\",\"pattern\":{\"shape\":\"\"}},\"name\":\"VA\",\"offsetgroup\":\"VA\",\"orientation\":\"h\",\"showlegend\":true,\"text\":[1.0,1.0,1.0,2.0,1.0],\"textposition\":\"auto\",\"x\":[1,1,1,2,1],\"xaxis\":\"x\",\"y\":[\"BMW\",\"CHEVROLET\",\"JEEP\",\"TESLA\",\"TOYOTA\"],\"yaxis\":\"y\",\"type\":\"bar\"},{\"alignmentgroup\":\"True\",\"hovertemplate\":\"State=CA<br>Model Year=2022<br>EV Count=%{text}<br>Make=%{y}<extra></extra>\",\"ids\":[\"HYUNDAI\",\"KIA\",\"TESLA\",\"VOLVO\"],\"legendgroup\":\"CA\",\"marker\":{\"color\":\"#00cc96\",\"pattern\":{\"shape\":\"\"}},\"name\":\"CA\",\"offsetgroup\":\"CA\",\"orientation\":\"h\",\"showlegend\":true,\"text\":[1.0,1.0,6.0,1.0],\"textposition\":\"auto\",\"x\":[1,1,6,1],\"xaxis\":\"x\",\"y\":[\"HYUNDAI\",\"KIA\",\"TESLA\",\"VOLVO\"],\"yaxis\":\"y\",\"type\":\"bar\"},{\"alignmentgroup\":\"True\",\"hovertemplate\":\"State=MD<br>Model Year=2022<br>EV Count=%{text}<br>Make=%{y}<extra></extra>\",\"ids\":[\"BMW\",\"FORD\",\"HYUNDAI\",\"VOLVO\"],\"legendgroup\":\"MD\",\"marker\":{\"color\":\"#ab63fa\",\"pattern\":{\"shape\":\"\"}},\"name\":\"MD\",\"offsetgroup\":\"MD\",\"orientation\":\"h\",\"showlegend\":true,\"text\":[1.0,1.0,1.0,1.0],\"textposition\":\"auto\",\"x\":[1,1,1,1],\"xaxis\":\"x\",\"y\":[\"BMW\",\"FORD\",\"HYUNDAI\",\"VOLVO\"],\"yaxis\":\"y\",\"type\":\"bar\"},{\"alignmentgroup\":\"True\",\"hovertemplate\":\"State=GA<br>Model Year=2022<br>EV Count=%{text}<br>Make=%{y}<extra></extra>\",\"ids\":[\"KIA\",\"VOLVO\"],\"legendgroup\":\"GA\",\"marker\":{\"color\":\"#19d3f3\",\"pattern\":{\"shape\":\"\"}},\"name\":\"GA\",\"offsetgroup\":\"GA\",\"orientation\":\"h\",\"showlegend\":true,\"text\":[1.0,1.0],\"textposition\":\"auto\",\"x\":[1,1],\"xaxis\":\"x\",\"y\":[\"KIA\",\"VOLVO\"],\"yaxis\":\"y\",\"type\":\"bar\"},{\"alignmentgroup\":\"True\",\"hovertemplate\":\"State=AZ<br>Model Year=2022<br>EV Count=%{text}<br>Make=%{y}<extra></extra>\",\"ids\":[\"VOLVO\"],\"legendgroup\":\"AZ\",\"marker\":{\"color\":\"#FF6692\",\"pattern\":{\"shape\":\"\"}},\"name\":\"AZ\",\"offsetgroup\":\"AZ\",\"orientation\":\"h\",\"showlegend\":true,\"text\":[1.0],\"textposition\":\"auto\",\"x\":[1],\"xaxis\":\"x\",\"y\":[\"VOLVO\"],\"yaxis\":\"y\",\"type\":\"bar\"},{\"alignmentgroup\":\"True\",\"hovertemplate\":\"State=CO<br>Model Year=2022<br>EV Count=%{text}<br>Make=%{y}<extra></extra>\",\"ids\":[\"BMW\",\"TESLA\"],\"legendgroup\":\"CO\",\"marker\":{\"color\":\"#B6E880\",\"pattern\":{\"shape\":\"\"}},\"name\":\"CO\",\"offsetgroup\":\"CO\",\"orientation\":\"h\",\"showlegend\":true,\"text\":[1.0,2.0],\"textposition\":\"auto\",\"x\":[1,2],\"xaxis\":\"x\",\"y\":[\"BMW\",\"TESLA\"],\"yaxis\":\"y\",\"type\":\"bar\"},{\"alignmentgroup\":\"True\",\"hovertemplate\":\"State=CT<br>Model Year=2022<br>EV Count=%{text}<br>Make=%{y}<extra></extra>\",\"ids\":[\"TESLA\"],\"legendgroup\":\"CT\",\"marker\":{\"color\":\"#FF97FF\",\"pattern\":{\"shape\":\"\"}},\"name\":\"CT\",\"offsetgroup\":\"CT\",\"orientation\":\"h\",\"showlegend\":true,\"text\":[1.0],\"textposition\":\"auto\",\"x\":[1],\"xaxis\":\"x\",\"y\":[\"TESLA\"],\"yaxis\":\"y\",\"type\":\"bar\"},{\"alignmentgroup\":\"True\",\"hovertemplate\":\"State=TX<br>Model Year=2022<br>EV Count=%{text}<br>Make=%{y}<extra></extra>\",\"ids\":[\"TESLA\"],\"legendgroup\":\"TX\",\"marker\":{\"color\":\"#FECB52\",\"pattern\":{\"shape\":\"\"}},\"name\":\"TX\",\"offsetgroup\":\"TX\",\"orientation\":\"h\",\"showlegend\":true,\"text\":[3.0],\"textposition\":\"auto\",\"x\":[3],\"xaxis\":\"x\",\"y\":[\"TESLA\"],\"yaxis\":\"y\",\"type\":\"bar\"},{\"alignmentgroup\":\"True\",\"hovertemplate\":\"State=LA<br>Model Year=2022<br>EV Count=%{text}<br>Make=%{y}<extra></extra>\",\"ids\":[\"KIA\",\"TESLA\"],\"legendgroup\":\"LA\",\"marker\":{\"color\":\"#EF553B\",\"pattern\":{\"shape\":\"\"}},\"name\":\"LA\",\"offsetgroup\":\"LA\",\"orientation\":\"h\",\"showlegend\":true,\"text\":[1.0,1.0],\"textposition\":\"auto\",\"x\":[1,1],\"xaxis\":\"x\",\"y\":[\"KIA\",\"TESLA\"],\"yaxis\":\"y\",\"type\":\"bar\"},{\"alignmentgroup\":\"True\",\"hovertemplate\":\"State=DC<br>Model Year=2022<br>EV Count=%{text}<br>Make=%{y}<extra></extra>\",\"ids\":[\"TESLA\"],\"legendgroup\":\"DC\",\"marker\":{\"color\":\"#ab63fa\",\"pattern\":{\"shape\":\"\"}},\"name\":\"DC\",\"offsetgroup\":\"DC\",\"orientation\":\"h\",\"showlegend\":true,\"text\":[1.0],\"textposition\":\"auto\",\"x\":[1],\"xaxis\":\"x\",\"y\":[\"TESLA\"],\"yaxis\":\"y\",\"type\":\"bar\"},{\"alignmentgroup\":\"True\",\"hovertemplate\":\"State=FL<br>Model Year=2022<br>EV Count=%{text}<br>Make=%{y}<extra></extra>\",\"ids\":[\"TOYOTA\"],\"legendgroup\":\"FL\",\"marker\":{\"color\":\"#FFA15A\",\"pattern\":{\"shape\":\"\"}},\"name\":\"FL\",\"offsetgroup\":\"FL\",\"orientation\":\"h\",\"showlegend\":true,\"text\":[2.0],\"textposition\":\"auto\",\"x\":[2],\"xaxis\":\"x\",\"y\":[\"TOYOTA\"],\"yaxis\":\"y\",\"type\":\"bar\"},{\"alignmentgroup\":\"True\",\"hovertemplate\":\"State=PA<br>Model Year=2022<br>EV Count=%{text}<br>Make=%{y}<extra></extra>\",\"ids\":[\"TESLA\"],\"legendgroup\":\"PA\",\"marker\":{\"color\":\"#636efa\",\"pattern\":{\"shape\":\"\"}},\"name\":\"PA\",\"offsetgroup\":\"PA\",\"orientation\":\"h\",\"showlegend\":true,\"text\":[1.0],\"textposition\":\"auto\",\"x\":[1],\"xaxis\":\"x\",\"y\":[\"TESLA\"],\"yaxis\":\"y\",\"type\":\"bar\"},{\"alignmentgroup\":\"True\",\"hovertemplate\":\"State=AR<br>Model Year=2022<br>EV Count=%{text}<br>Make=%{y}<extra></extra>\",\"ids\":[\"TESLA\"],\"legendgroup\":\"AR\",\"marker\":{\"color\":\"#00cc96\",\"pattern\":{\"shape\":\"\"}},\"name\":\"AR\",\"offsetgroup\":\"AR\",\"orientation\":\"h\",\"showlegend\":true,\"text\":[1.0],\"textposition\":\"auto\",\"x\":[1],\"xaxis\":\"x\",\"y\":[\"TESLA\"],\"yaxis\":\"y\",\"type\":\"bar\"},{\"alignmentgroup\":\"True\",\"hovertemplate\":\"State=NC<br>Model Year=2022<br>EV Count=%{text}<br>Make=%{y}<extra></extra>\",\"ids\":[\"TESLA\"],\"legendgroup\":\"NC\",\"marker\":{\"color\":\"#FFA15A\",\"pattern\":{\"shape\":\"\"}},\"name\":\"NC\",\"offsetgroup\":\"NC\",\"orientation\":\"h\",\"showlegend\":true,\"text\":[1.0],\"textposition\":\"auto\",\"x\":[1],\"xaxis\":\"x\",\"y\":[\"TESLA\"],\"yaxis\":\"y\",\"type\":\"bar\"},{\"alignmentgroup\":\"True\",\"hovertemplate\":\"State=OR<br>Model Year=2022<br>EV Count=%{text}<br>Make=%{y}<extra></extra>\",\"ids\":[\"TOYOTA\"],\"legendgroup\":\"OR\",\"marker\":{\"color\":\"#19d3f3\",\"pattern\":{\"shape\":\"\"}},\"name\":\"OR\",\"offsetgroup\":\"OR\",\"orientation\":\"h\",\"showlegend\":true,\"text\":[1.0],\"textposition\":\"auto\",\"x\":[1],\"xaxis\":\"x\",\"y\":[\"TOYOTA\"],\"yaxis\":\"y\",\"type\":\"bar\"},{\"alignmentgroup\":\"True\",\"hovertemplate\":\"State=SC<br>Model Year=2022<br>EV Count=%{text}<br>Make=%{y}<extra></extra>\",\"ids\":[\"TESLA\"],\"legendgroup\":\"SC\",\"marker\":{\"color\":\"#FF6692\",\"pattern\":{\"shape\":\"\"}},\"name\":\"SC\",\"offsetgroup\":\"SC\",\"orientation\":\"h\",\"showlegend\":true,\"text\":[1.0],\"textposition\":\"auto\",\"x\":[1],\"xaxis\":\"x\",\"y\":[\"TESLA\"],\"yaxis\":\"y\",\"type\":\"bar\"},{\"alignmentgroup\":\"True\",\"hovertemplate\":\"State=MA<br>Model Year=2022<br>EV Count=%{text}<br>Make=%{y}<extra></extra>\",\"ids\":[\"TESLA\"],\"legendgroup\":\"MA\",\"marker\":{\"color\":\"#B6E880\",\"pattern\":{\"shape\":\"\"}},\"name\":\"MA\",\"offsetgroup\":\"MA\",\"orientation\":\"h\",\"showlegend\":true,\"text\":[2.0],\"textposition\":\"auto\",\"x\":[2],\"xaxis\":\"x\",\"y\":[\"TESLA\"],\"yaxis\":\"y\",\"type\":\"bar\"},{\"alignmentgroup\":\"True\",\"hovertemplate\":\"State=HI<br>Model Year=2022<br>EV Count=%{text}<br>Make=%{y}<extra></extra>\",\"ids\":[\"JEEP\"],\"legendgroup\":\"HI\",\"marker\":{\"color\":\"#ab63fa\",\"pattern\":{\"shape\":\"\"}},\"name\":\"HI\",\"offsetgroup\":\"HI\",\"orientation\":\"h\",\"showlegend\":true,\"text\":[1.0],\"textposition\":\"auto\",\"x\":[1],\"xaxis\":\"x\",\"y\":[\"JEEP\"],\"yaxis\":\"y\",\"type\":\"bar\"},{\"alignmentgroup\":\"True\",\"hovertemplate\":\"State=WY<br>Model Year=2022<br>EV Count=%{text}<br>Make=%{y}<extra></extra>\",\"ids\":[\"BMW\"],\"legendgroup\":\"WY\",\"marker\":{\"color\":\"#B6E880\",\"pattern\":{\"shape\":\"\"}},\"name\":\"WY\",\"offsetgroup\":\"WY\",\"orientation\":\"h\",\"showlegend\":true,\"text\":[1.0],\"textposition\":\"auto\",\"x\":[1],\"xaxis\":\"x\",\"y\":[\"BMW\"],\"yaxis\":\"y\",\"type\":\"bar\"},{\"alignmentgroup\":\"True\",\"hovertemplate\":\"State=OH<br>Model Year=2022<br>EV Count=%{text}<br>Make=%{y}<extra></extra>\",\"ids\":[\"FORD\",\"NISSAN\"],\"legendgroup\":\"OH\",\"marker\":{\"color\":\"#EF553B\",\"pattern\":{\"shape\":\"\"}},\"name\":\"OH\",\"offsetgroup\":\"OH\",\"orientation\":\"h\",\"showlegend\":true,\"text\":[1.0,1.0],\"textposition\":\"auto\",\"x\":[1,1],\"xaxis\":\"x\",\"y\":[\"FORD\",\"NISSAN\"],\"yaxis\":\"y\",\"type\":\"bar\"},{\"alignmentgroup\":\"True\",\"hovertemplate\":\"State=ID<br>Model Year=2022<br>EV Count=%{text}<br>Make=%{y}<extra></extra>\",\"ids\":[\"RIVIAN\",\"TESLA\"],\"legendgroup\":\"ID\",\"marker\":{\"color\":\"#00cc96\",\"pattern\":{\"shape\":\"\"}},\"name\":\"ID\",\"offsetgroup\":\"ID\",\"orientation\":\"h\",\"showlegend\":true,\"text\":[1.0,1.0],\"textposition\":\"auto\",\"x\":[1,1],\"xaxis\":\"x\",\"y\":[\"RIVIAN\",\"TESLA\"],\"yaxis\":\"y\",\"type\":\"bar\"},{\"alignmentgroup\":\"True\",\"hovertemplate\":\"State=DE<br>Model Year=2022<br>EV Count=%{text}<br>Make=%{y}<extra></extra>\",\"ids\":[\"TESLA\"],\"legendgroup\":\"DE\",\"marker\":{\"color\":\"#ab63fa\",\"pattern\":{\"shape\":\"\"}},\"name\":\"DE\",\"offsetgroup\":\"DE\",\"orientation\":\"h\",\"showlegend\":true,\"text\":[1.0],\"textposition\":\"auto\",\"x\":[1],\"xaxis\":\"x\",\"y\":[\"TESLA\"],\"yaxis\":\"y\",\"type\":\"bar\"},{\"alignmentgroup\":\"True\",\"hovertemplate\":\"State=AL<br>Model Year=2022<br>EV Count=%{text}<br>Make=%{y}<extra></extra>\",\"ids\":[\"TOYOTA\"],\"legendgroup\":\"AL\",\"marker\":{\"color\":\"#FFA15A\",\"pattern\":{\"shape\":\"\"}},\"name\":\"AL\",\"offsetgroup\":\"AL\",\"orientation\":\"h\",\"showlegend\":true,\"text\":[1.0],\"textposition\":\"auto\",\"x\":[1],\"xaxis\":\"x\",\"y\":[\"TOYOTA\"],\"yaxis\":\"y\",\"type\":\"bar\"}],\"name\":\"2022\"},{\"data\":[{\"alignmentgroup\":\"True\",\"hovertemplate\":\"State=WA<br>Model Year=2023<br>EV Count=%{text}<br>Make=%{y}<extra></extra>\",\"ids\":[\"AUDI\",\"BMW\",\"CHEVROLET\",\"FORD\",\"GENESIS\",\"HYUNDAI\",\"KIA\",\"LINCOLN\",\"MERCEDES-BENZ\",\"MINI\",\"NISSAN\",\"POLESTAR\",\"SUBARU\",\"TESLA\",\"VOLKSWAGEN\",\"VOLVO\"],\"legendgroup\":\"WA\",\"marker\":{\"color\":\"#636efa\",\"pattern\":{\"shape\":\"\"}},\"name\":\"WA\",\"offsetgroup\":\"WA\",\"orientation\":\"h\",\"showlegend\":true,\"text\":[11.0,73.0,177.0,4.0,18.0,154.0,78.0,4.0,23.0,124.0,149.0,88.0,1.0,890.0,69.0,21.0],\"textposition\":\"auto\",\"x\":[11,73,177,4,18,154,78,4,23,124,149,88,1,890,69,21],\"xaxis\":\"x\",\"y\":[\"AUDI\",\"BMW\",\"CHEVROLET\",\"FORD\",\"GENESIS\",\"HYUNDAI\",\"KIA\",\"LINCOLN\",\"MERCEDES-BENZ\",\"MINI\",\"NISSAN\",\"POLESTAR\",\"SUBARU\",\"TESLA\",\"VOLKSWAGEN\",\"VOLVO\"],\"yaxis\":\"y\",\"type\":\"bar\"},{\"alignmentgroup\":\"True\",\"hovertemplate\":\"State=VA<br>Model Year=2023<br>EV Count=%{text}<br>Make=%{y}<extra></extra>\",\"ids\":[\"KIA\"],\"legendgroup\":\"VA\",\"marker\":{\"color\":\"#EF553B\",\"pattern\":{\"shape\":\"\"}},\"name\":\"VA\",\"offsetgroup\":\"VA\",\"orientation\":\"h\",\"showlegend\":true,\"text\":[1.0],\"textposition\":\"auto\",\"x\":[1],\"xaxis\":\"x\",\"y\":[\"KIA\"],\"yaxis\":\"y\",\"type\":\"bar\"},{\"alignmentgroup\":\"True\",\"hovertemplate\":\"State=CA<br>Model Year=2023<br>EV Count=%{text}<br>Make=%{y}<extra></extra>\",\"ids\":[\"AUDI\"],\"legendgroup\":\"CA\",\"marker\":{\"color\":\"#00cc96\",\"pattern\":{\"shape\":\"\"}},\"name\":\"CA\",\"offsetgroup\":\"CA\",\"orientation\":\"h\",\"showlegend\":true,\"text\":[1.0],\"textposition\":\"auto\",\"x\":[1],\"xaxis\":\"x\",\"y\":[\"AUDI\"],\"yaxis\":\"y\",\"type\":\"bar\"}],\"name\":\"2023\"}]);\n",
       "                        }).then(function(){\n",
       "                            \n",
       "var gd = document.getElementById('29a6f035-e7ec-4780-9e98-e4d3427fa119');\n",
       "var x = new MutationObserver(function (mutations, observer) {{\n",
       "        var display = window.getComputedStyle(gd).display;\n",
       "        if (!display || display === 'none') {{\n",
       "            console.log([gd, 'removed!']);\n",
       "            Plotly.purge(gd);\n",
       "            observer.disconnect();\n",
       "        }}\n",
       "}});\n",
       "\n",
       "// Listen for the removal of the full notebook cells\n",
       "var notebookContainer = gd.closest('#notebook-container');\n",
       "if (notebookContainer) {{\n",
       "    x.observe(notebookContainer, {childList: true});\n",
       "}}\n",
       "\n",
       "// Listen for the clearing of the current output cell\n",
       "var outputEl = gd.closest('.output');\n",
       "if (outputEl) {{\n",
       "    x.observe(outputEl, {childList: true});\n",
       "}}\n",
       "\n",
       "                        })                };                });            </script>        </div>"
      ]
     },
     "metadata": {},
     "output_type": "display_data"
    }
   ],
   "source": [
    "import pandas as pd\n",
    "import plotly.express as px\n",
    "\n",
    "# Step 1: Aggregate the data: count number of EVs for each Make in each year and state\n",
    "make_year_state_count = df.groupby(['Model Year', 'Make', 'State']).size().reset_index(name='EV Count')\n",
    "\n",
    "# Step 2: Create the racing bar plot (with states on y-axis)\n",
    "fig = px.bar(make_year_state_count, \n",
    "             x='EV Count',  # EV Count on the x-axis\n",
    "             y='Make',  # Make on the y-axis\n",
    "             color='State',  # Color bars by state\n",
    "             animation_frame='Model Year',  # Animation over years\n",
    "             animation_group='Make',  # Track the same Make across frames\n",
    "             range_x=[0, make_year_state_count['EV Count'].max()/25],  # Adjust the range of the x-axis\n",
    "             title='Number of Electric Vehicles by Make and State Over the Years',\n",
    "             text='EV Count')\n",
    "\n",
    "# Step 3: Customize the layout\n",
    "fig.update_layout(xaxis_title='Number of Electric Vehicles',\n",
    "                  yaxis_title='Car Make (State)',  # y-axis shows the make and state\n",
    "                  showlegend=True,  # Show the legend to indicate states\n",
    "                  yaxis={'categoryorder':'total ascending'},  # Order makes by total EV count\n",
    "                  height=700)  # Adjust the plot height\n",
    "\n",
    "# Step 4: Display the plot\n",
    "fig.show()\n"
   ]
  },
  {
   "cell_type": "code",
   "execution_count": null,
   "id": "62ebc07c",
   "metadata": {},
   "outputs": [],
   "source": []
  }
 ],
 "metadata": {
  "kernelspec": {
   "display_name": "Python 3 (ipykernel)",
   "language": "python",
   "name": "python3"
  },
  "language_info": {
   "codemirror_mode": {
    "name": "ipython",
    "version": 3
   },
   "file_extension": ".py",
   "mimetype": "text/x-python",
   "name": "python",
   "nbconvert_exporter": "python",
   "pygments_lexer": "ipython3",
   "version": "3.11.5"
  }
 },
 "nbformat": 4,
 "nbformat_minor": 5
}
